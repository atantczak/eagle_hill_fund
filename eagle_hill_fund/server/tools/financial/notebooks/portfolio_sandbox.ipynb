{
 "cells": [
  {
   "cell_type": "code",
   "execution_count": null,
   "id": "0005a1d1",
   "metadata": {},
   "outputs": [],
   "source": [
    "from eagle_hill_fund.server.tools.financial.data.tool import FinancialDataCompiler\n",
    "from eagle_hill_fund.server.tools.financial.strategies.mean_reversion.tool import BollingerBandMeanReversionTool\n",
    "from eagle_hill_fund.server.tools.financial.strategies.tool import BaseStrategyTool"
   ]
  },
  {
   "cell_type": "code",
   "execution_count": null,
   "id": "250aa35f",
   "metadata": {},
   "outputs": [],
   "source": [
    "import pandas as pd"
   ]
  },
  {
   "cell_type": "code",
   "execution_count": null,
   "id": "41f1e54a",
   "metadata": {},
   "outputs": [],
   "source": [
    "ehf_data_tool = FinancialDataCompiler()"
   ]
  },
  {
   "cell_type": "code",
   "execution_count": null,
   "id": "f7c66a7b",
   "metadata": {},
   "outputs": [],
   "source": [
    "exchanges = ehf_data_tool.get_available_exchanges()"
   ]
  },
  {
   "cell_type": "code",
   "execution_count": null,
   "id": "f2235c46",
   "metadata": {},
   "outputs": [],
   "source": [
    "stock_list = ehf_data_tool.screen_companies(exchange=\"NYSE\")"
   ]
  },
  {
   "cell_type": "code",
   "execution_count": null,
   "id": "92c07d2b",
   "metadata": {},
   "outputs": [],
   "source": [
    "stock_list = [stock[\"symbol\"] for stock in stock_list]"
   ]
  },
  {
   "cell_type": "code",
   "execution_count": null,
   "id": "7019aa5e",
   "metadata": {},
   "outputs": [],
   "source": [
    "partial_stock_list = pd.Series(stock_list).sample(1000).tolist()"
   ]
  },
  {
   "cell_type": "code",
   "execution_count": null,
   "id": "8af3cd9f",
   "metadata": {},
   "outputs": [],
   "source": [
    "price_data = ehf_data_tool.compile_price_data(\n",
    "    symbols=partial_stock_list,\n",
    "    from_date=\"2018-09-01\",\n",
    "    to_date=\"2025-09-15\",\n",
    "    interval=\"1day\",\n",
    ")"
   ]
  },
  {
   "cell_type": "code",
   "execution_count": null,
   "id": "831cfdde",
   "metadata": {},
   "outputs": [],
   "source": [
    "from eagle_hill_fund.server.tools.financial.strategies.mean_reversion.tool import BollingerBandConfig\n",
    "from eagle_hill_fund.server.tools.financial.strategies.tool import StrategyConfig\n",
    "\n",
    "position_size_pct = 0.025\n",
    "\n",
    "strat_config = BollingerBandConfig(\n",
    "    symbols=partial_stock_list,\n",
    "    exit_threshold=1.0,\n",
    "    take_profit_pct=0.03,\n",
    "    stop_loss_pct=0.25,\n",
    "    require_ma_uptrend_for_sales=True,\n",
    "    min_volume=0.0,\n",
    "    position_size_pct=position_size_pct,\n",
    "    max_positions=10000\n",
    ")"
   ]
  },
  {
   "cell_type": "code",
   "execution_count": null,
   "id": "ad9f1a81",
   "metadata": {},
   "outputs": [],
   "source": [
    "base_strat_tool = BollingerBandMeanReversionTool(config=strat_config)"
   ]
  },
  {
   "cell_type": "code",
   "execution_count": null,
   "id": "e98a0f93",
   "metadata": {},
   "outputs": [],
   "source": [
    "base_strat_tool.set_data(price_data)"
   ]
  },
  {
   "cell_type": "code",
   "execution_count": null,
   "id": "4de469c8",
   "metadata": {},
   "outputs": [],
   "source": [
    "base_strat_tool.run_backtest()"
   ]
  },
  {
   "cell_type": "code",
   "execution_count": null,
   "id": "16037fa8",
   "metadata": {},
   "outputs": [],
   "source": [
    "base_strat_tool.get_performance_summary()"
   ]
  },
  {
   "cell_type": "code",
   "execution_count": null,
   "id": "7bbf7450",
   "metadata": {},
   "outputs": [],
   "source": [
    "base_strat_tool.backtest_results.keys()"
   ]
  },
  {
   "cell_type": "code",
   "execution_count": null,
   "id": "8edad8d2",
   "metadata": {},
   "outputs": [],
   "source": [
    "base_strat_tool.backtest_results[\"performance\"]"
   ]
  },
  {
   "cell_type": "code",
   "execution_count": null,
   "id": "c3a7aefd",
   "metadata": {},
   "outputs": [],
   "source": [
    "completed_trades_df = base_strat_tool.portfolio.get_trade_analysis()[\"completed_trades_data\"]"
   ]
  },
  {
   "cell_type": "code",
   "execution_count": null,
   "id": "5518fa6d",
   "metadata": {},
   "outputs": [],
   "source": [
    "completed_trades_df[completed_trades_df[\"is_winner\"] == False]"
   ]
  },
  {
   "cell_type": "code",
   "execution_count": null,
   "id": "376d5b15",
   "metadata": {},
   "outputs": [],
   "source": []
  }
 ],
 "metadata": {
  "kernelspec": {
   "display_name": ".venv",
   "language": "python",
   "name": "python3"
  },
  "language_info": {
   "codemirror_mode": {
    "name": "ipython",
    "version": 3
   },
   "file_extension": ".py",
   "mimetype": "text/x-python",
   "name": "python",
   "nbconvert_exporter": "python",
   "pygments_lexer": "ipython3",
   "version": "3.9.6"
  }
 },
 "nbformat": 4,
 "nbformat_minor": 5
}
