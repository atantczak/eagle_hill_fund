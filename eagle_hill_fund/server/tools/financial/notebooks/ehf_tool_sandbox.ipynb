{
 "cells": [
  {
   "cell_type": "code",
   "execution_count": null,
   "id": "0005a1d1",
   "metadata": {},
   "outputs": [],
   "source": [
    "from eagle_hill_fund.server.tools.financial.data.tool import FinancialDataCompiler\n",
    "from eagle_hill_fund.server.tools.financial.strategies.mean_reversion.tool import BollingerBandMeanReversionTool\n",
    "from eagle_hill_fund.server.tools.financial.strategies.tool import BaseStrategyTool"
   ]
  },
  {
   "cell_type": "code",
   "execution_count": null,
   "id": "250aa35f",
   "metadata": {},
   "outputs": [],
   "source": [
    "import pandas as pd"
   ]
  },
  {
   "cell_type": "code",
   "execution_count": null,
   "id": "41f1e54a",
   "metadata": {},
   "outputs": [],
   "source": [
    "ehf_data_tool = FinancialDataCompiler()"
   ]
  },
  {
   "cell_type": "code",
   "execution_count": null,
   "id": "f7c66a7b",
   "metadata": {},
   "outputs": [],
   "source": [
    "exchanges = ehf_data_tool.get_available_exchanges()"
   ]
  },
  {
   "cell_type": "code",
   "execution_count": null,
   "id": "f2235c46",
   "metadata": {},
   "outputs": [],
   "source": [
    "stock_list = ehf_data_tool.screen_companies(exchange=\"NYSE\")"
   ]
  },
  {
   "cell_type": "code",
   "execution_count": null,
   "id": "92c07d2b",
   "metadata": {},
   "outputs": [],
   "source": [
    "stock_list = [stock[\"symbol\"] for stock in stock_list]"
   ]
  },
  {
   "cell_type": "code",
   "execution_count": null,
   "id": "7019aa5e",
   "metadata": {},
   "outputs": [],
   "source": [
    "partial_stock_list = pd.Series(stock_list).sample(1000).tolist()"
   ]
  },
  {
   "cell_type": "code",
   "execution_count": null,
   "id": "8af3cd9f",
   "metadata": {},
   "outputs": [],
   "source": [
    "price_data = ehf_data_tool.compile_price_data(\n",
    "    symbols=partial_stock_list,\n",
    "    from_date=\"1995-09-01\",\n",
    "    to_date=\"2025-09-15\",\n",
    "    interval=\"1day\"\n",
    ")"
   ]
  },
  {
   "cell_type": "code",
   "execution_count": null,
   "id": "230fca7c",
   "metadata": {},
   "outputs": [],
   "source": [
    "# Import the configuration class\n",
    "from eagle_hill_fund.server.tools.financial.strategies.trend.tool import DipBuyingConfig, DipBuyingTool\n",
    "\n",
    "from datetime import datetime\n",
    "# Create configuration\n",
    "config = DipBuyingConfig(\n",
    "    name=\"MyDipStrategy\",\n",
    "    symbols=partial_stock_list,\n",
    "    dip_threshold=0.05,      # Buy on 3% dips (more frequent)\n",
    "    profit_target=0.0005,      # Sell at 5% profit (more frequent exits)\n",
    "    stop_loss=0.25,          # Stop loss at 10% (less restrictive)\n",
    "    lookback_period=10,      # 10-day lookback (more signals)\n",
    "    min_volume_ratio=0.5,    # Allow lower volume (less restrictive)\n",
    "    min_price=1.0,           # Allow cheaper stocks\n",
    "    max_price=10000.0,       # Allow expensive stocks\n",
    "    max_holding_days=252,     # Hold up to 60 days (less restrictive)\n",
    "    position_size_pct=1/len(partial_stock_list),   # 20% of portfolio per position (larger positions)\n",
    "    max_positions=len(partial_stock_list)         # Allow up to 20 open positions\n",
    ")\n",
    "\n",
    "# Create and run strategy\n",
    "strategy = DipBuyingTool(config)"
   ]
  },
  {
   "cell_type": "code",
   "execution_count": null,
   "id": "2d7dd1ea",
   "metadata": {},
   "outputs": [],
   "source": [
    "# Load data into the strategy\n",
    "strategy.set_data(price_data)\n",
    "\n",
    "# Check data loading\n",
    "print(f\"Data loaded: {strategy.data is not None}\")\n",
    "print(f\"Number of symbols: {len(strategy.config.symbols)}\")\n",
    "print(f\"Date range: {strategy.data['date'].min()} to {strategy.data['date'].max()}\")\n",
    "print(f\"Total data points: {len(strategy.data)}\")\n",
    "\n",
    "# Show sample data\n",
    "print(\"\\nSample data:\")\n",
    "print(strategy.data.head())\n"
   ]
  },
  {
   "cell_type": "code",
   "execution_count": null,
   "id": "57f3d602",
   "metadata": {},
   "outputs": [],
   "source": [
    "# Run a full backtest\n",
    "print(\"Running backtest...\")\n",
    "print(\"This may take a few minutes...\")\n",
    "\n",
    "# Run the backtest\n",
    "strategy.run_backtest()"
   ]
  },
  {
   "cell_type": "code",
   "execution_count": null,
   "id": "c6c043c5",
   "metadata": {},
   "outputs": [],
   "source": [
    "# Get results\n",
    "results = strategy.get_performance_summary()\n",
    "\n",
    "print(\"\\n=== BACKTEST RESULTS ===\")\n",
    "print(f\"Strategy: {results['strategy_name']}\")\n",
    "print(f\"Total Return: {results['total_return']:.2%}\")\n",
    "print(f\"Annualized Return: {results['annualized_return']:.2%}\")\n",
    "print(f\"Sharpe Ratio: {results['sharpe_ratio']:.3f}\")\n",
    "print(f\"Max Drawdown: {results['max_drawdown']:.2%}\")\n",
    "print(f\"Win Rate: {results['win_rate']:.2%}\")\n",
    "print(f\"Total Trades: {results['total_trades']}\")\n",
    "print(f\"Final Portfolio Value: ${results['final_value']:,.2f}\")\n",
    "\n",
    "# Show some trade details\n",
    "print(f\"\\nFirst 10 trades:\")\n",
    "execution_log = strategy.execution_log[:10]\n",
    "for trade in execution_log:\n",
    "    print(f\"  {trade['timestamp']}: {trade['symbol']} {trade['action']} {trade['quantity']} @ ${trade['price']:.2f}\")"
   ]
  },
  {
   "cell_type": "code",
   "execution_count": null,
   "id": "75136aa7",
   "metadata": {},
   "outputs": [],
   "source": [
    "results"
   ]
  },
  {
   "cell_type": "code",
   "execution_count": null,
   "id": "b59f0f74",
   "metadata": {},
   "outputs": [],
   "source": [
    "# SIMPLE FIX: Just run this cell instead of the broken one above\n",
    "import plotly.graph_objs as go\n",
    "from plotly.subplots import make_subplots\n",
    "import numpy as np\n",
    "\n",
    "# Get portfolio snapshots for plotting\n",
    "snapshots = strategy.portfolio.snapshots\n",
    "dates = [snapshot.timestamp for snapshot in snapshots]\n",
    "portfolio_values = [snapshot.total_value for snapshot in snapshots]\n",
    "\n",
    "# Create a simple 2x2 plot without the problematic 4th subplot\n",
    "fig = make_subplots(\n",
    "    rows=2, cols=2,\n",
    "    subplot_titles=(\n",
    "        \"Portfolio Value Over Time\",\n",
    "        \"Drawdown Over Time\",\n",
    "        \"Distribution of Monthly Returns\",\n",
    "        \"Strategy Info\"\n",
    "    )\n",
    ")\n",
    "\n",
    "# Portfolio value\n",
    "fig.add_trace(go.Scatter(x=dates, y=portfolio_values, mode='lines', name='Portfolio Value'), row=1, col=1)\n",
    "\n",
    "# Drawdown\n",
    "drawdowns = []\n",
    "peak = portfolio_values[0]\n",
    "for value in portfolio_values:\n",
    "    if value > peak:\n",
    "        peak = value\n",
    "    drawdown = (value - peak) / peak\n",
    "    drawdowns.append(drawdown)\n",
    "\n",
    "fig.add_trace(go.Scatter(x=dates, y=drawdowns, fill='tozeroy', mode='lines', name='Drawdown'), row=1, col=2)\n",
    "\n",
    "# Monthly returns\n",
    "monthly_returns = []\n",
    "for i in range(1, len(portfolio_values)):\n",
    "    monthly_return = (portfolio_values[i] - portfolio_values[i-1]) / portfolio_values[i-1]\n",
    "    monthly_returns.append(monthly_return)\n",
    "\n",
    "fig.add_trace(go.Histogram(x=monthly_returns, nbinsx=30, name='Returns'), row=2, col=1)\n",
    "\n",
    "# Strategy info as text in 4th subplot\n",
    "strategy_info = strategy.get_strategy_info()\n",
    "\n",
    "# Add text as a scatter plot in the 4th subplot\n",
    "fig.add_trace(go.Scatter(\n",
    "    x=[0.5], y=[0.5], \n",
    "    text=[\"\"],\n",
    "    mode='text',\n",
    "    textfont=dict(size=12, family=\"monospace\"),\n",
    "    showlegend=False\n",
    "), row=2, col=2)\n",
    "\n",
    "# Update layout\n",
    "fig.update_layout(\n",
    "    height=800, width=1200,\n",
    "    title_text=\"Strategy Performance Overview\",\n",
    "    showlegend=False,\n",
    "    template=\"plotly_white\"\n",
    ")\n",
    "\n",
    "# Hide axes for info panel\n",
    "fig.update_xaxes(visible=False, row=2, col=2)\n",
    "fig.update_yaxes(visible=False, row=2, col=2)\n",
    "\n",
    "fig.show()\n"
   ]
  },
  {
   "cell_type": "code",
   "execution_count": null,
   "id": "ad9f1a81",
   "metadata": {},
   "outputs": [],
   "source": []
  },
  {
   "cell_type": "code",
   "execution_count": null,
   "id": "e98a0f93",
   "metadata": {},
   "outputs": [],
   "source": []
  }
 ],
 "metadata": {
  "kernelspec": {
   "display_name": ".venv",
   "language": "python",
   "name": "python3"
  },
  "language_info": {
   "codemirror_mode": {
    "name": "ipython",
    "version": 3
   },
   "file_extension": ".py",
   "mimetype": "text/x-python",
   "name": "python",
   "nbconvert_exporter": "python",
   "pygments_lexer": "ipython3",
   "version": "3.11.11"
  }
 },
 "nbformat": 4,
 "nbformat_minor": 5
}
