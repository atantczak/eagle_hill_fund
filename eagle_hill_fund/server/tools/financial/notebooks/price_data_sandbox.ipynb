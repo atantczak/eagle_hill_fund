{
 "cells": [
  {
   "cell_type": "code",
   "execution_count": null,
   "id": "7d6610a5",
   "metadata": {},
   "outputs": [],
   "source": [
    "import pandas as pd"
   ]
  },
  {
   "cell_type": "code",
   "execution_count": null,
   "id": "4ff93c25",
   "metadata": {},
   "outputs": [],
   "source": [
    "from eagle_hill_fund.server.integrations.financial.financial_modeling_prep.tool import FinancialModelingPrepTool"
   ]
  },
  {
   "cell_type": "code",
   "execution_count": null,
   "id": "03c9069c",
   "metadata": {},
   "outputs": [],
   "source": [
    "fmp_price_tool = FinancialModelingPrepTool()"
   ]
  },
  {
   "cell_type": "code",
   "execution_count": null,
   "id": "be2a1724",
   "metadata": {},
   "outputs": [],
   "source": [
    "stock_list = fmp_price_tool.get_stock_list(actively_trading=True)"
   ]
  },
  {
   "cell_type": "code",
   "execution_count": null,
   "id": "941aa699",
   "metadata": {},
   "outputs": [],
   "source": [
    "from datetime import date\n",
    "\n",
    "# Define the list of big name stocks (all have been around for decades)\n",
    "symbols = [\"GE\", \"JPM\", \"AAPL\", \"GOOG\", \"IBM\"]\n",
    "\n",
    "# Set the date range from 1995-01-01 to today\n",
    "from_date = \"1995-01-01\"\n",
    "to_date = date.today().isoformat()\n",
    "\n",
    "# Fetch daily prices for each symbol and concatenate into a single DataFrame\n",
    "all_daily_prices = []\n",
    "for symbol in symbols:\n",
    "    daily_prices = fmp_price_tool.price_data_tool.get_daily_prices(symbol=symbol, from_date=from_date, to_date=to_date)\n",
    "    if daily_prices:\n",
    "        all_daily_prices.extend(daily_prices)\n",
    "\n",
    "# Create DataFrame from the collected daily prices\n",
    "df_daily_prices = pd.DataFrame(all_daily_prices)\n"
   ]
  },
  {
   "cell_type": "code",
   "execution_count": null,
   "id": "0f3f0d85",
   "metadata": {},
   "outputs": [],
   "source": [
    "df_daily_prices"
   ]
  },
  {
   "cell_type": "code",
   "execution_count": null,
   "id": "bc9d1d31",
   "metadata": {},
   "outputs": [],
   "source": [
    "financials = fmp_price_tool.financials_tool.get_financial_statements(symbol=\"AAPL\", statement=\"income-statement\", period=\"annual\")"
   ]
  },
  {
   "cell_type": "code",
   "execution_count": null,
   "id": "4e9919bb",
   "metadata": {},
   "outputs": [],
   "source": [
    "financials"
   ]
  },
  {
   "cell_type": "code",
   "execution_count": null,
   "id": "2da3d6f6",
   "metadata": {},
   "outputs": [],
   "source": []
  }
 ],
 "metadata": {
  "kernelspec": {
   "display_name": ".venv",
   "language": "python",
   "name": "python3"
  },
  "language_info": {
   "codemirror_mode": {
    "name": "ipython",
    "version": 3
   },
   "file_extension": ".py",
   "mimetype": "text/x-python",
   "name": "python",
   "nbconvert_exporter": "python",
   "pygments_lexer": "ipython3",
   "version": "3.9.6"
  }
 },
 "nbformat": 4,
 "nbformat_minor": 5
}
