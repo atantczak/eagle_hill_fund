{
 "cells": [
  {
   "cell_type": "code",
   "execution_count": 13,
   "id": "initial_id",
   "metadata": {
    "collapsed": true,
    "ExecuteTime": {
     "end_time": "2024-07-21T17:00:42.582525Z",
     "start_time": "2024-07-21T17:00:42.580596Z"
    }
   },
   "outputs": [],
   "source": [
    "from payfusion.server.payfusion.apps.integrations.aws.ecs.tool import ECSClient"
   ]
  },
  {
   "cell_type": "code",
   "outputs": [],
   "source": [
    "ecs_obj = ECSClient()"
   ],
   "metadata": {
    "collapsed": false,
    "ExecuteTime": {
     "end_time": "2024-07-21T17:00:42.640406Z",
     "start_time": "2024-07-21T17:00:42.587714Z"
    }
   },
   "id": "aca5d503e96c9226",
   "execution_count": 14
  },
  {
   "cell_type": "code",
   "outputs": [],
   "source": [
    "for i in range(0, 1):\n",
    "    response = ecs_obj.execute_command_in_task(\n",
    "        container_name=\"PFProdV1\",\n",
    "        command=\"python3 payfusion/server/payfusion/apps/integrations/aws/ses/tests/send_email_test.py\"\n",
    "    )"
   ],
   "metadata": {
    "collapsed": false,
    "ExecuteTime": {
     "end_time": "2024-07-21T17:00:43.398229Z",
     "start_time": "2024-07-21T17:00:42.641888Z"
    }
   },
   "id": "316a6c9eb5995626",
   "execution_count": 15
  },
  {
   "cell_type": "code",
   "outputs": [],
   "source": [],
   "metadata": {
    "collapsed": false,
    "ExecuteTime": {
     "end_time": "2024-07-21T17:00:43.400115Z",
     "start_time": "2024-07-21T17:00:43.398447Z"
    }
   },
   "id": "5f897396649ca6cd",
   "execution_count": 15
  }
 ],
 "metadata": {
  "kernelspec": {
   "display_name": "Python 3",
   "language": "python",
   "name": "python3"
  },
  "language_info": {
   "codemirror_mode": {
    "name": "ipython",
    "version": 2
   },
   "file_extension": ".py",
   "mimetype": "text/x-python",
   "name": "python",
   "nbconvert_exporter": "python",
   "pygments_lexer": "ipython2",
   "version": "2.7.6"
  }
 },
 "nbformat": 4,
 "nbformat_minor": 5
}
