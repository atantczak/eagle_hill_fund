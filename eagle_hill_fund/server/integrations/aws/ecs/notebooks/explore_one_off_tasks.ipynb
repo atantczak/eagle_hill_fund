{
 "cells": [
  {
   "cell_type": "code",
   "execution_count": 4,
   "id": "initial_id",
   "metadata": {
    "collapsed": true,
    "ExecuteTime": {
     "end_time": "2024-11-11T16:17:22.082587Z",
     "start_time": "2024-11-11T16:17:22.079969Z"
    }
   },
   "outputs": [],
   "source": [
    "from payfusion.server.payfusion.apps.integrations.aws.ecs.tool import ECSClient"
   ]
  },
  {
   "cell_type": "code",
   "outputs": [],
   "source": [
    "ecs_obj = ECSClient()"
   ],
   "metadata": {
    "collapsed": false,
    "ExecuteTime": {
     "end_time": "2024-11-11T16:17:22.384891Z",
     "start_time": "2024-11-11T16:17:22.380277Z"
    }
   },
   "id": "6529c2581f84a9b4",
   "execution_count": 5
  },
  {
   "cell_type": "code",
   "outputs": [
    {
     "data": {
      "text/plain": "{'clusterArn': 'arn:aws:ecs:us-east-2:395720007233:cluster/PFProdV1Cluster',\n 'containerArn': 'arn:aws:ecs:us-east-2:395720007233:container/PFProdV1Cluster/52d8aa53f1cf456a8b6bcb56cb89f65f/ab87deb7-4384-470a-b377-31244f23d4d4',\n 'containerName': 'PFProdV1',\n 'interactive': True,\n 'session': {'sessionId': 'ecs-execute-command-ujno6du5th3qunkxjg5ch6cfga',\n  'streamUrl': 'wss://ssmmessages.us-east-2.amazonaws.com/v1/data-channel/ecs-execute-command-ujno6du5th3qunkxjg5ch6cfga?role=publish_subscribe&cell-number=AAEAARXZtcAb3Sa8YUk20rFVs61JObkyBJtPV9VeUcbggyUqAAAAAGcyLlX8KD9AndkZ6otj6A2nR1GolLbzTb4s5r8an6nSzGoQohiB/nxk',\n  'tokenValue': 'AAEAAcEL8jpmCNPNC/KRxKIf1+G5TBiL7UgKM1BWy03WgWwGAAAAAGcyLlUrW5+APonzn89STHVh6d360FHVkyqGAgsuTCLV0LBlBtBsm3mwM63u/w4yqIYEg8tVT93gWBytj8o7UKeIsChyQk3cdKp2YNh9d+BxVFTpYLIx6i/Zw0WvIpTHGqQr9Yc61FgiNtygLJWvA7vU1GBpxeRWIy21AHq3KmQ3+EaCj367bIGfYnzP8cZjbV/YtLbIOgXnNkCm1201kKH3NkV6dapKJrKLrNZ9HETPwI/yA337klbEgI/ifq10WH7whBNr3beWU4VxfcvsIbOUA2/Y7fa6Bgt/Zcn/NFfdLNSzbni3tlU9sGFtYqNlbKfl10FioY8xq5x81cloyWuPvsvxXzQ0cqBRX78tpwu1gQ2XjYWQqCDp7QU/oPoUr7+x1sJB+7cDuy8rNZgBOpP7LKcoBlZmpJQ6YhYXkIk79AfO9pqi+8bMjycekX+DDSZkVzx8cK6itlhcxtFmwZM+ypMpvfctiA0Vi8zq639SIyDH3OMOAVLVRYBwYAxdfj3D/Aw1VJNwCn88RoXq9d/DyxkOVoNeOuM6ilzxdbZSW3E8BhAvCMuvKzoapJGuzNP9zahlO/34ItI7C2cKZRY81rv4MtqugXjzGfJf8IBypX8gXsq8z2n6jXUZ5QApheNUztc4K22YMrUjs3aB67Z6tN5YqupsuXR1Mc+03v9RqzpkcfcDG6DNg8pTBsNo+LuebaI2PkDuJEV5F2mDfXp8LM262k8I5Rdh0R/mw9VCJXHp6WwuT+6BSqR/46v7t3ss1MJjQobYxIk8xF+wXOc90EzbZ2d+C3eaYnu/Yj22sON40MYn+st6yCRuEGpsQgTs7Z9OpZoRdrtSSGNfdWSkFI3ekf0tmW/Aey2OP/GO4CjDCEqrouX06j4kqyfopyt4xURvyaLx/yL9ZJ8cSPsbvg=='},\n 'taskArn': 'arn:aws:ecs:us-east-2:395720007233:task/PFProdV1Cluster/52d8aa53f1cf456a8b6bcb56cb89f65f',\n 'ResponseMetadata': {'RequestId': '74ddc00f-aeff-45b5-9336-739bc888d7aa',\n  'HTTPStatusCode': 200,\n  'HTTPHeaders': {'x-amzn-requestid': '74ddc00f-aeff-45b5-9336-739bc888d7aa',\n   'content-type': 'application/x-amz-json-1.1',\n   'content-length': '1698',\n   'date': 'Mon, 11 Nov 2024 16:18:28 GMT'},\n  'RetryAttempts': 0}}"
     },
     "execution_count": 7,
     "metadata": {},
     "output_type": "execute_result"
    }
   ],
   "source": [
    "ecs_obj.execute_command_in_task(\n",
    "    container_name=\"PFProdV1\",\n",
    "    command=\"python3 payfusion/server/payfusion/apps/data_pipelines/pipeline_testing/connectivity/run_script.py\",\n",
    ")"
   ],
   "metadata": {
    "collapsed": false,
    "ExecuteTime": {
     "end_time": "2024-11-11T16:18:29.326734Z",
     "start_time": "2024-11-11T16:18:28.668945Z"
    }
   },
   "id": "cf7ebfa9b38b038f",
   "execution_count": 7
  },
  {
   "cell_type": "code",
   "outputs": [],
   "source": [],
   "metadata": {
    "collapsed": false,
    "ExecuteTime": {
     "end_time": "2024-11-11T15:55:22.431102Z",
     "start_time": "2024-11-11T15:55:22.427816Z"
    }
   },
   "id": "4a91d183d4752ca6",
   "execution_count": 3
  }
 ],
 "metadata": {
  "kernelspec": {
   "display_name": "Python 3",
   "language": "python",
   "name": "python3"
  },
  "language_info": {
   "codemirror_mode": {
    "name": "ipython",
    "version": 2
   },
   "file_extension": ".py",
   "mimetype": "text/x-python",
   "name": "python",
   "nbconvert_exporter": "python",
   "pygments_lexer": "ipython2",
   "version": "2.7.6"
  }
 },
 "nbformat": 4,
 "nbformat_minor": 5
}
