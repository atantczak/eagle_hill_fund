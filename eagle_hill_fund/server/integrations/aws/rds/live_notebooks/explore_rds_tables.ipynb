{
 "cells": [
  {
   "cell_type": "code",
   "execution_count": null,
   "id": "b362503e",
   "metadata": {},
   "outputs": [],
   "source": [
    "from payfusion.server.payfusion.apps.integrations.aws.rds.tool import RDS\n",
    "from payfusion.server.payfusion.apps.integrations.aws.secrets_manager.tool import SMClient\n",
    "from payfusion.server.payfusion.apps.tools.tables.portal_tables.tool import PortalTablesTool"
   ]
  },
  {
   "cell_type": "code",
   "execution_count": null,
   "id": "2dd7590b",
   "metadata": {},
   "outputs": [],
   "source": [
    "import pandas as pd"
   ]
  },
  {
   "cell_type": "code",
   "execution_count": null,
   "id": "2a27dffd",
   "metadata": {},
   "outputs": [],
   "source": [
    "\n",
    "portal_obj = PortalTablesTool()\n",
    "sm_client = SMClient()\n",
    "\n",
    "ben_cloud_secrets = sm_client.get_secret(\"BenefitCloudParentSecrets\")"
   ]
  },
  {
   "cell_type": "code",
   "execution_count": null,
   "id": "26f1a93b",
   "metadata": {},
   "outputs": [],
   "source": [
    "# Get RDS credentials from Secrets Manager\n",
    "rds_username = ben_cloud_secrets[\"benefit-cloud_incoming_aws-rds_api_username\"]\n",
    "rds_password = ben_cloud_secrets[\"benefit-cloud_incoming_aws-rds_api_password\"]\n",
    "rds_host = ben_cloud_secrets[\"benefit-cloud_incoming_aws-rds_api_host\"]\n",
    "\n",
    "rds_obj = RDS(\n",
    "    db_name=\"BenCloudFeedData\",\n",
    "    db_user=rds_username,\n",
    "    db_password=rds_password,\n",
    "    host=rds_host,\n",
    ")"
   ]
  },
  {
   "cell_type": "code",
   "execution_count": null,
   "id": "559f297a",
   "metadata": {},
   "outputs": [],
   "source": [
    "rds_obj.table_name = \"billing\"\n",
    "#rds_obj.wipe_table(table_name=\"billing\")"
   ]
  },
  {
   "cell_type": "code",
   "execution_count": null,
   "id": "7af608a7",
   "metadata": {},
   "outputs": [],
   "source": [
    "rds_obj.table_name = \"per_feed\"\n",
    "df = rds_obj.pull_dataframe_from_rds()"
   ]
  },
  {
   "cell_type": "code",
   "execution_count": null,
   "id": "2139512c",
   "metadata": {},
   "outputs": [],
   "source": [
    "df"
   ]
  },
  {
   "cell_type": "code",
   "execution_count": null,
   "id": "981c7983",
   "metadata": {},
   "outputs": [],
   "source": []
  }
 ],
 "metadata": {
  "kernelspec": {
   "display_name": "venv",
   "language": "python",
   "name": "python3"
  },
  "language_info": {
   "codemirror_mode": {
    "name": "ipython",
    "version": 3
   },
   "file_extension": ".py",
   "mimetype": "text/x-python",
   "name": "python",
   "nbconvert_exporter": "python",
   "pygments_lexer": "ipython3",
   "version": "3.11.11"
  }
 },
 "nbformat": 4,
 "nbformat_minor": 5
}
