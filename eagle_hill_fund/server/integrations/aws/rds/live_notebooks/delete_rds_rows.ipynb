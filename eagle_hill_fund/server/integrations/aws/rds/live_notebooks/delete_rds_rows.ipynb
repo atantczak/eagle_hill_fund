{
 "cells": [
  {
   "cell_type": "code",
   "execution_count": null,
   "id": "f440f4cf",
   "metadata": {},
   "outputs": [],
   "source": [
    "import pandas as pd\n",
    "\n",
    "from payfusion.server.payfusion.apps.integrations.aws.rds.tool import RDS\n",
    "from payfusion.server.payfusion.apps.integrations.aws.secrets_manager.tool import SMClient\n",
    "from payfusion.server.payfusion.apps.tools.tables.portal_tables.tool import PortalTablesTool"
   ]
  },
  {
   "cell_type": "code",
   "execution_count": null,
   "id": "ef40570e",
   "metadata": {},
   "outputs": [],
   "source": [
    "\n",
    "portal_obj = PortalTablesTool()\n",
    "sm_client = SMClient()\n",
    "\n",
    "ben_cloud_secrets = sm_client.get_secret(\"BenefitCloudParentSecrets\")"
   ]
  },
  {
   "cell_type": "code",
   "execution_count": null,
   "id": "c3f017ce",
   "metadata": {},
   "outputs": [],
   "source": [
    "# Get RDS credentials from Secrets Manager\n",
    "rds_username = ben_cloud_secrets[\"benefit-cloud_incoming_aws-rds_api_username\"]\n",
    "rds_password = ben_cloud_secrets[\"benefit-cloud_incoming_aws-rds_api_password\"]\n",
    "rds_host = ben_cloud_secrets[\"benefit-cloud_incoming_aws-rds_api_host\"]\n",
    "\n",
    "rds_obj = RDS(\n",
    "    db_name=\"BenCloudFeedData\",\n",
    "    db_user=rds_username,\n",
    "    db_password=rds_password,\n",
    "    host=rds_host,\n",
    ")"
   ]
  },
  {
   "cell_type": "code",
   "execution_count": null,
   "id": "0a2f9fd7",
   "metadata": {},
   "outputs": [],
   "source": [
    "field = \"feed_id\"\n",
    "value = \"839edb3c-0dd7-54d9-84b2-a4b8861c0eb2\"\n",
    "rds_obj.table_name = \"meta_data\""
   ]
  },
  {
   "cell_type": "code",
   "execution_count": null,
   "id": "f535f480",
   "metadata": {},
   "outputs": [],
   "source": [
    "rds_obj.delete_rows(field=field, value=value)"
   ]
  }
 ],
 "metadata": {
  "kernelspec": {
   "display_name": "venv",
   "language": "python",
   "name": "python3"
  },
  "language_info": {
   "codemirror_mode": {
    "name": "ipython",
    "version": 3
   },
   "file_extension": ".py",
   "mimetype": "text/x-python",
   "name": "python",
   "nbconvert_exporter": "python",
   "pygments_lexer": "ipython3",
   "version": "3.11.11"
  }
 },
 "nbformat": 4,
 "nbformat_minor": 5
}
