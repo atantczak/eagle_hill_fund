{
 "cells": [
  {
   "cell_type": "code",
   "execution_count": 1,
   "id": "87d7637d",
   "metadata": {},
   "outputs": [],
   "source": [
    "from payfusion.server.payfusion.apps.tools.tables.portal_tables.tool import PortalTablesTool"
   ]
  },
  {
   "cell_type": "code",
   "execution_count": 13,
   "id": "6835d385",
   "metadata": {},
   "outputs": [],
   "source": [
    "from payfusion.server.payfusion.apps.integrations.aws.rds.tool import RDS\n",
    "from payfusion.server.payfusion.apps.integrations.aws.secrets_manager.tool import SMClient\n",
    "from payfusion.server.payfusion.apps.integrations.aws.ddb.tool import DDB"
   ]
  },
  {
   "cell_type": "code",
   "execution_count": 3,
   "id": "92ff6ba2",
   "metadata": {},
   "outputs": [],
   "source": [
    "\n",
    "portal_obj = PortalTablesTool()\n",
    "sm_client = SMClient()\n",
    "\n",
    "ben_cloud_secrets = sm_client.get_secret(\"BenefitCloudParentSecrets\")"
   ]
  },
  {
   "cell_type": "code",
   "execution_count": 17,
   "id": "3de1b1e3",
   "metadata": {},
   "outputs": [],
   "source": [
    "ddb_obj = DDB(table_name=\"payfusion_feed_meta_data_table\")"
   ]
  },
  {
   "cell_type": "code",
   "execution_count": 18,
   "id": "ac033a9a",
   "metadata": {},
   "outputs": [],
   "source": [
    "meta_data = ddb_obj.grab_entire_table(to_df=True)"
   ]
  },
  {
   "cell_type": "code",
   "execution_count": 23,
   "id": "70b6e53d",
   "metadata": {},
   "outputs": [],
   "source": [
    "per_feed_ddb_obj = DDB(table_name=\"payfusion_per_feed_table\")\n",
    "per_feed_data = per_feed_ddb_obj.grab_entire_table(to_df=True)"
   ]
  },
  {
   "cell_type": "code",
   "execution_count": 25,
   "id": "87f53217",
   "metadata": {},
   "outputs": [],
   "source": [
    "billing_ddb_obj = DDB(table_name=\"payfusion_per_feed_billing_table\")\n",
    "billing_data = billing_ddb_obj.grab_entire_table(to_df=True)"
   ]
  },
  {
   "cell_type": "code",
   "execution_count": 27,
   "id": "312188da",
   "metadata": {},
   "outputs": [],
   "source": [
    "# Get RDS credentials from Secrets Manager\n",
    "rds_username = ben_cloud_secrets[\"benefit-cloud_incoming_aws-rds_api_username\"]\n",
    "rds_password = ben_cloud_secrets[\"benefit-cloud_incoming_aws-rds_api_password\"]\n",
    "rds_host = ben_cloud_secrets[\"benefit-cloud_incoming_aws-rds_api_host\"]\n",
    "\n",
    "rds_obj = RDS(\n",
    "    db_name=\"BenCloudFeedData\",\n",
    "    db_user=rds_username,\n",
    "    db_password=rds_password,\n",
    "    host=rds_host,\n",
    ")\n"
   ]
  },
  {
   "cell_type": "code",
   "execution_count": null,
   "id": "aac4db4f",
   "metadata": {},
   "outputs": [],
   "source": [
    "rds_obj.table_name = \"billing\"\n",
    "# rds_obj.push_dataframe_to_rds(billing_data, if_exists=\"append\")"
   ]
  },
  {
   "cell_type": "code",
   "execution_count": null,
   "id": "8127b3ef",
   "metadata": {},
   "outputs": [],
   "source": []
  }
 ],
 "metadata": {
  "kernelspec": {
   "display_name": "venv",
   "language": "python",
   "name": "python3"
  },
  "language_info": {
   "codemirror_mode": {
    "name": "ipython",
    "version": 3
   },
   "file_extension": ".py",
   "mimetype": "text/x-python",
   "name": "python",
   "nbconvert_exporter": "python",
   "pygments_lexer": "ipython3",
   "version": "3.11.11"
  }
 },
 "nbformat": 4,
 "nbformat_minor": 5
}
