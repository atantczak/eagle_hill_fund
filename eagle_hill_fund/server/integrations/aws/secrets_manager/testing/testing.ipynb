{
 "cells": [
  {
   "cell_type": "code",
   "execution_count": 1,
   "metadata": {},
   "outputs": [],
   "source": [
    "from payfusion.server.payfusion.apps.integrations.aws.secrets_manager.tool import SMClient"
   ]
  },
  {
   "cell_type": "code",
   "execution_count": 5,
   "metadata": {
    "pycharm": {
     "name": "#%%\n"
    }
   },
   "outputs": [
    {
     "name": "stdout",
     "output_type": "stream",
     "text": [
      "9gwhxgtodvb2f90qv9od5wjrdw3iisch\n",
      "MC8005\n",
      "Cascade2023!\n"
     ]
    }
   ],
   "source": [
    "client = SMClient()\n",
    "\n",
    "api_key = client.get_secret(\"greenleaf_one_world_ventures_ukg_api_key\")\n",
    "short_name = client.get_secret(\"greenleaf_one_world_ventures_ukg_company_short_name\")\n",
    "password = client.get_secret(\"greenleaf_one_world_ventures_ukg_password\")\n",
    "\n",
    "print(api_key)\n",
    "print(short_name)\n",
    "print(password)"
   ]
  }
 ],
 "metadata": {
  "kernelspec": {
   "name": "venv",
   "language": "python",
   "display_name": "venv"
  },
  "language_info": {
   "codemirror_mode": {
    "name": "ipython",
    "version": 3
   },
   "file_extension": ".py",
   "mimetype": "text/x-python",
   "name": "python",
   "nbconvert_exporter": "python",
   "pygments_lexer": "ipython3",
   "version": "3.7.9"
  },
  "orig_nbformat": 4
 },
 "nbformat": 4,
 "nbformat_minor": 2
}
