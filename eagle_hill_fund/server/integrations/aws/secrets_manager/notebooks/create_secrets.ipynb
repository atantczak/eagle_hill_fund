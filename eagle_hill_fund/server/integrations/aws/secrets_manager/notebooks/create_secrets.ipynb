{
 "cells": [
  {
   "cell_type": "markdown",
   "source": [
    "# PLEASE READ\n",
    "\n",
    "### This notebook should NEVER have changes committed unless we are updating how to use the SMClient class.\n",
    "\n",
    "### Each time you use this notebook, you should make changes, run the notebook to update/create the secrets as needed, shutdown the notebook, and then revert ALL changes."
   ],
   "metadata": {
    "collapsed": false
   },
   "id": "501c33907f623367"
  },
  {
   "cell_type": "code",
   "source": [
    "from payfusion.server.payfusion.apps.integrations.aws.secrets_manager.tool import SMClient"
   ],
   "metadata": {
    "collapsed": false,
    "ExecuteTime": {
     "end_time": "2025-05-06T11:33:08.991154Z",
     "start_time": "2025-05-06T11:33:08.919877Z"
    }
   },
   "id": "cab4f9af1f3c5402",
   "outputs": [],
   "execution_count": 1
  },
  {
   "cell_type": "code",
   "source": [
    "sm_client = SMClient()"
   ],
   "metadata": {
    "collapsed": false,
    "ExecuteTime": {
     "end_time": "2025-05-06T11:33:09.030539Z",
     "start_time": "2025-05-06T11:33:08.992192Z"
    }
   },
   "id": "3709404afeeeaec7",
   "outputs": [],
   "execution_count": 2
  },
  {
   "cell_type": "markdown",
   "source": [
    "## Update Secret that already exists\n",
    "\n",
    "Please Note: If you run as is when you open this notebook, it will fail because the \"new_dummy_secret\" has already been added. The three cells below are meant to serve as an example of HOW to update a secret."
   ],
   "metadata": {
    "collapsed": false
   },
   "id": "330d8b7115e09b3a"
  },
  {
   "cell_type": "code",
   "source": [
    "secret_name = \"HRButlerParentSecrets\""
   ],
   "metadata": {
    "collapsed": false,
    "ExecuteTime": {
     "end_time": "2025-05-06T11:33:09.032583Z",
     "start_time": "2025-05-06T11:33:09.031175Z"
    }
   },
   "id": "6b049fd82cab8abb",
   "outputs": [],
   "execution_count": 3
  },
  {
   "cell_type": "code",
   "source": [
    "secret_pairs = {\n",
    "}"
   ],
   "metadata": {
    "collapsed": false,
    "ExecuteTime": {
     "end_time": "2025-05-06T11:33:09.035038Z",
     "start_time": "2025-05-06T11:33:09.033563Z"
    }
   },
   "id": "b89817fc5c26c927",
   "outputs": [],
   "execution_count": 4
  },
  {
   "cell_type": "code",
   "outputs": [],
   "source": [
    "sm_client.create_secret(\n",
    "    name=secret_name,\n",
    "    secret_dict=secret_pairs,\n",
    ")"
   ],
   "metadata": {
    "collapsed": false,
    "ExecuteTime": {
     "end_time": "2025-05-06T11:33:09.387650Z",
     "start_time": "2025-05-06T11:33:09.035605Z"
    }
   },
   "id": "7ac6ac9c6eabbf4c",
   "execution_count": 5
  }
 ],
 "metadata": {
  "kernelspec": {
   "display_name": "Python 3",
   "language": "python",
   "name": "python3"
  },
  "language_info": {
   "codemirror_mode": {
    "name": "ipython",
    "version": 2
   },
   "file_extension": ".py",
   "mimetype": "text/x-python",
   "name": "python",
   "nbconvert_exporter": "python",
   "pygments_lexer": "ipython2",
   "version": "2.7.6"
  }
 },
 "nbformat": 4,
 "nbformat_minor": 5
}
