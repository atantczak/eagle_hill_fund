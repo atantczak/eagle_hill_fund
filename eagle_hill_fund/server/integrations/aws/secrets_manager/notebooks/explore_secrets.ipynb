{
 "cells": [
  {
   "cell_type": "code",
   "execution_count": null,
   "id": "initial_id",
   "metadata": {
    "ExecuteTime": {
     "end_time": "2025-04-07T14:17:50.694443Z",
     "start_time": "2025-04-07T14:17:50.627659Z"
    },
    "collapsed": true
   },
   "outputs": [],
   "source": [
    "from payfusion.server.payfusion.apps.integrations.aws.secrets_manager.tool import SMClient"
   ]
  },
  {
   "cell_type": "code",
   "execution_count": null,
   "id": "9ab5ec68a3a5c144",
   "metadata": {
    "ExecuteTime": {
     "end_time": "2025-04-07T14:17:50.904151Z",
     "start_time": "2025-04-07T14:17:50.711883Z"
    },
    "collapsed": false
   },
   "outputs": [],
   "source": [
    "sm_client = SMClient()"
   ]
  },
  {
   "cell_type": "code",
   "execution_count": null,
   "id": "fc26cd1646a9c881",
   "metadata": {
    "ExecuteTime": {
     "end_time": "2025-04-07T14:17:51.444239Z",
     "start_time": "2025-04-07T14:17:51.084729Z"
    }
   },
   "outputs": [],
   "source": [
    "client_secrets = sm_client.get_secret(\"MPHRParentSecrets\")"
   ]
  }
 ],
 "metadata": {
  "kernelspec": {
   "display_name": "venv",
   "language": "python",
   "name": "python3"
  },
  "language_info": {
   "codemirror_mode": {
    "name": "ipython",
    "version": 3
   },
   "file_extension": ".py",
   "mimetype": "text/x-python",
   "name": "python",
   "nbconvert_exporter": "python",
   "pygments_lexer": "ipython3",
   "version": "3.12.1"
  }
 },
 "nbformat": 4,
 "nbformat_minor": 5
}
