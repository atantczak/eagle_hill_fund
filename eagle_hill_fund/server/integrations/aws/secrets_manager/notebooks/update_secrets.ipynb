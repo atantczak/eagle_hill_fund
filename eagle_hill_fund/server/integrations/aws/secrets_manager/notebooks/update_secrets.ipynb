{
 "cells": [
  {
   "cell_type": "markdown",
   "id": "501c33907f623367",
   "metadata": {
    "collapsed": false
   },
   "source": [
    "# PLEASE READ\n",
    "\n",
    "### This notebook should NEVER have changes committed unless we are updating how to use the SMClient class.\n",
    "\n",
    "### Each time you use this notebook, you should make changes, run the notebook to update/create the secrets as needed, shutdown the notebook, and then revert ALL changes."
   ]
  },
  {
   "cell_type": "code",
   "execution_count": 7,
   "id": "cab4f9af1f3c5402",
   "metadata": {
    "ExecuteTime": {
     "end_time": "2025-02-12T20:23:28.415542Z",
     "start_time": "2025-02-12T20:23:28.413053Z"
    },
    "collapsed": false
   },
   "outputs": [],
   "source": [
    "from payfusion.server.payfusion.apps.integrations.aws.secrets_manager.tool import SMClient"
   ]
  },
  {
   "cell_type": "code",
   "execution_count": 8,
   "id": "3709404afeeeaec7",
   "metadata": {
    "ExecuteTime": {
     "end_time": "2025-02-12T20:23:28.565226Z",
     "start_time": "2025-02-12T20:23:28.424870Z"
    },
    "collapsed": false
   },
   "outputs": [],
   "source": [
    "sm_client = SMClient()"
   ]
  },
  {
   "cell_type": "markdown",
   "id": "330d8b7115e09b3a",
   "metadata": {
    "collapsed": false
   },
   "source": [
    "## Update Secret that already exists\n",
    "\n",
    "Please Note: If you run as is when you open this notebook, it will fail because the \"new_dummy_secret\" has already been added. The three cells below are meant to serve as an example of HOW to update a secret."
   ]
  },
  {
   "cell_type": "code",
   "execution_count": 9,
   "id": "6b049fd82cab8abb",
   "metadata": {
    "ExecuteTime": {
     "end_time": "2025-02-12T20:23:28.571439Z",
     "start_time": "2025-02-12T20:23:28.569473Z"
    },
    "collapsed": false
   },
   "outputs": [],
   "source": [
    "secret_name = \"BangorParentSecrets\""
   ]
  },
  {
   "cell_type": "code",
   "execution_count": 10,
   "id": "72f14220a7679e6a",
   "metadata": {
    "ExecuteTime": {
     "end_time": "2025-02-12T20:23:28.852651Z",
     "start_time": "2025-02-12T20:23:28.576974Z"
    },
    "collapsed": false
   },
   "outputs": [],
   "source": [
    "client_secrets = sm_client.get_secret(secret_name=secret_name)"
   ]
  },
  {
   "cell_type": "code",
   "execution_count": 11,
   "id": "3d7879d4d843e0c0",
   "metadata": {
    "ExecuteTime": {
     "end_time": "2025-02-12T20:23:28.859725Z",
     "start_time": "2025-02-12T20:23:28.857728Z"
    },
    "collapsed": false
   },
   "outputs": [],
   "source": [
    "client_secrets[\"\"] = \"\""
   ]
  },
  {
   "cell_type": "code",
   "execution_count": 12,
   "id": "bfa3bd81ee1d3d74",
   "metadata": {
    "ExecuteTime": {
     "end_time": "2025-02-12T20:23:29.012606Z",
     "start_time": "2025-02-12T20:23:28.864887Z"
    },
    "collapsed": false
   },
   "outputs": [],
   "source": [
    "sm_client.update_secret(\n",
    "    name=secret_name,\n",
    "    keys=list(client_secrets.keys()),\n",
    "    values=list(client_secrets.values())\n",
    ")"
   ]
  },
  {
   "cell_type": "code",
   "execution_count": null,
   "id": "b89817fc5c26c927",
   "metadata": {
    "ExecuteTime": {
     "end_time": "2025-02-12T20:23:29.019460Z",
     "start_time": "2025-02-12T20:23:29.018098Z"
    },
    "collapsed": false
   },
   "outputs": [],
   "source": []
  }
 ],
 "metadata": {
  "kernelspec": {
   "display_name": "venv",
   "language": "python",
   "name": "python3"
  },
  "language_info": {
   "codemirror_mode": {
    "name": "ipython",
    "version": 2
   },
   "file_extension": ".py",
   "mimetype": "text/x-python",
   "name": "python",
   "nbconvert_exporter": "python",
   "pygments_lexer": "ipython2",
   "version": "3.11.11"
  }
 },
 "nbformat": 4,
 "nbformat_minor": 5
}
