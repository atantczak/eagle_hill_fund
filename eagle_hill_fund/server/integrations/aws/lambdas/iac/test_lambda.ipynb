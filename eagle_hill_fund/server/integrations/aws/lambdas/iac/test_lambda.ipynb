{
 "cells": [
  {
   "cell_type": "code",
   "execution_count": 2,
   "metadata": {},
   "outputs": [],
   "source": [
    "import boto3\n",
    "import yaml\n",
    "\n",
    "from payfusion.server.payfusion.apps.integrations.aws.credentials.access_keys import AWS_ACCESS_KEY_ID, AWS_SECRET_ACCESS_KEY_ID"
   ]
  },
  {
   "cell_type": "code",
   "execution_count": 3,
   "metadata": {},
   "outputs": [],
   "source": [
    "with open(\"test_lambda.yaml\", \"r\") as stream:\n",
    "    try:\n",
    "        bucket_config = yaml.safe_load(stream)\n",
    "    except yaml.YAMLError as e:\n",
    "        print(e)"
   ]
  },
  {
   "cell_type": "code",
   "execution_count": 13,
   "metadata": {},
   "outputs": [],
   "source": [
    "name = bucket_config[\"Resources\"][\"MyLambdaFunction\"][\"Properties\"][\"FunctionName\"]\n",
    "#role = bucket_config[\"Resources\"][\"MyLambdaFunction\"][\"Properties\"][\"Role\"]\n",
    "handler = bucket_config[\"Resources\"][\"MyLambdaFunction\"][\"Properties\"][\"Handler\"]\n",
    "runtime = bucket_config[\"Resources\"][\"MyLambdaFunction\"][\"Properties\"][\"Runtime\"]\n",
    "region = bucket_config[\"Resources\"][\"MyLambdaFunction\"][\"Properties\"][\"Region\"]\n",
    "code = {\n",
    "        \"S3Bucket\": bucket_config[\"Resources\"][\"MyLambdaFunction\"][\"Properties\"][\"Code\"][\"S3Bucket\"],\n",
    "        \"S3Key\": bucket_config[\"Resources\"][\"MyLambdaFunction\"][\"Properties\"][\"Code\"][\"S3Key\"]\n",
    "}\n"
   ]
  },
  {
   "cell_type": "code",
   "execution_count": 14,
   "metadata": {},
   "outputs": [],
   "source": [
    "session = boto3.Session(\n",
    "    aws_access_key_id=AWS_ACCESS_KEY_ID,\n",
    "    aws_secret_access_key=AWS_SECRET_ACCESS_KEY_ID\n",
    ")"
   ]
  },
  {
   "cell_type": "code",
   "execution_count": null,
   "metadata": {},
   "outputs": [],
   "source": [
    "lambda_client = session.client(\"lambda\", region_name=region)\n",
    "iam_client = session.client(\"iam\")\n",
    "\n",
    "role = iam_client.get_role(RoleName='LambdaBasicExecution')"
   ]
  },
  {
   "cell_type": "code",
   "execution_count": null,
   "metadata": {},
   "outputs": [],
   "source": [
    "lambda_client.create_function(\n",
    "    FunctionName=name,\n",
    "    Runtime=runtime,\n",
    "    Role=role,\n",
    "    Handler=handler,\n",
    "    Code=code,\n",
    ")"
   ]
  }
 ],
 "metadata": {
  "kernelspec": {
   "display_name": "Python 3",
   "language": "python",
   "name": "python3"
  },
  "language_info": {
   "codemirror_mode": {
    "name": "ipython",
    "version": 3
   },
   "file_extension": ".py",
   "mimetype": "text/x-python",
   "name": "python",
   "nbconvert_exporter": "python",
   "pygments_lexer": "ipython3",
   "version": "3.7.9"
  },
  "orig_nbformat": 4
 },
 "nbformat": 4,
 "nbformat_minor": 2
}
