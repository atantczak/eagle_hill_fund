{
 "cells": [
  {
   "cell_type": "markdown",
   "source": [
    "### PLEASE NOTE: This WILL be rejected and SHOULD be rejected as we have not set up permissions to run ssm from our local machine."
   ],
   "metadata": {
    "collapsed": false,
    "pycharm": {
     "name": "#%% md\n"
    }
   }
  },
  {
   "cell_type": "code",
   "execution_count": 1,
   "outputs": [],
   "source": [
    "import boto3\n",
    "import botocore\n",
    "import time"
   ],
   "metadata": {
    "collapsed": false,
    "pycharm": {
     "name": "#%%\n"
    }
   }
  },
  {
   "cell_type": "code",
   "execution_count": null,
   "outputs": [],
   "source": [
    "from payfusion.server.payfusion.apps.integrations.aws.credentials.access_keys import AWS_ACCESS_KEY_ID, AWS_SECRET_ACCESS_KEY_ID"
   ],
   "metadata": {
    "collapsed": false,
    "pycharm": {
     "name": "#%%\n"
    }
   }
  },
  {
   "cell_type": "code",
   "execution_count": 2,
   "outputs": [],
   "source": [
    "command_shell = 'python3 /home/ec2-user/greenleaf/server/greenleaf/apps/vendor_flows/wex/cobra/aws_run_scripts/dummy_run.py'\n",
    "#command_shell = 'python3 --version'\n",
    "instance_id_ec2  = 'i-0fc93817f94656836'\n",
    "\n",
    "def lambda_handler():\n",
    "\n",
    "    client = boto3.client(\"ec2\", aws_access_key_id=AWS_ACCESS_KEY_ID, aws_secret_access_key=AWS_SECRET_ACCESS_KEY_ID)\n",
    "    ssm = boto3.client(\"ssm\", region_name=\"us-east-2\", aws_access_key_id=AWS_ACCESS_KEY_ID, aws_secret_access_key=AWS_SECRET_ACCESS_KEY_ID)\n",
    "\n",
    "    try:\n",
    "        describeInstance = client.describe_instances()\n",
    "        for r in describeInstance['Reservations']:\n",
    "            for inst in r['Instances']:\n",
    "                if inst['InstanceId'] == instance_id_ec2:\n",
    "                    status = inst['State']['Name']\n",
    "        if status == 'running':\n",
    "            response = ssm.send_command(\n",
    "                InstanceIds=[instance_id_ec2],\n",
    "                DocumentName=\"AWS-RunShellScript\",\n",
    "                Parameters={'commands': [command_shell]},\n",
    "                )\n",
    "            print(f'{command_shell } has sent to {instance_id_ec2} successfuly')\n",
    "        else:\n",
    "            print(f'Failed')\n",
    "    except Exception as e:\n",
    "        print(\"Unexpected Exception: %s\" % str(e))\n",
    "    return None"
   ],
   "metadata": {
    "collapsed": false,
    "pycharm": {
     "name": "#%%\n"
    }
   }
  },
  {
   "cell_type": "code",
   "execution_count": 3,
   "outputs": [
    {
     "name": "stdout",
     "output_type": "stream",
     "text": [
      "Unexpected Exception: An error occurred (AccessDeniedException) when calling the SendCommand operation: User: arn:aws:iam::395720007233:user/Andrew_Antczak_Admin is not authorized to perform: ssm:SendCommand on resource: arn:aws:ec2:us-east-2:395720007233:instance/i-0fc93817f94656836 because no identity-based policy allows the ssm:SendCommand action\n"
     ]
    }
   ],
   "source": [
    "lambda_handler()"
   ],
   "metadata": {
    "collapsed": false,
    "pycharm": {
     "name": "#%%\n"
    }
   }
  },
  {
   "cell_type": "code",
   "execution_count": null,
   "outputs": [],
   "source": [],
   "metadata": {
    "collapsed": false,
    "pycharm": {
     "name": "#%%\n"
    }
   }
  }
 ],
 "metadata": {
  "kernelspec": {
   "display_name": "Python 3",
   "language": "python",
   "name": "python3"
  },
  "language_info": {
   "codemirror_mode": {
    "name": "ipython",
    "version": 2
   },
   "file_extension": ".py",
   "mimetype": "text/x-python",
   "name": "python",
   "nbconvert_exporter": "python",
   "pygments_lexer": "ipython2",
   "version": "2.7.6"
  }
 },
 "nbformat": 4,
 "nbformat_minor": 0
}
