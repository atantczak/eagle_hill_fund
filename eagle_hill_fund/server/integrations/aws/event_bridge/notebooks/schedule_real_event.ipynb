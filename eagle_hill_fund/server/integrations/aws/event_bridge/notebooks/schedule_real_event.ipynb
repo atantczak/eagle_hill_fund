{
 "cells": [
  {
   "cell_type": "code",
   "outputs": [],
   "source": [
    "from datetime import datetime"
   ],
   "metadata": {
    "collapsed": false,
    "ExecuteTime": {
     "end_time": "2024-09-10T10:18:47.890834Z",
     "start_time": "2024-09-10T10:18:47.887466Z"
    }
   },
   "id": "63619010c7aa56fd",
   "execution_count": 1
  },
  {
   "cell_type": "code",
   "outputs": [],
   "source": [
    "from payfusion.server.payfusion.apps.integrations.aws.event_bridge.tool import EventBridgeTool\n",
    "from payfusion.server.payfusion.apps.tools.utilities.available_time_zones import Timezones\n",
    "from payfusion.server.payfusion.apps.tools.utilities.date_utils import describe_cron_expression, convert_to_utc\n",
    "from payfusion.server.payfusion.apps.data_pipelines.internal_pipelines.payfusion_architecture.tool import PayFusionFeeds"
   ],
   "metadata": {
    "collapsed": true,
    "ExecuteTime": {
     "end_time": "2024-09-10T10:18:48.258654Z",
     "start_time": "2024-09-10T10:18:47.891289Z"
    }
   },
   "id": "initial_id",
   "execution_count": 2
  },
  {
   "cell_type": "code",
   "outputs": [],
   "source": [
    "payfusion_feed_obj = PayFusionFeeds()"
   ],
   "metadata": {
    "collapsed": false,
    "ExecuteTime": {
     "end_time": "2024-09-10T10:18:48.361040Z",
     "start_time": "2024-09-10T10:18:48.261376Z"
    }
   },
   "id": "cc2f5f417e639b27",
   "execution_count": 3
  },
  {
   "cell_type": "code",
   "outputs": [],
   "source": [
    "block_schedule_feed_run = True\n",
    "if block_schedule_feed_run:\n",
    "    pass\n",
    "else:\n",
    "    payfusion_feed_obj.create_feed(\n",
    "        parent_client=\"Greenleaf\",\n",
    "        child_client=\"Cookies\",\n",
    "        feed_vendor=\"Allied\",\n",
    "        feed_name=\"Greenleaf > Cookies > Insurance Carrier Connection (EDI 834) w/ Allied\",\n",
    "        status=\"In-Production\",\n",
    "        cadence=\"Weekly\",\n",
    "        day_or_date=\"Monday\",\n",
    "        time=\"13:00 UTC\",\n",
    "        feed_id=\"fd682e85-6ece-57cb-9e75-10f29146d583\",\n",
    "        s3_path=\"cookies/allied/edi_834\",\n",
    "        run_script_path=\"greenleaf/cookies/allied/edi_834\",\n",
    "        start_date_and_time=\"2024-09-16 13:00\",\n",
    "        enable_feed_immediately=True,\n",
    "        schedule_expression=payfusion_feed_obj.event_bridge_obj.create_schedule_expression(\n",
    "            schedule_type=\"rate\",\n",
    "            frequency=\"day\",\n",
    "            interval=7\n",
    "        )\n",
    "    )"
   ],
   "metadata": {
    "collapsed": false,
    "ExecuteTime": {
     "end_time": "2024-09-10T10:18:48.364314Z",
     "start_time": "2024-09-10T10:18:48.362030Z"
    }
   },
   "id": "15bda0f40aea3182",
   "execution_count": 4
  },
  {
   "cell_type": "code",
   "outputs": [],
   "source": [
    "event_bridge_obj = EventBridgeTool()"
   ],
   "metadata": {
    "collapsed": false,
    "ExecuteTime": {
     "end_time": "2024-09-10T10:18:48.395677Z",
     "start_time": "2024-09-10T10:18:48.365413Z"
    }
   },
   "id": "39e14461e718a1b9",
   "execution_count": 5
  },
  {
   "cell_type": "code",
   "outputs": [
    {
     "data": {
      "text/plain": "'arn:aws:scheduler:us-east-2:395720007233:schedule/default/test_ecs_updates'"
     },
     "execution_count": 6,
     "metadata": {},
     "output_type": "execute_result"
    }
   ],
   "source": [
    "event_bridge_obj.create_scheduled_task(\n",
    "    rule_name=\"test_ecs_updates\",\n",
    "    schedule_expression=event_bridge_obj.create_schedule_expression(\n",
    "        schedule_type=\"rate\",\n",
    "        frequency=\"minute\",\n",
    "        interval=3\n",
    "    ),\n",
    "    start_date=\"2024-09-10 06:20\",\n",
    "    time_zone=Timezones.AMERICA_NEW_YORK,\n",
    "    commands=[\n",
    "        \"python3\",\n",
    "        \"payfusion/server/payfusion/apps/data_pipelines/internal_pipelines/payfusion_architecture/tests/test_feeds/run_script.py\"\n",
    "    ],\n",
    "    flex_time_window_minutes=1\n",
    ")"
   ],
   "metadata": {
    "collapsed": false,
    "ExecuteTime": {
     "end_time": "2024-09-10T10:18:48.711934Z",
     "start_time": "2024-09-10T10:18:48.396576Z"
    }
   },
   "id": "ccc7d261f50c9d4f",
   "execution_count": 6
  }
 ],
 "metadata": {
  "kernelspec": {
   "display_name": "Python 3",
   "language": "python",
   "name": "python3"
  },
  "language_info": {
   "codemirror_mode": {
    "name": "ipython",
    "version": 2
   },
   "file_extension": ".py",
   "mimetype": "text/x-python",
   "name": "python",
   "nbconvert_exporter": "python",
   "pygments_lexer": "ipython2",
   "version": "2.7.6"
  }
 },
 "nbformat": 4,
 "nbformat_minor": 5
}
