{
 "cells": [
  {
   "cell_type": "code",
   "execution_count": 1,
   "id": "f851c6f5ceb7f1e2",
   "metadata": {
    "collapsed": false,
    "ExecuteTime": {
     "end_time": "2025-04-26T19:09:53.446284Z",
     "start_time": "2025-04-26T19:09:53.105271Z"
    }
   },
   "outputs": [],
   "source": [
    "from payfusion.server.payfusion.apps.integrations.aws.event_bridge.tool import EventBridgeTool"
   ]
  },
  {
   "cell_type": "code",
   "execution_count": 2,
   "id": "9e1c7f827521cf87",
   "metadata": {
    "collapsed": false,
    "ExecuteTime": {
     "end_time": "2025-04-26T19:09:53.482206Z",
     "start_time": "2025-04-26T19:09:53.447409Z"
    }
   },
   "outputs": [],
   "source": [
    "event_bridge_obj = EventBridgeTool()"
   ]
  },
  {
   "cell_type": "code",
   "execution_count": 3,
   "id": "cfa2e38a57462dce",
   "metadata": {
    "collapsed": false,
    "ExecuteTime": {
     "end_time": "2025-04-26T19:10:00.685328Z",
     "start_time": "2025-04-26T19:09:53.482852Z"
    }
   },
   "outputs": [],
   "source": [
    "df = event_bridge_obj.produce_all_event_dataframe()"
   ]
  },
  {
   "cell_type": "code",
   "execution_count": 4,
   "id": "628f280eb8594c08",
   "metadata": {
    "collapsed": false,
    "ExecuteTime": {
     "end_time": "2025-04-26T19:10:00.694351Z",
     "start_time": "2025-04-26T19:10:00.686023Z"
    }
   },
   "outputs": [
    {
     "data": {
      "text/plain": "                                     Day of Week Day of Month Hour Minute  \\\nSchedule Name                                                               \nGreenleafMedMenAnthemHSA               Wednesday           10    8     00   \n2bdaca7b-68d6-5fd1-86cb-660aee964865      Friday           25    8     00   \n0fcd9b0a-034c-51a7-838a-16e88bc24848   Wednesday           11    9     00   \n1f8f8835-ffbd-5be1-aa26-0a53d519bc94     Tuesday            7    6     00   \n5cf2f3ed-ddd3-588a-ba6b-6cace1c27bfd   Wednesday           25    3     30   \n...                                          ...          ...  ...    ...   \nf47dc333-fb57-5686-92d6-022dde977685      Friday           11    8     00   \nb49b06b8-f802-5284-a210-1f512343b21e      Monday            6    8     00   \ne51f432d-3a00-5e6b-b64f-44aef4522185      Monday            3    7     00   \ndc347012-62a2-58ed-88fa-36e8cc17ee8a      Friday            6   13     15   \ncde27533-56f1-50da-9c2d-ce9176b0f2e7      Monday            9    3     55   \n\n                                     Time Zone  Feed Time  Cadence  \\\nSchedule Name                                                        \nGreenleafMedMenAnthemHSA                   EDT   8:00 EDT  14 days   \n2bdaca7b-68d6-5fd1-86cb-660aee964865       EDT   8:00 EDT    1 day   \n0fcd9b0a-034c-51a7-838a-16e88bc24848       EDT   9:00 EDT    7 day   \n1f8f8835-ffbd-5be1-aa26-0a53d519bc94       EST   6:00 EST    7 day   \n5cf2f3ed-ddd3-588a-ba6b-6cace1c27bfd       EST   3:30 EST    7 day   \n...                                        ...        ...      ...   \nf47dc333-fb57-5686-92d6-022dde977685       EDT   8:00 EDT    7 day   \nb49b06b8-f802-5284-a210-1f512343b21e       EST   8:00 EST    7 day   \ne51f432d-3a00-5e6b-b64f-44aef4522185       EST   7:00 EST    7 day   \ndc347012-62a2-58ed-88fa-36e8cc17ee8a       EDT  13:15 EDT   14 day   \ncde27533-56f1-50da-9c2d-ce9176b0f2e7       EDT   3:55 EDT    7 day   \n\n                                     Standardized Cadence     State  \nSchedule Name                                                        \nGreenleafMedMenAnthemHSA                        Bi-Weekly   ENABLED  \n2bdaca7b-68d6-5fd1-86cb-660aee964865                Daily   ENABLED  \n0fcd9b0a-034c-51a7-838a-16e88bc24848               Weekly   ENABLED  \n1f8f8835-ffbd-5be1-aa26-0a53d519bc94               Weekly   ENABLED  \n5cf2f3ed-ddd3-588a-ba6b-6cace1c27bfd               Weekly   ENABLED  \n...                                                   ...       ...  \nf47dc333-fb57-5686-92d6-022dde977685               Weekly   ENABLED  \nb49b06b8-f802-5284-a210-1f512343b21e               Weekly   ENABLED  \ne51f432d-3a00-5e6b-b64f-44aef4522185               Weekly   ENABLED  \ndc347012-62a2-58ed-88fa-36e8cc17ee8a            Bi-Weekly   ENABLED  \ncde27533-56f1-50da-9c2d-ce9176b0f2e7               Weekly  DISABLED  \n\n[155 rows x 9 columns]",
      "text/html": "<div>\n<style scoped>\n    .dataframe tbody tr th:only-of-type {\n        vertical-align: middle;\n    }\n\n    .dataframe tbody tr th {\n        vertical-align: top;\n    }\n\n    .dataframe thead th {\n        text-align: right;\n    }\n</style>\n<table border=\"1\" class=\"dataframe\">\n  <thead>\n    <tr style=\"text-align: right;\">\n      <th></th>\n      <th>Day of Week</th>\n      <th>Day of Month</th>\n      <th>Hour</th>\n      <th>Minute</th>\n      <th>Time Zone</th>\n      <th>Feed Time</th>\n      <th>Cadence</th>\n      <th>Standardized Cadence</th>\n      <th>State</th>\n    </tr>\n    <tr>\n      <th>Schedule Name</th>\n      <th></th>\n      <th></th>\n      <th></th>\n      <th></th>\n      <th></th>\n      <th></th>\n      <th></th>\n      <th></th>\n      <th></th>\n    </tr>\n  </thead>\n  <tbody>\n    <tr>\n      <th>GreenleafMedMenAnthemHSA</th>\n      <td>Wednesday</td>\n      <td>10</td>\n      <td>8</td>\n      <td>00</td>\n      <td>EDT</td>\n      <td>8:00 EDT</td>\n      <td>14 days</td>\n      <td>Bi-Weekly</td>\n      <td>ENABLED</td>\n    </tr>\n    <tr>\n      <th>2bdaca7b-68d6-5fd1-86cb-660aee964865</th>\n      <td>Friday</td>\n      <td>25</td>\n      <td>8</td>\n      <td>00</td>\n      <td>EDT</td>\n      <td>8:00 EDT</td>\n      <td>1 day</td>\n      <td>Daily</td>\n      <td>ENABLED</td>\n    </tr>\n    <tr>\n      <th>0fcd9b0a-034c-51a7-838a-16e88bc24848</th>\n      <td>Wednesday</td>\n      <td>11</td>\n      <td>9</td>\n      <td>00</td>\n      <td>EDT</td>\n      <td>9:00 EDT</td>\n      <td>7 day</td>\n      <td>Weekly</td>\n      <td>ENABLED</td>\n    </tr>\n    <tr>\n      <th>1f8f8835-ffbd-5be1-aa26-0a53d519bc94</th>\n      <td>Tuesday</td>\n      <td>7</td>\n      <td>6</td>\n      <td>00</td>\n      <td>EST</td>\n      <td>6:00 EST</td>\n      <td>7 day</td>\n      <td>Weekly</td>\n      <td>ENABLED</td>\n    </tr>\n    <tr>\n      <th>5cf2f3ed-ddd3-588a-ba6b-6cace1c27bfd</th>\n      <td>Wednesday</td>\n      <td>25</td>\n      <td>3</td>\n      <td>30</td>\n      <td>EST</td>\n      <td>3:30 EST</td>\n      <td>7 day</td>\n      <td>Weekly</td>\n      <td>ENABLED</td>\n    </tr>\n    <tr>\n      <th>...</th>\n      <td>...</td>\n      <td>...</td>\n      <td>...</td>\n      <td>...</td>\n      <td>...</td>\n      <td>...</td>\n      <td>...</td>\n      <td>...</td>\n      <td>...</td>\n    </tr>\n    <tr>\n      <th>f47dc333-fb57-5686-92d6-022dde977685</th>\n      <td>Friday</td>\n      <td>11</td>\n      <td>8</td>\n      <td>00</td>\n      <td>EDT</td>\n      <td>8:00 EDT</td>\n      <td>7 day</td>\n      <td>Weekly</td>\n      <td>ENABLED</td>\n    </tr>\n    <tr>\n      <th>b49b06b8-f802-5284-a210-1f512343b21e</th>\n      <td>Monday</td>\n      <td>6</td>\n      <td>8</td>\n      <td>00</td>\n      <td>EST</td>\n      <td>8:00 EST</td>\n      <td>7 day</td>\n      <td>Weekly</td>\n      <td>ENABLED</td>\n    </tr>\n    <tr>\n      <th>e51f432d-3a00-5e6b-b64f-44aef4522185</th>\n      <td>Monday</td>\n      <td>3</td>\n      <td>7</td>\n      <td>00</td>\n      <td>EST</td>\n      <td>7:00 EST</td>\n      <td>7 day</td>\n      <td>Weekly</td>\n      <td>ENABLED</td>\n    </tr>\n    <tr>\n      <th>dc347012-62a2-58ed-88fa-36e8cc17ee8a</th>\n      <td>Friday</td>\n      <td>6</td>\n      <td>13</td>\n      <td>15</td>\n      <td>EDT</td>\n      <td>13:15 EDT</td>\n      <td>14 day</td>\n      <td>Bi-Weekly</td>\n      <td>ENABLED</td>\n    </tr>\n    <tr>\n      <th>cde27533-56f1-50da-9c2d-ce9176b0f2e7</th>\n      <td>Monday</td>\n      <td>9</td>\n      <td>3</td>\n      <td>55</td>\n      <td>EDT</td>\n      <td>3:55 EDT</td>\n      <td>7 day</td>\n      <td>Weekly</td>\n      <td>DISABLED</td>\n    </tr>\n  </tbody>\n</table>\n<p>155 rows × 9 columns</p>\n</div>"
     },
     "execution_count": 4,
     "metadata": {},
     "output_type": "execute_result"
    }
   ],
   "source": [
    "df"
   ]
  },
  {
   "cell_type": "code",
   "outputs": [
    {
     "data": {
      "text/plain": "Day of Week               Friday\nDay of Month                  11\nHour                           8\nMinute                        00\nTime Zone                    EDT\nFeed Time               8:00 EDT\nCadence                    7 day\nStandardized Cadence      Weekly\nState                    ENABLED\nName: f47dc333-fb57-5686-92d6-022dde977685, dtype: object"
     },
     "execution_count": 6,
     "metadata": {},
     "output_type": "execute_result"
    }
   ],
   "source": [
    "df.loc[\"f47dc333-fb57-5686-92d6-022dde977685\"]"
   ],
   "metadata": {
    "collapsed": false,
    "ExecuteTime": {
     "end_time": "2025-04-26T19:15:27.370660Z",
     "start_time": "2025-04-26T19:15:27.363380Z"
    }
   },
   "id": "eebbcc2252090ead",
   "execution_count": 6
  },
  {
   "cell_type": "code",
   "outputs": [],
   "source": [
    "from payfusion.server.payfusion.apps.tools.tables.portal_tables.tool import PortalTablesTool"
   ],
   "metadata": {
    "collapsed": false,
    "ExecuteTime": {
     "end_time": "2025-04-26T18:53:08.221708Z",
     "start_time": "2025-04-26T18:53:08.212965Z"
    }
   },
   "id": "4b00fae276852ed5",
   "execution_count": 7
  },
  {
   "cell_type": "code",
   "outputs": [],
   "source": [
    "portal_obj = PortalTablesTool()"
   ],
   "metadata": {
    "collapsed": false,
    "ExecuteTime": {
     "end_time": "2025-04-26T18:53:08.296332Z",
     "start_time": "2025-04-26T18:53:08.222299Z"
    }
   },
   "id": "99cdee52c5fcdac5",
   "execution_count": 8
  },
  {
   "cell_type": "code",
   "outputs": [],
   "source": [
    "meta_data_table = portal_obj.grab_entire_table_as_df(table=\"meta_data\")"
   ],
   "metadata": {
    "collapsed": false,
    "ExecuteTime": {
     "end_time": "2025-04-26T18:53:08.754276Z",
     "start_time": "2025-04-26T18:53:08.297020Z"
    }
   },
   "id": "d312efc3e52d7bb8",
   "execution_count": 9
  },
  {
   "cell_type": "code",
   "outputs": [
    {
     "data": {
      "text/plain": "     Cadence                                    Run Script Path  Feed Vendor  \\\n0      Daily                               greenleaf/cm_coastal    Insurepay   \n1                     greenleaf/g_and_c_staffing/igoe/cobra/npm         IGOE   \n2     Weekly   greenleaf/g_and_c_staffing/legalease/eligibility    Legalease   \n3     Weekly  bangor/community_clinical/unum/non_edi_insuran...         Unum   \n4     Weekly                                            unknown    Principal   \n..       ...                                                ...          ...   \n316  Unknown             pinion/erick_nielsen/trowe_price/_401k  TRowe Price   \n317   Weekly                                            unknown  One America   \n318   Weekly                      greenleaf/kiva/kaiser/edi_834       Kaiser   \n319   Weekly                         greenleaf/parallel/ny_life      NY Life   \n320   Weekly                                            unknown     Guardian   \n\n                                             Feed Name  \\\n0    Greenleaf > CM Coastal > Workers Compensation ...   \n1    Greenleaf > G&C Staffing > COBRA (NPM) Feed w/...   \n2    Greenleaf > G&C Staffing > Eligibility w/ Lega...   \n3    Bangor > Community Clinical Services > Non EDI...   \n4    Cascade > The Great Wheel > HSA Feed w/ Principal   \n..                                                 ...   \n316  Pinion > Erick Nielsen > 401K Feed (180) w/ TR...   \n317  Axiom > Dreyer Reinbold > Insurance Carrier Co...   \n318  Greenleaf > Kiva > Insurance Carrier Connectio...   \n319  Greenleaf > Parallel > Non EDI 834 Insurance F...   \n320  HR Butler > Woodhaven Enterprises LLC > Insura...   \n\n                          Status  \\\n0                  In-Production   \n1                  In-Production   \n2                  In-Production   \n3                  In-Production   \n4    Pay Fusion Waiting for Data   \n..                           ...   \n316                In-Production   \n317               In-Development   \n318                In-Production   \n319                In-Production   \n320                         None   \n\n                                            S3 Path       Time  \\\n0                                        cm_coastal  02:30 UTC   \n1                   g_and_c_staffing/igoe/cobra/npm    Unknown   \n2            g_and_c_staffing/legalease/eligibility  12:15 UTC   \n3    community_clinical/unum/non_edi_insurance_feed  12:00 UTC   \n4                                           unknown  12:00 UTC   \n..                                              ...        ...   \n316                 erick_nielsen/trowe_price/_401k    Unknown   \n317                                         unknown  12:00 UTC   \n318                             kiva/kaiser/edi_834  13:30 UTC   \n319                                parallel/ny_life  12:30 UTC   \n320                                         unknown  12:00 UTC   \n\n                    Child Client Parent Client Day Or Date  \\\n0                     CM Coastal     Greenleaf     Tuesday   \n1                   G&C Staffing     Greenleaf     Unknown   \n2                   G&C Staffing     Greenleaf      Monday   \n3    Community Clinical Services        Bangor      Friday   \n4                The Great Wheel       Cascade     Tuesday   \n..                           ...           ...         ...   \n316                Erick Nielsen        Pinion     Unknown   \n317              Dreyer Reinbold         Axiom     Tuesday   \n318                         Kiva     Greenleaf     Tuesday   \n319                     Parallel     Greenleaf      Monday   \n320    Woodhaven Enterprises LLC     HR Butler     Tuesday   \n\n                                  feed_id     State  \n0    7aea9b88-cd2d-57e3-aa08-d65ca181e9af  DISABLED  \n1    9f63bb75-247b-55ce-8f38-53455a0f605a   ENABLED  \n2    4d74f5b4-1868-5471-a5e4-f6d5f6edb3fc   ENABLED  \n3    4ce954ac-58c3-5118-a941-1b9689cc8012   ENABLED  \n4    736f1cf0-738c-54bb-9465-6f3eb48d2a25  DISABLED  \n..                                    ...       ...  \n316  dc347012-62a2-58ed-88fa-36e8cc17ee8a   ENABLED  \n317  fd6dc84e-25bd-5112-b8b0-54cce075147e  DISABLED  \n318  5c2f4293-1f7a-5328-b070-e01b05bbcf4e   ENABLED  \n319  dd763800-efdb-5e10-af44-12f3c754a8e4   ENABLED  \n320  97abeab1-bcfa-54f6-ac99-9410f83a12e8  DISABLED  \n\n[321 rows x 12 columns]",
      "text/html": "<div>\n<style scoped>\n    .dataframe tbody tr th:only-of-type {\n        vertical-align: middle;\n    }\n\n    .dataframe tbody tr th {\n        vertical-align: top;\n    }\n\n    .dataframe thead th {\n        text-align: right;\n    }\n</style>\n<table border=\"1\" class=\"dataframe\">\n  <thead>\n    <tr style=\"text-align: right;\">\n      <th></th>\n      <th>Cadence</th>\n      <th>Run Script Path</th>\n      <th>Feed Vendor</th>\n      <th>Feed Name</th>\n      <th>Status</th>\n      <th>S3 Path</th>\n      <th>Time</th>\n      <th>Child Client</th>\n      <th>Parent Client</th>\n      <th>Day Or Date</th>\n      <th>feed_id</th>\n      <th>State</th>\n    </tr>\n  </thead>\n  <tbody>\n    <tr>\n      <th>0</th>\n      <td>Daily</td>\n      <td>greenleaf/cm_coastal</td>\n      <td>Insurepay</td>\n      <td>Greenleaf &gt; CM Coastal &gt; Workers Compensation ...</td>\n      <td>In-Production</td>\n      <td>cm_coastal</td>\n      <td>02:30 UTC</td>\n      <td>CM Coastal</td>\n      <td>Greenleaf</td>\n      <td>Tuesday</td>\n      <td>7aea9b88-cd2d-57e3-aa08-d65ca181e9af</td>\n      <td>DISABLED</td>\n    </tr>\n    <tr>\n      <th>1</th>\n      <td></td>\n      <td>greenleaf/g_and_c_staffing/igoe/cobra/npm</td>\n      <td>IGOE</td>\n      <td>Greenleaf &gt; G&amp;C Staffing &gt; COBRA (NPM) Feed w/...</td>\n      <td>In-Production</td>\n      <td>g_and_c_staffing/igoe/cobra/npm</td>\n      <td>Unknown</td>\n      <td>G&amp;C Staffing</td>\n      <td>Greenleaf</td>\n      <td>Unknown</td>\n      <td>9f63bb75-247b-55ce-8f38-53455a0f605a</td>\n      <td>ENABLED</td>\n    </tr>\n    <tr>\n      <th>2</th>\n      <td>Weekly</td>\n      <td>greenleaf/g_and_c_staffing/legalease/eligibility</td>\n      <td>Legalease</td>\n      <td>Greenleaf &gt; G&amp;C Staffing &gt; Eligibility w/ Lega...</td>\n      <td>In-Production</td>\n      <td>g_and_c_staffing/legalease/eligibility</td>\n      <td>12:15 UTC</td>\n      <td>G&amp;C Staffing</td>\n      <td>Greenleaf</td>\n      <td>Monday</td>\n      <td>4d74f5b4-1868-5471-a5e4-f6d5f6edb3fc</td>\n      <td>ENABLED</td>\n    </tr>\n    <tr>\n      <th>3</th>\n      <td>Weekly</td>\n      <td>bangor/community_clinical/unum/non_edi_insuran...</td>\n      <td>Unum</td>\n      <td>Bangor &gt; Community Clinical Services &gt; Non EDI...</td>\n      <td>In-Production</td>\n      <td>community_clinical/unum/non_edi_insurance_feed</td>\n      <td>12:00 UTC</td>\n      <td>Community Clinical Services</td>\n      <td>Bangor</td>\n      <td>Friday</td>\n      <td>4ce954ac-58c3-5118-a941-1b9689cc8012</td>\n      <td>ENABLED</td>\n    </tr>\n    <tr>\n      <th>4</th>\n      <td>Weekly</td>\n      <td>unknown</td>\n      <td>Principal</td>\n      <td>Cascade &gt; The Great Wheel &gt; HSA Feed w/ Principal</td>\n      <td>Pay Fusion Waiting for Data</td>\n      <td>unknown</td>\n      <td>12:00 UTC</td>\n      <td>The Great Wheel</td>\n      <td>Cascade</td>\n      <td>Tuesday</td>\n      <td>736f1cf0-738c-54bb-9465-6f3eb48d2a25</td>\n      <td>DISABLED</td>\n    </tr>\n    <tr>\n      <th>...</th>\n      <td>...</td>\n      <td>...</td>\n      <td>...</td>\n      <td>...</td>\n      <td>...</td>\n      <td>...</td>\n      <td>...</td>\n      <td>...</td>\n      <td>...</td>\n      <td>...</td>\n      <td>...</td>\n      <td>...</td>\n    </tr>\n    <tr>\n      <th>316</th>\n      <td>Unknown</td>\n      <td>pinion/erick_nielsen/trowe_price/_401k</td>\n      <td>TRowe Price</td>\n      <td>Pinion &gt; Erick Nielsen &gt; 401K Feed (180) w/ TR...</td>\n      <td>In-Production</td>\n      <td>erick_nielsen/trowe_price/_401k</td>\n      <td>Unknown</td>\n      <td>Erick Nielsen</td>\n      <td>Pinion</td>\n      <td>Unknown</td>\n      <td>dc347012-62a2-58ed-88fa-36e8cc17ee8a</td>\n      <td>ENABLED</td>\n    </tr>\n    <tr>\n      <th>317</th>\n      <td>Weekly</td>\n      <td>unknown</td>\n      <td>One America</td>\n      <td>Axiom &gt; Dreyer Reinbold &gt; Insurance Carrier Co...</td>\n      <td>In-Development</td>\n      <td>unknown</td>\n      <td>12:00 UTC</td>\n      <td>Dreyer Reinbold</td>\n      <td>Axiom</td>\n      <td>Tuesday</td>\n      <td>fd6dc84e-25bd-5112-b8b0-54cce075147e</td>\n      <td>DISABLED</td>\n    </tr>\n    <tr>\n      <th>318</th>\n      <td>Weekly</td>\n      <td>greenleaf/kiva/kaiser/edi_834</td>\n      <td>Kaiser</td>\n      <td>Greenleaf &gt; Kiva &gt; Insurance Carrier Connectio...</td>\n      <td>In-Production</td>\n      <td>kiva/kaiser/edi_834</td>\n      <td>13:30 UTC</td>\n      <td>Kiva</td>\n      <td>Greenleaf</td>\n      <td>Tuesday</td>\n      <td>5c2f4293-1f7a-5328-b070-e01b05bbcf4e</td>\n      <td>ENABLED</td>\n    </tr>\n    <tr>\n      <th>319</th>\n      <td>Weekly</td>\n      <td>greenleaf/parallel/ny_life</td>\n      <td>NY Life</td>\n      <td>Greenleaf &gt; Parallel &gt; Non EDI 834 Insurance F...</td>\n      <td>In-Production</td>\n      <td>parallel/ny_life</td>\n      <td>12:30 UTC</td>\n      <td>Parallel</td>\n      <td>Greenleaf</td>\n      <td>Monday</td>\n      <td>dd763800-efdb-5e10-af44-12f3c754a8e4</td>\n      <td>ENABLED</td>\n    </tr>\n    <tr>\n      <th>320</th>\n      <td>Weekly</td>\n      <td>unknown</td>\n      <td>Guardian</td>\n      <td>HR Butler &gt; Woodhaven Enterprises LLC &gt; Insura...</td>\n      <td>None</td>\n      <td>unknown</td>\n      <td>12:00 UTC</td>\n      <td>Woodhaven Enterprises LLC</td>\n      <td>HR Butler</td>\n      <td>Tuesday</td>\n      <td>97abeab1-bcfa-54f6-ac99-9410f83a12e8</td>\n      <td>DISABLED</td>\n    </tr>\n  </tbody>\n</table>\n<p>321 rows × 12 columns</p>\n</div>"
     },
     "execution_count": 10,
     "metadata": {},
     "output_type": "execute_result"
    }
   ],
   "source": [
    "meta_data_table"
   ],
   "metadata": {
    "collapsed": false,
    "ExecuteTime": {
     "end_time": "2025-04-26T18:53:08.759655Z",
     "start_time": "2025-04-26T18:53:08.754938Z"
    }
   },
   "id": "d0bf0686f3003187",
   "execution_count": 10
  },
  {
   "cell_type": "code",
   "outputs": [],
   "source": [],
   "metadata": {
    "collapsed": false,
    "ExecuteTime": {
     "end_time": "2025-04-26T18:53:08.761338Z",
     "start_time": "2025-04-26T18:53:08.760189Z"
    }
   },
   "id": "3d4039b1c40afaaa",
   "execution_count": 10
  }
 ],
 "metadata": {
  "kernelspec": {
   "display_name": "Python 3",
   "language": "python",
   "name": "python3"
  },
  "language_info": {
   "codemirror_mode": {
    "name": "ipython",
    "version": 3
   },
   "file_extension": ".py",
   "mimetype": "text/x-python",
   "name": "python",
   "nbconvert_exporter": "python",
   "pygments_lexer": "ipython3",
   "version": "3.11.5"
  }
 },
 "nbformat": 4,
 "nbformat_minor": 5
}
