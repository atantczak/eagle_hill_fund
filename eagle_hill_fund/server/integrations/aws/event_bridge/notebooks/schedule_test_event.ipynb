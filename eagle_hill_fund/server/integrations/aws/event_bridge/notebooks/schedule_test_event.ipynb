{
 "cells": [
  {
   "cell_type": "code",
   "outputs": [],
   "source": [
    "from datetime import datetime"
   ],
   "metadata": {
    "collapsed": false,
    "ExecuteTime": {
     "end_time": "2024-07-26T12:50:10.424635Z",
     "start_time": "2024-07-26T12:50:10.422867Z"
    }
   },
   "id": "63619010c7aa56fd",
   "execution_count": 2
  },
  {
   "cell_type": "code",
   "outputs": [],
   "source": [
    "from payfusion.server.payfusion.apps.integrations.aws.event_bridge.tool import EventBridgeTool\n",
    "from payfusion.server.payfusion.apps.tools.utilities.available_time_zones import Timezones\n",
    "from payfusion.server.payfusion.apps.tools.utilities.date_utils import describe_cron_expression, convert_to_utc"
   ],
   "metadata": {
    "collapsed": true,
    "ExecuteTime": {
     "end_time": "2024-07-26T12:50:10.810216Z",
     "start_time": "2024-07-26T12:50:10.631561Z"
    }
   },
   "id": "initial_id",
   "execution_count": 3
  },
  {
   "cell_type": "code",
   "outputs": [],
   "source": [
    "event_bridge_obj = EventBridgeTool()"
   ],
   "metadata": {
    "collapsed": false,
    "ExecuteTime": {
     "end_time": "2024-07-26T12:50:11.247859Z",
     "start_time": "2024-07-26T12:50:11.100331Z"
    }
   },
   "id": "cc2f5f417e639b27",
   "execution_count": 4
  },
  {
   "cell_type": "code",
   "outputs": [
    {
     "data": {
      "text/plain": "'arn:aws:scheduler:us-east-2:395720007233:schedule/default/dummy_test_1'"
     },
     "execution_count": 4,
     "metadata": {},
     "output_type": "execute_result"
    }
   ],
   "source": [
    "event_bridge_obj.create_scheduled_task(\n",
    "    rule_name=\"dummy_test_1\",\n",
    "    schedule_expression=event_bridge_obj.create_schedule_expression(\n",
    "        schedule_type=\"rate\",\n",
    "        frequency=\"minute\",\n",
    "        interval=1,\n",
    "    ),\n",
    "    start_date=\"2024-07-26 8:15\",\n",
    "    time_zone=Timezones.AMERICA_NEW_YORK,\n",
    "    commands=[\"python3\", \"payfusion/server/payfusion/apps/integrations/ftp_endpoints/sftp_endpoints/tests/whitelisted_connection_test.py\", \"True\"]\n",
    ")"
   ],
   "metadata": {
    "collapsed": false,
    "ExecuteTime": {
     "end_time": "2024-07-26T12:14:19.916665Z",
     "start_time": "2024-07-26T12:14:19.698158Z"
    }
   },
   "id": "32e3e5dfd1e9ecb8",
   "execution_count": 4
  },
  {
   "cell_type": "code",
   "outputs": [],
   "source": [],
   "metadata": {
    "collapsed": false
   },
   "id": "24e3998a035a6d39"
  }
 ],
 "metadata": {
  "kernelspec": {
   "display_name": "Python 3",
   "language": "python",
   "name": "python3"
  },
  "language_info": {
   "codemirror_mode": {
    "name": "ipython",
    "version": 2
   },
   "file_extension": ".py",
   "mimetype": "text/x-python",
   "name": "python",
   "nbconvert_exporter": "python",
   "pygments_lexer": "ipython2",
   "version": "2.7.6"
  }
 },
 "nbformat": 4,
 "nbformat_minor": 5
}
