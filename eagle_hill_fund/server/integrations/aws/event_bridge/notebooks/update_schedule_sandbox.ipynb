{
 "cells": [
  {
   "cell_type": "code",
   "execution_count": 1,
   "id": "initial_id",
   "metadata": {
    "collapsed": true,
    "ExecuteTime": {
     "end_time": "2024-08-26T14:33:46.425637Z",
     "start_time": "2024-08-26T14:33:46.142808Z"
    }
   },
   "outputs": [],
   "source": [
    "from payfusion.server.payfusion.apps.integrations.aws.event_bridge.tool import EventBridgeTool\n",
    "from payfusion.server.payfusion.apps.tools.utilities.available_time_zones import Timezones"
   ]
  },
  {
   "cell_type": "code",
   "outputs": [],
   "source": [
    "event_bridge_obj = EventBridgeTool()"
   ],
   "metadata": {
    "collapsed": false,
    "ExecuteTime": {
     "end_time": "2024-08-26T14:33:46.511295Z",
     "start_time": "2024-08-26T14:33:46.463567Z"
    }
   },
   "id": "27cc2aae801d059c",
   "execution_count": 2
  },
  {
   "cell_type": "code",
   "outputs": [],
   "source": [
    "existing_schedule = event_bridge_obj.scheduler_client.get_schedule(Name=\"test\")"
   ],
   "metadata": {
    "collapsed": false,
    "ExecuteTime": {
     "end_time": "2024-08-26T14:45:41.447988Z",
     "start_time": "2024-08-26T14:45:41.161291Z"
    }
   },
   "id": "38f60df2733cc83e",
   "execution_count": 15
  },
  {
   "cell_type": "code",
   "outputs": [
    {
     "data": {
      "text/plain": "{'ResponseMetadata': {'RequestId': '07e0a24a-42e6-4de5-abd8-d504039b47ff',\n  'HTTPStatusCode': 200,\n  'HTTPHeaders': {'x-amzn-requestid': '07e0a24a-42e6-4de5-abd8-d504039b47ff',\n   'content-type': 'application/json',\n   'content-length': '1791',\n   'date': 'Mon, 26 Aug 2024 14:45:41 GMT'},\n  'RetryAttempts': 0},\n 'ActionAfterCompletion': 'NONE',\n 'Arn': 'arn:aws:scheduler:us-east-2:395720007233:schedule/default/d76e2d5c-7a97-5a64-91e9-7478a84c43fb',\n 'CreationDate': datetime.datetime(2024, 8, 1, 9, 40, 0, 666000, tzinfo=tzlocal()),\n 'Description': 'd76e2d5c-7a97-5a64-91e9-7478a84c43fb to run with scheduled expression: rate(7 day).',\n 'FlexibleTimeWindow': {'Mode': 'OFF'},\n 'GroupName': 'default',\n 'LastModificationDate': datetime.datetime(2024, 8, 1, 9, 40, 0, 666000, tzinfo=tzlocal()),\n 'Name': 'd76e2d5c-7a97-5a64-91e9-7478a84c43fb',\n 'ScheduleExpression': 'rate(7 day)',\n 'ScheduleExpressionTimezone': 'UTC',\n 'StartDate': datetime.datetime(2024, 8, 6, 8, 0, tzinfo=tzlocal()),\n 'State': 'ENABLED',\n 'Target': {'Arn': 'arn:aws:ecs:us-east-2:395720007233:cluster/PFProdV1Cluster',\n  'EcsParameters': {'LaunchType': 'FARGATE',\n   'NetworkConfiguration': {'awsvpcConfiguration': {'AssignPublicIp': 'DISABLED',\n     'SecurityGroups': ['sg-04d0932ff913f2da3'],\n     'Subnets': ['subnet-0c62f781604fb8cb0',\n      'subnet-03449236a5853163e',\n      'subnet-06d445867f968ddbc',\n      'subnet-0870ab40be72361b5',\n      'subnet-0554243912ca9bc49',\n      'subnet-0bdc87dc8fe376ee6']}},\n   'PlatformVersion': 'LATEST',\n   'TaskCount': 1,\n   'TaskDefinitionArn': 'arn:aws:ecs:us-east-2:395720007233:task-definition/PFProdV1'},\n  'Input': '{\"containerOverrides\": [{\"name\": \"PFProdV1\", \"command\": [\"python3\", \"payfusion/server/payfusion/apps/client_flows/greenleaf/g_and_c_staffing/norton_lifelock/run_script.py\"]}]}',\n  'RetryPolicy': {'MaximumEventAgeInSeconds': 86400,\n   'MaximumRetryAttempts': 185},\n  'RoleArn': 'arn:aws:iam::395720007233:role/ecsEventsRole'}}"
     },
     "execution_count": 16,
     "metadata": {},
     "output_type": "execute_result"
    }
   ],
   "source": [
    "existing_schedule"
   ],
   "metadata": {
    "collapsed": false,
    "ExecuteTime": {
     "end_time": "2024-08-26T14:45:41.454238Z",
     "start_time": "2024-08-26T14:45:41.450815Z"
    }
   },
   "id": "2c5f7899cbad36a9",
   "execution_count": 16
  },
  {
   "cell_type": "code",
   "outputs": [
    {
     "data": {
      "text/plain": "{'ResponseMetadata': {'RequestId': 'f41c5ad2-fc73-4392-b855-a062fdd51787',\n  'HTTPStatusCode': 200,\n  'HTTPHeaders': {'x-amzn-requestid': 'f41c5ad2-fc73-4392-b855-a062fdd51787',\n   'content-type': 'application/json',\n   'content-length': '112',\n   'date': 'Mon, 26 Aug 2024 14:46:02 GMT'},\n  'RetryAttempts': 0},\n 'ScheduleArn': 'arn:aws:scheduler:us-east-2:395720007233:schedule/default/d76e2d5c-7a97-5a64-91e9-7478a84c43fb'}"
     },
     "execution_count": 17,
     "metadata": {},
     "output_type": "execute_result"
    }
   ],
   "source": [
    "event_bridge_obj.update_scheduled_task(\n",
    "    feed_id=\"test\",\n",
    "    new_start_date=\"2024-08-27 08:05\",\n",
    "    time_zone=Timezones.AMERICA_NEW_YORK,\n",
    "    new_flex_time_window_minutes={\"Mode\": \"FLEXIBLE\", \"MaximumWindowInMinutes\": 15}\n",
    ")"
   ],
   "metadata": {
    "collapsed": false,
    "ExecuteTime": {
     "end_time": "2024-08-26T14:46:02.265214Z",
     "start_time": "2024-08-26T14:46:01.995881Z"
    }
   },
   "id": "faa6ad6f79e4e652",
   "execution_count": 17
  },
  {
   "cell_type": "code",
   "outputs": [],
   "source": [],
   "metadata": {
    "collapsed": false,
    "ExecuteTime": {
     "end_time": "2024-08-26T14:33:46.988381Z",
     "start_time": "2024-08-26T14:33:46.986061Z"
    }
   },
   "id": "bbe23a67a470d6de",
   "execution_count": 5
  }
 ],
 "metadata": {
  "kernelspec": {
   "display_name": "Python 3",
   "language": "python",
   "name": "python3"
  },
  "language_info": {
   "codemirror_mode": {
    "name": "ipython",
    "version": 2
   },
   "file_extension": ".py",
   "mimetype": "text/x-python",
   "name": "python",
   "nbconvert_exporter": "python",
   "pygments_lexer": "ipython2",
   "version": "2.7.6"
  }
 },
 "nbformat": 4,
 "nbformat_minor": 5
}
