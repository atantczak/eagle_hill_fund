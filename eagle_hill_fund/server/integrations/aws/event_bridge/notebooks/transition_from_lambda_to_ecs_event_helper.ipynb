{
 "cells": [
  {
   "cell_type": "code",
   "execution_count": 1,
   "id": "initial_id",
   "metadata": {
    "collapsed": true,
    "ExecuteTime": {
     "end_time": "2024-08-31T17:25:42.488767Z",
     "start_time": "2024-08-31T17:25:42.264684Z"
    }
   },
   "outputs": [],
   "source": [
    "from payfusion.server.payfusion.apps.integrations.aws.event_bridge.tool import EventBridgeTool"
   ]
  },
  {
   "cell_type": "code",
   "outputs": [],
   "source": [
    "event_bridge_obj = EventBridgeTool()"
   ],
   "metadata": {
    "collapsed": false,
    "ExecuteTime": {
     "end_time": "2024-08-31T17:25:42.542047Z",
     "start_time": "2024-08-31T17:25:42.503253Z"
    }
   },
   "id": "64bc82fad2f69ebd",
   "execution_count": 2
  },
  {
   "cell_type": "code",
   "outputs": [],
   "source": [
    "df = event_bridge_obj.produce_all_event_dataframe()"
   ],
   "metadata": {
    "collapsed": false,
    "ExecuteTime": {
     "end_time": "2024-08-31T17:25:48.527951Z",
     "start_time": "2024-08-31T17:25:42.544616Z"
    }
   },
   "id": "4d65a856495046f5",
   "execution_count": 3
  },
  {
   "cell_type": "code",
   "outputs": [],
   "source": [
    "df[\"Schedule Name\"] = df.index.values"
   ],
   "metadata": {
    "collapsed": false,
    "ExecuteTime": {
     "end_time": "2024-08-31T17:28:48.914053Z",
     "start_time": "2024-08-31T17:28:48.907286Z"
    }
   },
   "id": "178c428088458011",
   "execution_count": 6
  },
  {
   "cell_type": "code",
   "outputs": [
    {
     "data": {
      "text/plain": "                                     Day of Week Day of Month Hour Minute  \\\nSchedule Name                                                               \n078b2593-7784-537d-a0ac-ae8c6a26d974     Tuesday           27    8     20   \n584bee4b-560f-55a5-92fc-47384722d47a    Thursday           29    6     50   \n65adba6d-47e9-592f-99f7-bc127466444a   Wednesday           28    8     20   \n89f5d67b-2ee8-5be5-94ee-7563f4efaa63   Wednesday           28    8     15   \n9ca05687-fe21-5fef-a311-31af58869497    Saturday           31   16     00   \n...                                          ...          ...  ...    ...   \ndc347012-62a2-58ed-88fa-36e8cc17ee8a      Friday            6   13     15   \ndummy_test_1                           Wednesday           31   11     27   \ntest-bangor-pike-lfg                    Saturday            3    6     20   \ntest-nyc-principal                      Saturday            3    8     70   \ntest-via-old-approach                   Saturday           31   13     15   \n\n                                     Time Zone  Feed Time  \\\nSchedule Name                                               \n078b2593-7784-537d-a0ac-ae8c6a26d974       EDT   8:20 EDT   \n584bee4b-560f-55a5-92fc-47384722d47a       EDT   6:50 EDT   \n65adba6d-47e9-592f-99f7-bc127466444a       EDT   8:20 EDT   \n89f5d67b-2ee8-5be5-94ee-7563f4efaa63       EDT   8:15 EDT   \n9ca05687-fe21-5fef-a311-31af58869497       EDT  16:00 EDT   \n...                                        ...        ...   \ndc347012-62a2-58ed-88fa-36e8cc17ee8a       EDT  13:15 EDT   \ndummy_test_1                               EDT  11:27 EDT   \ntest-bangor-pike-lfg                       EDT   6:20 EDT   \ntest-nyc-principal                         EDT   8:70 EDT   \ntest-via-old-approach                      EDT  13:15 EDT   \n\n                                                                        Cadence  \\\nSchedule Name                                                                     \n078b2593-7784-537d-a0ac-ae8c6a26d974                                      7 day   \n584bee4b-560f-55a5-92fc-47384722d47a                                      7 day   \n65adba6d-47e9-592f-99f7-bc127466444a                                      7 day   \n89f5d67b-2ee8-5be5-94ee-7563f4efaa63                                      7 day   \n9ca05687-fe21-5fef-a311-31af58869497  At 04:00 PM, on the last day of the month   \n...                                                                         ...   \ndc347012-62a2-58ed-88fa-36e8cc17ee8a                                     14 day   \ndummy_test_1                                                           1 minute   \ntest-bangor-pike-lfg                                                   1 minute   \ntest-nyc-principal                                                     1 minute   \ntest-via-old-approach                                                  5 minute   \n\n                                                             Schedule Name  \nSchedule Name                                                               \n078b2593-7784-537d-a0ac-ae8c6a26d974  078b2593-7784-537d-a0ac-ae8c6a26d974  \n584bee4b-560f-55a5-92fc-47384722d47a  584bee4b-560f-55a5-92fc-47384722d47a  \n65adba6d-47e9-592f-99f7-bc127466444a  65adba6d-47e9-592f-99f7-bc127466444a  \n89f5d67b-2ee8-5be5-94ee-7563f4efaa63  89f5d67b-2ee8-5be5-94ee-7563f4efaa63  \n9ca05687-fe21-5fef-a311-31af58869497  9ca05687-fe21-5fef-a311-31af58869497  \n...                                                                    ...  \ndc347012-62a2-58ed-88fa-36e8cc17ee8a  dc347012-62a2-58ed-88fa-36e8cc17ee8a  \ndummy_test_1                                                  dummy_test_1  \ntest-bangor-pike-lfg                                  test-bangor-pike-lfg  \ntest-nyc-principal                                      test-nyc-principal  \ntest-via-old-approach                                test-via-old-approach  \n\n[80 rows x 8 columns]",
      "text/html": "<div>\n<style scoped>\n    .dataframe tbody tr th:only-of-type {\n        vertical-align: middle;\n    }\n\n    .dataframe tbody tr th {\n        vertical-align: top;\n    }\n\n    .dataframe thead th {\n        text-align: right;\n    }\n</style>\n<table border=\"1\" class=\"dataframe\">\n  <thead>\n    <tr style=\"text-align: right;\">\n      <th></th>\n      <th>Day of Week</th>\n      <th>Day of Month</th>\n      <th>Hour</th>\n      <th>Minute</th>\n      <th>Time Zone</th>\n      <th>Feed Time</th>\n      <th>Cadence</th>\n      <th>Schedule Name</th>\n    </tr>\n    <tr>\n      <th>Schedule Name</th>\n      <th></th>\n      <th></th>\n      <th></th>\n      <th></th>\n      <th></th>\n      <th></th>\n      <th></th>\n      <th></th>\n    </tr>\n  </thead>\n  <tbody>\n    <tr>\n      <th>078b2593-7784-537d-a0ac-ae8c6a26d974</th>\n      <td>Tuesday</td>\n      <td>27</td>\n      <td>8</td>\n      <td>20</td>\n      <td>EDT</td>\n      <td>8:20 EDT</td>\n      <td>7 day</td>\n      <td>078b2593-7784-537d-a0ac-ae8c6a26d974</td>\n    </tr>\n    <tr>\n      <th>584bee4b-560f-55a5-92fc-47384722d47a</th>\n      <td>Thursday</td>\n      <td>29</td>\n      <td>6</td>\n      <td>50</td>\n      <td>EDT</td>\n      <td>6:50 EDT</td>\n      <td>7 day</td>\n      <td>584bee4b-560f-55a5-92fc-47384722d47a</td>\n    </tr>\n    <tr>\n      <th>65adba6d-47e9-592f-99f7-bc127466444a</th>\n      <td>Wednesday</td>\n      <td>28</td>\n      <td>8</td>\n      <td>20</td>\n      <td>EDT</td>\n      <td>8:20 EDT</td>\n      <td>7 day</td>\n      <td>65adba6d-47e9-592f-99f7-bc127466444a</td>\n    </tr>\n    <tr>\n      <th>89f5d67b-2ee8-5be5-94ee-7563f4efaa63</th>\n      <td>Wednesday</td>\n      <td>28</td>\n      <td>8</td>\n      <td>15</td>\n      <td>EDT</td>\n      <td>8:15 EDT</td>\n      <td>7 day</td>\n      <td>89f5d67b-2ee8-5be5-94ee-7563f4efaa63</td>\n    </tr>\n    <tr>\n      <th>9ca05687-fe21-5fef-a311-31af58869497</th>\n      <td>Saturday</td>\n      <td>31</td>\n      <td>16</td>\n      <td>00</td>\n      <td>EDT</td>\n      <td>16:00 EDT</td>\n      <td>At 04:00 PM, on the last day of the month</td>\n      <td>9ca05687-fe21-5fef-a311-31af58869497</td>\n    </tr>\n    <tr>\n      <th>...</th>\n      <td>...</td>\n      <td>...</td>\n      <td>...</td>\n      <td>...</td>\n      <td>...</td>\n      <td>...</td>\n      <td>...</td>\n      <td>...</td>\n    </tr>\n    <tr>\n      <th>dc347012-62a2-58ed-88fa-36e8cc17ee8a</th>\n      <td>Friday</td>\n      <td>6</td>\n      <td>13</td>\n      <td>15</td>\n      <td>EDT</td>\n      <td>13:15 EDT</td>\n      <td>14 day</td>\n      <td>dc347012-62a2-58ed-88fa-36e8cc17ee8a</td>\n    </tr>\n    <tr>\n      <th>dummy_test_1</th>\n      <td>Wednesday</td>\n      <td>31</td>\n      <td>11</td>\n      <td>27</td>\n      <td>EDT</td>\n      <td>11:27 EDT</td>\n      <td>1 minute</td>\n      <td>dummy_test_1</td>\n    </tr>\n    <tr>\n      <th>test-bangor-pike-lfg</th>\n      <td>Saturday</td>\n      <td>3</td>\n      <td>6</td>\n      <td>20</td>\n      <td>EDT</td>\n      <td>6:20 EDT</td>\n      <td>1 minute</td>\n      <td>test-bangor-pike-lfg</td>\n    </tr>\n    <tr>\n      <th>test-nyc-principal</th>\n      <td>Saturday</td>\n      <td>3</td>\n      <td>8</td>\n      <td>70</td>\n      <td>EDT</td>\n      <td>8:70 EDT</td>\n      <td>1 minute</td>\n      <td>test-nyc-principal</td>\n    </tr>\n    <tr>\n      <th>test-via-old-approach</th>\n      <td>Saturday</td>\n      <td>31</td>\n      <td>13</td>\n      <td>15</td>\n      <td>EDT</td>\n      <td>13:15 EDT</td>\n      <td>5 minute</td>\n      <td>test-via-old-approach</td>\n    </tr>\n  </tbody>\n</table>\n<p>80 rows × 8 columns</p>\n</div>"
     },
     "execution_count": 7,
     "metadata": {},
     "output_type": "execute_result"
    }
   ],
   "source": [
    "df"
   ],
   "metadata": {
    "collapsed": false,
    "ExecuteTime": {
     "end_time": "2024-08-31T17:28:53.525896Z",
     "start_time": "2024-08-31T17:28:53.520335Z"
    }
   },
   "id": "de0e4db9dbde45d0",
   "execution_count": 7
  },
  {
   "cell_type": "markdown",
   "source": [
    "### Based on Click Up\n",
    "\n",
    "Based on Click Up we believe we should have 72 active feeds."
   ],
   "metadata": {
    "collapsed": false
   },
   "id": "7c8f2921469e814c"
  },
  {
   "cell_type": "code",
   "outputs": [],
   "source": [
    "cleaned_df = df[\n",
    "    (~df[\"Schedule Name\"].str.contains(\"EliteConsulting\")) &\n",
    "    (~df[\"Schedule Name\"].str.contains(\"ElieteConsulting\")) &\n",
    "    (~df[\"Schedule Name\"].str.contains(\"Test\")) &\n",
    "    (~df[\"Schedule Name\"].str.contains(\"test\"))\n",
    "].reset_index(drop=True)"
   ],
   "metadata": {
    "collapsed": false,
    "ExecuteTime": {
     "end_time": "2024-08-31T17:28:58.672815Z",
     "start_time": "2024-08-31T17:28:58.670625Z"
    }
   },
   "id": "2a10f7fd1d557a85",
   "execution_count": 8
  },
  {
   "cell_type": "code",
   "outputs": [
    {
     "data": {
      "text/plain": "   Day of Week Day of Month Hour Minute Time Zone  Feed Time  \\\n0      Tuesday           27    8     20       EDT   8:20 EDT   \n1     Thursday           29    6     50       EDT   6:50 EDT   \n2    Wednesday           28    8     20       EDT   8:20 EDT   \n3    Wednesday           28    8     15       EDT   8:15 EDT   \n4     Saturday           31   16     00       EDT  16:00 EDT   \n..         ...          ...  ...    ...       ...        ...   \n66     Tuesday           30    7     15       EDT   7:15 EDT   \n67      Friday           30   14     15       EDT  14:15 EDT   \n68   Wednesday           28    8     20       EDT   8:20 EDT   \n69     Tuesday           27    8     50       EDT   8:50 EDT   \n70      Friday            6   13     15       EDT  13:15 EDT   \n\n                                      Cadence  \\\n0                                       7 day   \n1                                       7 day   \n2                                       7 day   \n3                                       7 day   \n4   At 04:00 PM, on the last day of the month   \n..                                        ...   \n66                                     7 days   \n67                                      7 day   \n68                                      7 day   \n69                                      7 day   \n70                                     14 day   \n\n                           Schedule Name  \n0   078b2593-7784-537d-a0ac-ae8c6a26d974  \n1   584bee4b-560f-55a5-92fc-47384722d47a  \n2   65adba6d-47e9-592f-99f7-bc127466444a  \n3   89f5d67b-2ee8-5be5-94ee-7563f4efaa63  \n4   9ca05687-fe21-5fef-a311-31af58869497  \n..                                   ...  \n66     WorldPayrollSSCSignsSymetraEDI834  \n67  a58c0b09-e668-5531-a18e-566f61ac7fa5  \n68  bef4df2b-2d5c-5e08-b818-f2a27961c46e  \n69  d76e2d5c-7a97-5a64-91e9-7478a84c43fb  \n70  dc347012-62a2-58ed-88fa-36e8cc17ee8a  \n\n[71 rows x 8 columns]",
      "text/html": "<div>\n<style scoped>\n    .dataframe tbody tr th:only-of-type {\n        vertical-align: middle;\n    }\n\n    .dataframe tbody tr th {\n        vertical-align: top;\n    }\n\n    .dataframe thead th {\n        text-align: right;\n    }\n</style>\n<table border=\"1\" class=\"dataframe\">\n  <thead>\n    <tr style=\"text-align: right;\">\n      <th></th>\n      <th>Day of Week</th>\n      <th>Day of Month</th>\n      <th>Hour</th>\n      <th>Minute</th>\n      <th>Time Zone</th>\n      <th>Feed Time</th>\n      <th>Cadence</th>\n      <th>Schedule Name</th>\n    </tr>\n  </thead>\n  <tbody>\n    <tr>\n      <th>0</th>\n      <td>Tuesday</td>\n      <td>27</td>\n      <td>8</td>\n      <td>20</td>\n      <td>EDT</td>\n      <td>8:20 EDT</td>\n      <td>7 day</td>\n      <td>078b2593-7784-537d-a0ac-ae8c6a26d974</td>\n    </tr>\n    <tr>\n      <th>1</th>\n      <td>Thursday</td>\n      <td>29</td>\n      <td>6</td>\n      <td>50</td>\n      <td>EDT</td>\n      <td>6:50 EDT</td>\n      <td>7 day</td>\n      <td>584bee4b-560f-55a5-92fc-47384722d47a</td>\n    </tr>\n    <tr>\n      <th>2</th>\n      <td>Wednesday</td>\n      <td>28</td>\n      <td>8</td>\n      <td>20</td>\n      <td>EDT</td>\n      <td>8:20 EDT</td>\n      <td>7 day</td>\n      <td>65adba6d-47e9-592f-99f7-bc127466444a</td>\n    </tr>\n    <tr>\n      <th>3</th>\n      <td>Wednesday</td>\n      <td>28</td>\n      <td>8</td>\n      <td>15</td>\n      <td>EDT</td>\n      <td>8:15 EDT</td>\n      <td>7 day</td>\n      <td>89f5d67b-2ee8-5be5-94ee-7563f4efaa63</td>\n    </tr>\n    <tr>\n      <th>4</th>\n      <td>Saturday</td>\n      <td>31</td>\n      <td>16</td>\n      <td>00</td>\n      <td>EDT</td>\n      <td>16:00 EDT</td>\n      <td>At 04:00 PM, on the last day of the month</td>\n      <td>9ca05687-fe21-5fef-a311-31af58869497</td>\n    </tr>\n    <tr>\n      <th>...</th>\n      <td>...</td>\n      <td>...</td>\n      <td>...</td>\n      <td>...</td>\n      <td>...</td>\n      <td>...</td>\n      <td>...</td>\n      <td>...</td>\n    </tr>\n    <tr>\n      <th>66</th>\n      <td>Tuesday</td>\n      <td>30</td>\n      <td>7</td>\n      <td>15</td>\n      <td>EDT</td>\n      <td>7:15 EDT</td>\n      <td>7 days</td>\n      <td>WorldPayrollSSCSignsSymetraEDI834</td>\n    </tr>\n    <tr>\n      <th>67</th>\n      <td>Friday</td>\n      <td>30</td>\n      <td>14</td>\n      <td>15</td>\n      <td>EDT</td>\n      <td>14:15 EDT</td>\n      <td>7 day</td>\n      <td>a58c0b09-e668-5531-a18e-566f61ac7fa5</td>\n    </tr>\n    <tr>\n      <th>68</th>\n      <td>Wednesday</td>\n      <td>28</td>\n      <td>8</td>\n      <td>20</td>\n      <td>EDT</td>\n      <td>8:20 EDT</td>\n      <td>7 day</td>\n      <td>bef4df2b-2d5c-5e08-b818-f2a27961c46e</td>\n    </tr>\n    <tr>\n      <th>69</th>\n      <td>Tuesday</td>\n      <td>27</td>\n      <td>8</td>\n      <td>50</td>\n      <td>EDT</td>\n      <td>8:50 EDT</td>\n      <td>7 day</td>\n      <td>d76e2d5c-7a97-5a64-91e9-7478a84c43fb</td>\n    </tr>\n    <tr>\n      <th>70</th>\n      <td>Friday</td>\n      <td>6</td>\n      <td>13</td>\n      <td>15</td>\n      <td>EDT</td>\n      <td>13:15 EDT</td>\n      <td>14 day</td>\n      <td>dc347012-62a2-58ed-88fa-36e8cc17ee8a</td>\n    </tr>\n  </tbody>\n</table>\n<p>71 rows × 8 columns</p>\n</div>"
     },
     "execution_count": 9,
     "metadata": {},
     "output_type": "execute_result"
    }
   ],
   "source": [
    "cleaned_df"
   ],
   "metadata": {
    "collapsed": false,
    "ExecuteTime": {
     "end_time": "2024-08-31T17:29:00.822178Z",
     "start_time": "2024-08-31T17:29:00.817964Z"
    }
   },
   "id": "45eaf5bb6a484789",
   "execution_count": 9
  },
  {
   "cell_type": "code",
   "outputs": [],
   "source": [],
   "metadata": {
    "collapsed": false
   },
   "id": "9a411f76543b4708"
  }
 ],
 "metadata": {
  "kernelspec": {
   "display_name": "Python 3",
   "language": "python",
   "name": "python3"
  },
  "language_info": {
   "codemirror_mode": {
    "name": "ipython",
    "version": 2
   },
   "file_extension": ".py",
   "mimetype": "text/x-python",
   "name": "python",
   "nbconvert_exporter": "python",
   "pygments_lexer": "ipython2",
   "version": "2.7.6"
  }
 },
 "nbformat": 4,
 "nbformat_minor": 5
}
