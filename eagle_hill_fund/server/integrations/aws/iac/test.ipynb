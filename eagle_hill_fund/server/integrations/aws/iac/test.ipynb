{
 "cells": [
  {
   "cell_type": "code",
   "execution_count": 2,
   "metadata": {},
   "outputs": [],
   "source": [
    "from payfusion.server.payfusion.apps.integrations.aws.iac.tool import CreateAWSResource"
   ]
  },
  {
   "cell_type": "code",
   "execution_count": 3,
   "metadata": {},
   "outputs": [],
   "source": [
    "aws_resource_obj = CreateAWSResource()"
   ]
  },
  {
   "cell_type": "code",
   "execution_count": 8,
   "metadata": {},
   "outputs": [
    {
     "data": {
      "text/plain": [
       "cloudformation.Stack(name='testing-stack23456')"
      ]
     },
     "execution_count": 8,
     "metadata": {},
     "output_type": "execute_result"
    }
   ],
   "source": [
    "policy_actions_list = [\n",
    "    \"AWSLambdaBasicExecutionRole\"\n",
    "]\n",
    "\n",
    "lambda_w_layer_kwargs = {\n",
    "    \"layer_name\": \"test-layer\",\n",
    "    \"layer_description\": \"A layer to allow pandas in the lambda function\",\n",
    "    \"s3_bucket_name\": \"payfusion-test-api-bucket-123342114\",\n",
    "    \"s3_bucket_key\": \"/\",\n",
    "    \"lambda_name\": \"test-lambda-function\",\n",
    "    \"policies_list\": policy_actions_list\n",
    "}\n",
    "\n",
    "api_kwargs = {\n",
    "    \"description\": \"A test rest api gateway\",\n",
    "    \"api_name\": \"test-rest-api\"\n",
    "}\n",
    "\n",
    "stack_name = \"testing-stack23456\"\n",
    "aws_resource_obj.create_resource(resource_type=\"api gateway\", stack_name=stack_name, **api_kwargs)\n",
    "\n",
    "aws_resource_obj.response"
   ]
  },
  {
   "cell_type": "code",
   "execution_count": 5,
   "metadata": {},
   "outputs": [
    {
     "data": {
      "text/plain": [
       "'{\"AWSTemplateFormatVersion\": \"2010-09-09\", \"Description\": \"Template used to create a lambda function with a layer\", \"Resources\": {\"LambdaLayer\": {\"Type\": \"AWS::Lambda::LayerVersion\", \"Properties\": {\"LayerName\": \"arn:aws:lambda:us-east-2:336392948345:layer:AWSSDKPandas-Python311:1\", \"Description\": \"A layer to allow pandas in the lambda function\", \"Content\": {\"S3Bucket\": \"payfusion-test-api-bucket-123342114\", \"S3Key\": \"/\"}, \"CompatibleRuntimes\": [\"python3.11\"]}}, \"LambdaFunction\": {\"Type\": \"AWS::Lambda::Function\", \"Properties\": {\"FunctionName\": \"test-lambda-function\", \"Runtime\": \"python3.11\", \"Handler\": \"index.handler\", \"Policies\": [\"AWSLambdaBasicExecutionRole\"], \"Layers\": [{\"Ref\": \"LambdaLayer\"}]}}}}'"
      ]
     },
     "execution_count": 5,
     "metadata": {},
     "output_type": "execute_result"
    }
   ],
   "source": [
    "aws_resource_obj.stack_template"
   ]
  }
 ],
 "metadata": {
  "kernelspec": {
   "display_name": "Python 3",
   "language": "python",
   "name": "python3"
  },
  "language_info": {
   "codemirror_mode": {
    "name": "ipython",
    "version": 3
   },
   "file_extension": ".py",
   "mimetype": "text/x-python",
   "name": "python",
   "nbconvert_exporter": "python",
   "pygments_lexer": "ipython3",
   "version": "3.7.9"
  },
  "orig_nbformat": 4
 },
 "nbformat": 4,
 "nbformat_minor": 2
}
