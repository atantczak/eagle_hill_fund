{
 "cells": [
  {
   "cell_type": "code",
   "execution_count": 2,
   "metadata": {},
   "outputs": [],
   "source": [
    "import boto3\n",
    "from payfusion.server.payfusion.apps.integrations.aws.credentials.access_keys import AWS_SECRET_ACCESS_KEY_ID, AWS_ACCESS_KEY_ID"
   ]
  },
  {
   "cell_type": "code",
   "execution_count": 3,
   "metadata": {},
   "outputs": [],
   "source": [
    "session = boto3.Session(aws_secret_access_key=AWS_SECRET_ACCESS_KEY_ID, aws_access_key_id=AWS_ACCESS_KEY_ID)"
   ]
  },
  {
   "cell_type": "code",
   "execution_count": null,
   "metadata": {},
   "outputs": [],
   "source": [
    "client = session.client(\"s3\")\n",
    "\n",
    "response = client.list_buckets()\n",
    "\n",
    "buckets = response[\"Buckets\"]\n",
    "\n",
    "buckets"
   ]
  },
  {
   "cell_type": "code",
   "execution_count": 9,
   "metadata": {},
   "outputs": [],
   "source": [
    "for bucket in buckets:\n",
    "    response = client.put_bucket_lifecycle_configuration(\n",
    "        Bucket=bucket[\"Name\"],\n",
    "        LifecycleConfiguration={\n",
    "            \"Rules\": [\n",
    "                {\n",
    "                    \"Expiration\": {\n",
    "                        \"Days\": 365\n",
    "                    },\n",
    "                    \"Prefix\": \"\",\n",
    "                    \"ID\": \"DeleteOldDataRule\",\n",
    "                    \"Status\": \"Enabled\",\n",
    "                },\n",
    "            ],\n",
    "        }\n",
    "    )"
   ]
  }
 ],
 "metadata": {
  "kernelspec": {
   "display_name": "Python 3",
   "language": "python",
   "name": "python3"
  },
  "language_info": {
   "codemirror_mode": {
    "name": "ipython",
    "version": 3
   },
   "file_extension": ".py",
   "mimetype": "text/x-python",
   "name": "python",
   "nbconvert_exporter": "python",
   "pygments_lexer": "ipython3",
   "version": "3.7.9"
  },
  "orig_nbformat": 4
 },
 "nbformat": 4,
 "nbformat_minor": 2
}
