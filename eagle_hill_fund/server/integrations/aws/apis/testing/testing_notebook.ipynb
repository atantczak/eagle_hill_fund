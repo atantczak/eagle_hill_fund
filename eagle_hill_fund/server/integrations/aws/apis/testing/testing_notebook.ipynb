{
 "cells": [
  {
   "cell_type": "code",
   "execution_count": 1,
   "metadata": {
    "collapsed": true
   },
   "outputs": [],
   "source": [
    "import requests\n",
    "import json"
   ]
  },
  {
   "cell_type": "code",
   "execution_count": 35,
   "outputs": [],
   "source": [
    "api_url = \"https://a269rlq2dh.execute-api.us-east-2.amazonaws.com/Production/data\""
   ],
   "metadata": {
    "collapsed": false
   }
  },
  {
   "cell_type": "code",
   "execution_count": 40,
   "outputs": [],
   "source": [
    "# Define the JSON payload\n",
    "payload = {\n",
    "    'data': \"Hello. This is the NEW DATA\"\n",
    "}\n",
    "\n",
    "# Set the headers to specify 'Content-Type' as 'application/json'\n",
    "headers = {\n",
    "    'Content-Type': 'application/json',\n",
    "    'x-api-key': 'Og1aYLKRCw3yYyEFByCMT8ex2AQVcpk9aMSVzAnk'\n",
    "}\n",
    "\n",
    "# Send the POST request with the JSON payload in the request body\n",
    "response = requests.post(api_url, headers=headers, json=payload)"
   ],
   "metadata": {
    "collapsed": false
   }
  },
  {
   "cell_type": "code",
   "execution_count": 41,
   "outputs": [
    {
     "data": {
      "text/plain": "'Data has been successfully uploaded to PayFusion.'"
     },
     "execution_count": 41,
     "metadata": {},
     "output_type": "execute_result"
    }
   ],
   "source": [
    "response.json()"
   ],
   "metadata": {
    "collapsed": false
   }
  },
  {
   "cell_type": "code",
   "execution_count": null,
   "outputs": [],
   "source": [],
   "metadata": {
    "collapsed": false
   }
  }
 ],
 "metadata": {
  "kernelspec": {
   "display_name": "Python 3",
   "language": "python",
   "name": "python3"
  },
  "language_info": {
   "codemirror_mode": {
    "name": "ipython",
    "version": 2
   },
   "file_extension": ".py",
   "mimetype": "text/x-python",
   "name": "python",
   "nbconvert_exporter": "python",
   "pygments_lexer": "ipython2",
   "version": "2.7.6"
  }
 },
 "nbformat": 4,
 "nbformat_minor": 0
}
