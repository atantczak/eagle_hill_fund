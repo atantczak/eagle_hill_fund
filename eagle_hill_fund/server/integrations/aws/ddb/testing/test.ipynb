{
 "cells": [
  {
   "cell_type": "code",
   "execution_count": 2,
   "metadata": {},
   "outputs": [],
   "source": [
    "from payfusion.server.payfusion.apps.integrations.aws.ddb.utils.ddb_item_mappings import logging_table_item_mapping\n",
    "from payfusion.server.payfusion.apps.integrations.aws.ddb.tool import DDB\n",
    "from payfusion.server.payfusion.apps.integrations.aws.ddb.utils.utils import dynamo_obj_to_python_obj, dynamodb_obj_list_to_df\n",
    "import pandas as pd"
   ]
  },
  {
   "cell_type": "code",
   "execution_count": 3,
   "metadata": {},
   "outputs": [],
   "source": [
    "ddb_obj = DDB(\"payfusion_logs_table\")"
   ]
  },
  {
   "cell_type": "code",
   "execution_count": 4,
   "metadata": {},
   "outputs": [],
   "source": [
    "test_item = logging_table_item_mapping(\n",
    "    \"greenleaf\",\n",
    "    \"medmen\",\n",
    "    \"wex_cobra\",\n",
    "    False,\n",
    "    error_details=\"an error occured when trying to connect\",\n",
    "    ttl=90\n",
    ")"
   ]
  },
  {
   "cell_type": "code",
   "execution_count": 5,
   "metadata": {},
   "outputs": [
    {
     "data": {
      "text/plain": [
       "True"
      ]
     },
     "execution_count": 5,
     "metadata": {},
     "output_type": "execute_result"
    }
   ],
   "source": [
    "ddb_obj.put_item(test_item)"
   ]
  },
  {
   "cell_type": "code",
   "execution_count": 9,
   "metadata": {},
   "outputs": [],
   "source": [
    "response = ddb_obj.scan_table()\n",
    "response = response[\"Items\"]"
   ]
  },
  {
   "cell_type": "code",
   "execution_count": 11,
   "metadata": {},
   "outputs": [
    {
     "data": {
      "text/plain": [
       "{'date': '10/13/2023:10:21:30',\n",
       " 'error_details': 'an error occured when trying to connect',\n",
       " 'file_status': 'Failed',\n",
       " 'feed_name': 'wex_cobra',\n",
       " 'client_name': 'greenleaf',\n",
       " 'TTL': Decimal('1704997290'),\n",
       " 'customer_name': 'medmen'}"
      ]
     },
     "execution_count": 11,
     "metadata": {},
     "output_type": "execute_result"
    }
   ],
   "source": [
    "response = dynamo_obj_to_python_obj(response[0])\n",
    "response"
   ]
  },
  {
   "cell_type": "code",
   "execution_count": 4,
   "metadata": {},
   "outputs": [
    {
     "data": {
      "text/html": [
       "<div>\n",
       "<style scoped>\n",
       "    .dataframe tbody tr th:only-of-type {\n",
       "        vertical-align: middle;\n",
       "    }\n",
       "\n",
       "    .dataframe tbody tr th {\n",
       "        vertical-align: top;\n",
       "    }\n",
       "\n",
       "    .dataframe thead th {\n",
       "        text-align: right;\n",
       "    }\n",
       "</style>\n",
       "<table border=\"1\" class=\"dataframe\">\n",
       "  <thead>\n",
       "    <tr style=\"text-align: right;\">\n",
       "      <th></th>\n",
       "      <th>date</th>\n",
       "      <th>error_details</th>\n",
       "      <th>file_status</th>\n",
       "      <th>feed_name</th>\n",
       "      <th>client_name</th>\n",
       "      <th>TTL</th>\n",
       "      <th>customer_name</th>\n",
       "    </tr>\n",
       "  </thead>\n",
       "  <tbody>\n",
       "    <tr>\n",
       "      <th>0</th>\n",
       "      <td>10/13/2023:10:21:30</td>\n",
       "      <td>an error occured when trying to connect</td>\n",
       "      <td>Failed</td>\n",
       "      <td>wex_cobra</td>\n",
       "      <td>greenleaf</td>\n",
       "      <td>1704997290</td>\n",
       "      <td>medmen</td>\n",
       "    </tr>\n",
       "  </tbody>\n",
       "</table>\n",
       "</div>"
      ],
      "text/plain": [
       "                  date                            error_details file_status  \\\n",
       "0  10/13/2023:10:21:30  an error occured when trying to connect      Failed   \n",
       "\n",
       "   feed_name client_name         TTL customer_name  \n",
       "0  wex_cobra   greenleaf  1704997290        medmen  "
      ]
     },
     "execution_count": 4,
     "metadata": {},
     "output_type": "execute_result"
    }
   ],
   "source": [
    "response = ddb_obj.run_between_query(partition_key_col_name=\"client_name\", partition_key_value=\"greenleaf\", column_name=\"date\", first_bound=\"10/12/2023\", second_bound=\"10/13/2023:10:30:00\")\n",
    "response = dynamodb_obj_list_to_df(response)\n",
    "response"
   ]
  }
 ],
 "metadata": {
  "kernelspec": {
   "display_name": "Python 3",
   "language": "python",
   "name": "python3"
  },
  "language_info": {
   "codemirror_mode": {
    "name": "ipython",
    "version": 3
   },
   "file_extension": ".py",
   "mimetype": "text/x-python",
   "name": "python",
   "nbconvert_exporter": "python",
   "pygments_lexer": "ipython3",
   "version": "3.7.9"
  }
 },
 "nbformat": 4,
 "nbformat_minor": 2
}
