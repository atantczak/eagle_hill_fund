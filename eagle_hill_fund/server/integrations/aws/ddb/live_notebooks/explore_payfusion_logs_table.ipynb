{
 "cells": [
  {
   "cell_type": "code",
   "execution_count": 1,
   "outputs": [],
   "source": [
    "from datetime import datetime"
   ],
   "metadata": {
    "collapsed": false,
    "pycharm": {
     "name": "#%%\n"
    }
   }
  },
  {
   "cell_type": "code",
   "execution_count": 2,
   "outputs": [],
   "source": [
    "from payfusion.server.payfusion.apps.integrations.aws.ddb.tool import DDB\n",
    "from payfusion.server.payfusion.apps.integrations.aws.ddb.utils.utils import dynamodb_obj_list_to_df"
   ],
   "metadata": {
    "collapsed": false,
    "pycharm": {
     "name": "#%%\n"
    }
   }
  },
  {
   "cell_type": "code",
   "execution_count": 3,
   "outputs": [],
   "source": [
    "from payfusion.server.payfusion.apps.integrations.aws.ddb.tool import DDB\n",
    "\n",
    "\n",
    "feed_df = DDB(table_name=\"payfusion_logs_table\").grab_client_table(client_name=\"greenleaf\")"
   ],
   "metadata": {
    "collapsed": false,
    "pycharm": {
     "name": "#%%\n"
    }
   }
  },
  {
   "cell_type": "code",
   "execution_count": 4,
   "outputs": [
    {
     "data": {
      "text/plain": "                    date file_status                 feed_name client_name  \\\n0    11/09/2023:10:55:44     Success                   wex_fsa   greenleaf   \n1    11/16/2023:19:23:30     Success                 wex_cobra   greenleaf   \n2    11/16/2023:20:43:56     Success  okta_demographic_updates   greenleaf   \n3    11/16/2023:22:43:53     Success  okta_demographic_updates   greenleaf   \n4    11/17/2023:00:43:54     Success  okta_demographic_updates   greenleaf   \n..                   ...         ...                       ...         ...   \n301  12/04/2023:00:43:53     Success  okta_demographic_updates   greenleaf   \n302  12/04/2023:02:43:51     Success  okta_demographic_updates   greenleaf   \n303  12/04/2023:04:43:52     Success  okta_demographic_updates   greenleaf   \n304  12/04/2023:06:43:52     Success  okta_demographic_updates   greenleaf   \n305  12/04/2023:08:43:54     Success  okta_demographic_updates   greenleaf   \n\n            TTL customer_name error_details  \n0    1731092144      intrepid           NaN  \n1    1731698610        medmen           NaN  \n2    1731703436      parallel           NaN  \n3    1731710633      parallel           NaN  \n4    1731717834      parallel           NaN  \n..          ...           ...           ...  \n301  1733186633      parallel           NaN  \n302  1733193831      parallel           NaN  \n303  1733201032      parallel           NaN  \n304  1733208232      parallel           NaN  \n305  1733215434      parallel           NaN  \n\n[306 rows x 7 columns]",
      "text/html": "<div>\n<style scoped>\n    .dataframe tbody tr th:only-of-type {\n        vertical-align: middle;\n    }\n\n    .dataframe tbody tr th {\n        vertical-align: top;\n    }\n\n    .dataframe thead th {\n        text-align: right;\n    }\n</style>\n<table border=\"1\" class=\"dataframe\">\n  <thead>\n    <tr style=\"text-align: right;\">\n      <th></th>\n      <th>date</th>\n      <th>file_status</th>\n      <th>feed_name</th>\n      <th>client_name</th>\n      <th>TTL</th>\n      <th>customer_name</th>\n      <th>error_details</th>\n    </tr>\n  </thead>\n  <tbody>\n    <tr>\n      <th>0</th>\n      <td>11/09/2023:10:55:44</td>\n      <td>Success</td>\n      <td>wex_fsa</td>\n      <td>greenleaf</td>\n      <td>1731092144</td>\n      <td>intrepid</td>\n      <td>NaN</td>\n    </tr>\n    <tr>\n      <th>1</th>\n      <td>11/16/2023:19:23:30</td>\n      <td>Success</td>\n      <td>wex_cobra</td>\n      <td>greenleaf</td>\n      <td>1731698610</td>\n      <td>medmen</td>\n      <td>NaN</td>\n    </tr>\n    <tr>\n      <th>2</th>\n      <td>11/16/2023:20:43:56</td>\n      <td>Success</td>\n      <td>okta_demographic_updates</td>\n      <td>greenleaf</td>\n      <td>1731703436</td>\n      <td>parallel</td>\n      <td>NaN</td>\n    </tr>\n    <tr>\n      <th>3</th>\n      <td>11/16/2023:22:43:53</td>\n      <td>Success</td>\n      <td>okta_demographic_updates</td>\n      <td>greenleaf</td>\n      <td>1731710633</td>\n      <td>parallel</td>\n      <td>NaN</td>\n    </tr>\n    <tr>\n      <th>4</th>\n      <td>11/17/2023:00:43:54</td>\n      <td>Success</td>\n      <td>okta_demographic_updates</td>\n      <td>greenleaf</td>\n      <td>1731717834</td>\n      <td>parallel</td>\n      <td>NaN</td>\n    </tr>\n    <tr>\n      <th>...</th>\n      <td>...</td>\n      <td>...</td>\n      <td>...</td>\n      <td>...</td>\n      <td>...</td>\n      <td>...</td>\n      <td>...</td>\n    </tr>\n    <tr>\n      <th>301</th>\n      <td>12/04/2023:00:43:53</td>\n      <td>Success</td>\n      <td>okta_demographic_updates</td>\n      <td>greenleaf</td>\n      <td>1733186633</td>\n      <td>parallel</td>\n      <td>NaN</td>\n    </tr>\n    <tr>\n      <th>302</th>\n      <td>12/04/2023:02:43:51</td>\n      <td>Success</td>\n      <td>okta_demographic_updates</td>\n      <td>greenleaf</td>\n      <td>1733193831</td>\n      <td>parallel</td>\n      <td>NaN</td>\n    </tr>\n    <tr>\n      <th>303</th>\n      <td>12/04/2023:04:43:52</td>\n      <td>Success</td>\n      <td>okta_demographic_updates</td>\n      <td>greenleaf</td>\n      <td>1733201032</td>\n      <td>parallel</td>\n      <td>NaN</td>\n    </tr>\n    <tr>\n      <th>304</th>\n      <td>12/04/2023:06:43:52</td>\n      <td>Success</td>\n      <td>okta_demographic_updates</td>\n      <td>greenleaf</td>\n      <td>1733208232</td>\n      <td>parallel</td>\n      <td>NaN</td>\n    </tr>\n    <tr>\n      <th>305</th>\n      <td>12/04/2023:08:43:54</td>\n      <td>Success</td>\n      <td>okta_demographic_updates</td>\n      <td>greenleaf</td>\n      <td>1733215434</td>\n      <td>parallel</td>\n      <td>NaN</td>\n    </tr>\n  </tbody>\n</table>\n<p>306 rows × 7 columns</p>\n</div>"
     },
     "execution_count": 4,
     "metadata": {},
     "output_type": "execute_result"
    }
   ],
   "source": [
    "feed_df"
   ],
   "metadata": {
    "collapsed": false,
    "pycharm": {
     "name": "#%%\n"
    }
   }
  },
  {
   "cell_type": "code",
   "execution_count": 3,
   "outputs": [],
   "source": [
    "ddb_obj = DDB(\"payfusion_logs_table\")"
   ],
   "metadata": {
    "collapsed": false,
    "pycharm": {
     "name": "#%%\n"
    }
   }
  },
  {
   "cell_type": "code",
   "execution_count": 9,
   "outputs": [
    {
     "data": {
      "text/plain": "                    date file_status                 feed_name client_name  \\\n0    11/09/2023:10:55:44     Success                   wex_fsa   greenleaf   \n1    11/16/2023:19:23:30     Success                 wex_cobra   greenleaf   \n2    11/16/2023:20:43:56     Success  okta_demographic_updates   greenleaf   \n3    11/16/2023:22:43:53     Success  okta_demographic_updates   greenleaf   \n4    11/17/2023:00:43:54     Success  okta_demographic_updates   greenleaf   \n..                   ...         ...                       ...         ...   \n301  12/04/2023:00:43:53     Success  okta_demographic_updates   greenleaf   \n302  12/04/2023:02:43:51     Success  okta_demographic_updates   greenleaf   \n303  12/04/2023:04:43:52     Success  okta_demographic_updates   greenleaf   \n304  12/04/2023:06:43:52     Success  okta_demographic_updates   greenleaf   \n305  12/04/2023:08:43:54     Success  okta_demographic_updates   greenleaf   \n\n            TTL customer_name error_details  \n0    1731092144      intrepid           NaN  \n1    1731698610        medmen           NaN  \n2    1731703436      parallel           NaN  \n3    1731710633      parallel           NaN  \n4    1731717834      parallel           NaN  \n..          ...           ...           ...  \n301  1733186633      parallel           NaN  \n302  1733193831      parallel           NaN  \n303  1733201032      parallel           NaN  \n304  1733208232      parallel           NaN  \n305  1733215434      parallel           NaN  \n\n[306 rows x 7 columns]",
      "text/html": "<div>\n<style scoped>\n    .dataframe tbody tr th:only-of-type {\n        vertical-align: middle;\n    }\n\n    .dataframe tbody tr th {\n        vertical-align: top;\n    }\n\n    .dataframe thead th {\n        text-align: right;\n    }\n</style>\n<table border=\"1\" class=\"dataframe\">\n  <thead>\n    <tr style=\"text-align: right;\">\n      <th></th>\n      <th>date</th>\n      <th>file_status</th>\n      <th>feed_name</th>\n      <th>client_name</th>\n      <th>TTL</th>\n      <th>customer_name</th>\n      <th>error_details</th>\n    </tr>\n  </thead>\n  <tbody>\n    <tr>\n      <th>0</th>\n      <td>11/09/2023:10:55:44</td>\n      <td>Success</td>\n      <td>wex_fsa</td>\n      <td>greenleaf</td>\n      <td>1731092144</td>\n      <td>intrepid</td>\n      <td>NaN</td>\n    </tr>\n    <tr>\n      <th>1</th>\n      <td>11/16/2023:19:23:30</td>\n      <td>Success</td>\n      <td>wex_cobra</td>\n      <td>greenleaf</td>\n      <td>1731698610</td>\n      <td>medmen</td>\n      <td>NaN</td>\n    </tr>\n    <tr>\n      <th>2</th>\n      <td>11/16/2023:20:43:56</td>\n      <td>Success</td>\n      <td>okta_demographic_updates</td>\n      <td>greenleaf</td>\n      <td>1731703436</td>\n      <td>parallel</td>\n      <td>NaN</td>\n    </tr>\n    <tr>\n      <th>3</th>\n      <td>11/16/2023:22:43:53</td>\n      <td>Success</td>\n      <td>okta_demographic_updates</td>\n      <td>greenleaf</td>\n      <td>1731710633</td>\n      <td>parallel</td>\n      <td>NaN</td>\n    </tr>\n    <tr>\n      <th>4</th>\n      <td>11/17/2023:00:43:54</td>\n      <td>Success</td>\n      <td>okta_demographic_updates</td>\n      <td>greenleaf</td>\n      <td>1731717834</td>\n      <td>parallel</td>\n      <td>NaN</td>\n    </tr>\n    <tr>\n      <th>...</th>\n      <td>...</td>\n      <td>...</td>\n      <td>...</td>\n      <td>...</td>\n      <td>...</td>\n      <td>...</td>\n      <td>...</td>\n    </tr>\n    <tr>\n      <th>301</th>\n      <td>12/04/2023:00:43:53</td>\n      <td>Success</td>\n      <td>okta_demographic_updates</td>\n      <td>greenleaf</td>\n      <td>1733186633</td>\n      <td>parallel</td>\n      <td>NaN</td>\n    </tr>\n    <tr>\n      <th>302</th>\n      <td>12/04/2023:02:43:51</td>\n      <td>Success</td>\n      <td>okta_demographic_updates</td>\n      <td>greenleaf</td>\n      <td>1733193831</td>\n      <td>parallel</td>\n      <td>NaN</td>\n    </tr>\n    <tr>\n      <th>303</th>\n      <td>12/04/2023:04:43:52</td>\n      <td>Success</td>\n      <td>okta_demographic_updates</td>\n      <td>greenleaf</td>\n      <td>1733201032</td>\n      <td>parallel</td>\n      <td>NaN</td>\n    </tr>\n    <tr>\n      <th>304</th>\n      <td>12/04/2023:06:43:52</td>\n      <td>Success</td>\n      <td>okta_demographic_updates</td>\n      <td>greenleaf</td>\n      <td>1733208232</td>\n      <td>parallel</td>\n      <td>NaN</td>\n    </tr>\n    <tr>\n      <th>305</th>\n      <td>12/04/2023:08:43:54</td>\n      <td>Success</td>\n      <td>okta_demographic_updates</td>\n      <td>greenleaf</td>\n      <td>1733215434</td>\n      <td>parallel</td>\n      <td>NaN</td>\n    </tr>\n  </tbody>\n</table>\n<p>306 rows × 7 columns</p>\n</div>"
     },
     "execution_count": 9,
     "metadata": {},
     "output_type": "execute_result"
    }
   ],
   "source": [
    "date_and_time_now = datetime.now().strftime(\"%m/%d/%Y:%H:%M:%S\")\n",
    "response = ddb_obj.run_between_query(partition_key_col_name=\"client_name\", partition_key_value=\"greenleaf\", column_name=\"date\", first_bound=\"01/01/2023\", second_bound=date_and_time_now)\n",
    "response = dynamodb_obj_list_to_df(response)\n",
    "response"
   ],
   "metadata": {
    "collapsed": false,
    "pycharm": {
     "name": "#%%\n"
    }
   }
  },
  {
   "cell_type": "code",
   "execution_count": 5,
   "outputs": [
    {
     "data": {
      "text/plain": "pandas.core.frame.DataFrame"
     },
     "execution_count": 5,
     "metadata": {},
     "output_type": "execute_result"
    }
   ],
   "source": [
    "type(response)"
   ],
   "metadata": {
    "collapsed": false,
    "pycharm": {
     "name": "#%%\n"
    }
   }
  },
  {
   "cell_type": "code",
   "execution_count": 6,
   "outputs": [],
   "source": [
    "import datetime"
   ],
   "metadata": {
    "collapsed": false,
    "pycharm": {
     "name": "#%%\n"
    }
   }
  },
  {
   "cell_type": "code",
   "execution_count": 7,
   "outputs": [],
   "source": [
    "from datetime import datetime"
   ],
   "metadata": {
    "collapsed": false,
    "pycharm": {
     "name": "#%%\n"
    }
   }
  },
  {
   "cell_type": "code",
   "execution_count": 8,
   "outputs": [
    {
     "data": {
      "text/plain": "'12/04/2023:09:05:01'"
     },
     "execution_count": 8,
     "metadata": {},
     "output_type": "execute_result"
    }
   ],
   "source": [
    "datetime.now().strftime(\"%m/%d/%Y:%H:%M:%S\")"
   ],
   "metadata": {
    "collapsed": false,
    "pycharm": {
     "name": "#%%\n"
    }
   }
  },
  {
   "cell_type": "code",
   "execution_count": 8,
   "outputs": [],
   "source": [],
   "metadata": {
    "collapsed": false,
    "pycharm": {
     "name": "#%%\n"
    }
   }
  }
 ],
 "metadata": {
  "kernelspec": {
   "name": "venv",
   "language": "python",
   "display_name": "venv"
  },
  "language_info": {
   "codemirror_mode": {
    "name": "ipython",
    "version": 2
   },
   "file_extension": ".py",
   "mimetype": "text/x-python",
   "name": "python",
   "nbconvert_exporter": "python",
   "pygments_lexer": "ipython2",
   "version": "2.7.6"
  }
 },
 "nbformat": 4,
 "nbformat_minor": 0
}