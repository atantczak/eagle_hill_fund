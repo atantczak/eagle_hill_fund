{
 "cells": [
  {
   "cell_type": "code",
   "execution_count": 7,
   "id": "initial_id",
   "metadata": {
    "collapsed": true,
    "ExecuteTime": {
     "end_time": "2024-11-26T11:54:33.592232Z",
     "start_time": "2024-11-26T11:54:33.590005Z"
    }
   },
   "outputs": [],
   "source": [
    "from payfusion.server.payfusion.apps.integrations.aws.ddb.tool import DDB"
   ]
  },
  {
   "cell_type": "code",
   "outputs": [],
   "source": [
    "emp_ddb_obj = DDB(table_name=\"payfusion_to_efx_employees_table\")\n",
    "comp_ddb_obj = DDB(table_name=\"payfusion_to_efx_employer_table\")"
   ],
   "metadata": {
    "collapsed": false,
    "ExecuteTime": {
     "end_time": "2024-11-26T11:54:33.800696Z",
     "start_time": "2024-11-26T11:54:33.794057Z"
    }
   },
   "id": "416d8518d18583f5",
   "execution_count": 8
  },
  {
   "cell_type": "code",
   "outputs": [],
   "source": [
    "emp_df = emp_ddb_obj.grab_entire_table(to_df=True)"
   ],
   "metadata": {
    "collapsed": false,
    "ExecuteTime": {
     "end_time": "2024-11-26T11:54:34.782220Z",
     "start_time": "2024-11-26T11:54:33.995041Z"
    }
   },
   "id": "9e90e44cf4f1339c",
   "execution_count": 9
  },
  {
   "cell_type": "code",
   "outputs": [
    {
     "data": {
      "text/plain": "205"
     },
     "execution_count": 36,
     "metadata": {},
     "output_type": "execute_result"
    }
   ],
   "source": [
    "len(emp_df)"
   ],
   "metadata": {
    "collapsed": false,
    "ExecuteTime": {
     "end_time": "2024-11-26T12:09:09.277667Z",
     "start_time": "2024-11-26T12:09:09.271840Z"
    }
   },
   "id": "4d1230678accde81",
   "execution_count": 36
  },
  {
   "cell_type": "code",
   "outputs": [
    {
     "name": "stdout",
     "output_type": "stream",
     "text": [
      "['83950484' '83946027']\n"
     ]
    }
   ],
   "source": [
    "for col in emp_df.columns:\n",
    "    if \"employerInformation_employerId\" in col:\n",
    "        print(emp_df[col].unique())"
   ],
   "metadata": {
    "collapsed": false,
    "ExecuteTime": {
     "end_time": "2024-11-26T12:02:00.786339Z",
     "start_time": "2024-11-26T12:02:00.779841Z"
    }
   },
   "id": "8eb96b62ea64cfe4",
   "execution_count": 35
  },
  {
   "cell_type": "code",
   "outputs": [],
   "source": [
    "comp_df = comp_ddb_obj.grab_entire_table(to_df=True)"
   ],
   "metadata": {
    "collapsed": false,
    "ExecuteTime": {
     "end_time": "2024-11-26T12:10:29.722004Z",
     "start_time": "2024-11-26T12:10:29.537047Z"
    }
   },
   "id": "330e7bf848a77848",
   "execution_count": 39
  },
  {
   "cell_type": "code",
   "outputs": [],
   "source": [
    "comp_df = comp_df[comp_df[\"companyCode\"] == \"pf83996652-883453556\"].reset_index(drop=True).iloc[0].to_dict()"
   ],
   "metadata": {
    "collapsed": false,
    "ExecuteTime": {
     "end_time": "2024-11-26T11:58:03.740082Z",
     "start_time": "2024-11-26T11:58:03.734699Z"
    }
   },
   "id": "9e0023664002cd1c",
   "execution_count": 20
  },
  {
   "cell_type": "code",
   "outputs": [],
   "source": [
    "company_id_and_fein = comp_df[\"company_id_and_fein\"]"
   ],
   "metadata": {
    "collapsed": false,
    "ExecuteTime": {
     "end_time": "2024-11-26T11:58:04.528843Z",
     "start_time": "2024-11-26T11:58:04.523989Z"
    }
   },
   "id": "4173be3199de141f",
   "execution_count": 21
  },
  {
   "cell_type": "code",
   "outputs": [
    {
     "data": {
      "text/plain": "'83996652-883453556'"
     },
     "execution_count": 22,
     "metadata": {},
     "output_type": "execute_result"
    }
   ],
   "source": [
    "company_id_and_fein"
   ],
   "metadata": {
    "collapsed": false,
    "ExecuteTime": {
     "end_time": "2024-11-26T11:58:04.855858Z",
     "start_time": "2024-11-26T11:58:04.851969Z"
    }
   },
   "id": "6811ae9ac721be40",
   "execution_count": 22
  },
  {
   "cell_type": "code",
   "outputs": [],
   "source": [
    "employer_fein = emp_df.iloc[0]['employerInformation_taxIdentifier_value']"
   ],
   "metadata": {
    "collapsed": false,
    "ExecuteTime": {
     "end_time": "2024-11-26T11:58:13.709959Z",
     "start_time": "2024-11-26T11:58:13.702420Z"
    }
   },
   "id": "666a21b134f3c893",
   "execution_count": 23
  },
  {
   "cell_type": "code",
   "outputs": [],
   "source": [
    "company_id_and_employee_id = emp_df.iloc[0][\"company_id_and_employee_id\"]"
   ],
   "metadata": {
    "collapsed": false,
    "ExecuteTime": {
     "end_time": "2024-11-26T11:58:19.928862Z",
     "start_time": "2024-11-26T11:58:19.922518Z"
    }
   },
   "id": "935d8e2e8b4701f2",
   "execution_count": 24
  },
  {
   "cell_type": "code",
   "outputs": [],
   "source": [
    "company_id = company_id_and_employee_id.split(\"-\")[0]"
   ],
   "metadata": {
    "collapsed": false,
    "ExecuteTime": {
     "end_time": "2024-11-26T11:58:30.147460Z",
     "start_time": "2024-11-26T11:58:30.142703Z"
    }
   },
   "id": "5af550c741b192f2",
   "execution_count": 25
  },
  {
   "cell_type": "code",
   "outputs": [],
   "source": [
    "current_company_id_and_fein = f\"{company_id}-{employer_fein}\""
   ],
   "metadata": {
    "collapsed": false,
    "ExecuteTime": {
     "end_time": "2024-11-26T11:58:41.115408Z",
     "start_time": "2024-11-26T11:58:41.107125Z"
    }
   },
   "id": "ed6cd08d2d49651b",
   "execution_count": 26
  },
  {
   "cell_type": "code",
   "outputs": [
    {
     "data": {
      "text/plain": "'83950484-20-2172382'"
     },
     "execution_count": 27,
     "metadata": {},
     "output_type": "execute_result"
    }
   ],
   "source": [
    "current_company_id_and_fein"
   ],
   "metadata": {
    "collapsed": false,
    "ExecuteTime": {
     "end_time": "2024-11-26T11:58:46.031454Z",
     "start_time": "2024-11-26T11:58:46.023911Z"
    }
   },
   "id": "dd08f025bfeff7fe",
   "execution_count": 27
  },
  {
   "cell_type": "code",
   "outputs": [
    {
     "data": {
      "text/plain": "'83996652-883453556'"
     },
     "execution_count": 28,
     "metadata": {},
     "output_type": "execute_result"
    }
   ],
   "source": [
    "company_id_and_fein"
   ],
   "metadata": {
    "collapsed": false,
    "ExecuteTime": {
     "end_time": "2024-11-26T11:58:49.865650Z",
     "start_time": "2024-11-26T11:58:49.859272Z"
    }
   },
   "id": "12ee339e9b6849ee",
   "execution_count": 28
  },
  {
   "cell_type": "code",
   "outputs": [
    {
     "data": {
      "text/plain": "'20-2172382'"
     },
     "execution_count": 29,
     "metadata": {},
     "output_type": "execute_result"
    }
   ],
   "source": [
    "employer_fein"
   ],
   "metadata": {
    "collapsed": false,
    "ExecuteTime": {
     "end_time": "2024-11-26T11:59:37.054026Z",
     "start_time": "2024-11-26T11:59:37.048163Z"
    }
   },
   "id": "474d6af52670acb0",
   "execution_count": 29
  },
  {
   "cell_type": "code",
   "outputs": [
    {
     "data": {
      "text/plain": "array(['20-2172382', '85-3011052'], dtype=object)"
     },
     "execution_count": 31,
     "metadata": {},
     "output_type": "execute_result"
    }
   ],
   "source": [
    "emp_df[\"employerInformation_taxIdentifier_value\"].unique()"
   ],
   "metadata": {
    "collapsed": false,
    "ExecuteTime": {
     "end_time": "2024-11-26T12:00:24.807631Z",
     "start_time": "2024-11-26T12:00:24.802351Z"
    }
   },
   "id": "98c7b3f7f4a044d3",
   "execution_count": 31
  },
  {
   "cell_type": "code",
   "outputs": [],
   "source": [
    "emp_ddb_obj.grab_table_w_filter(\n",
    "    attribute_name=\"\"\n",
    ")"
   ],
   "metadata": {
    "collapsed": false
   },
   "id": "e8679526c637bb47"
  },
  {
   "cell_type": "code",
   "outputs": [
    {
     "data": {
      "text/plain": "array(['20-2172382', '85-3011052'], dtype=object)"
     },
     "execution_count": 37,
     "metadata": {},
     "output_type": "execute_result"
    }
   ],
   "source": [
    "emp_df[\"employerInformation_taxIdentifier_value\"].unique()"
   ],
   "metadata": {
    "collapsed": false,
    "ExecuteTime": {
     "end_time": "2024-11-26T12:09:52.680535Z",
     "start_time": "2024-11-26T12:09:52.672490Z"
    }
   },
   "id": "d4b1992bc92c8282",
   "execution_count": 37
  },
  {
   "cell_type": "code",
   "outputs": [
    {
     "data": {
      "text/plain": "Index(['companyContact_firstName', 'servicesIncluded_0', 'servicesIncluded_1',\n       'employeeCount_inactive', 'address_state', 'payroll_payrollFrequency',\n       'address_line1', 'equifaxCompanyCode', 'address_zipCode',\n       'address_country', 'address_line2', 'fein', 'payroll_payrollLiveDate',\n       'companyContact_phone', 'partnerContact_lastName', 'companyName',\n       'company_id_and_fein', 'address_city', 'employeeCount_active',\n       'partnerContact_email', 'companyContact_email',\n       'payroll_isOnPartnerPayroll', 'companyCode', 'partnerContact_firstName',\n       'companyContact_lastName', 'employeeCount_total',\n       'partnerContact_phone', 'subPartnerId'],\n      dtype='object')"
     },
     "execution_count": 43,
     "metadata": {},
     "output_type": "execute_result"
    }
   ],
   "source": [
    "comp_df.columns"
   ],
   "metadata": {
    "collapsed": false,
    "ExecuteTime": {
     "end_time": "2024-11-26T12:11:01.234200Z",
     "start_time": "2024-11-26T12:11:01.230819Z"
    }
   },
   "id": "cf45f4db42040da4",
   "execution_count": 43
  },
  {
   "cell_type": "code",
   "outputs": [
    {
     "data": {
      "text/plain": "array(['pf83953518-260448071', 'pf83996652-883453556',\n       'pf83946027-85-3011052', 'pf83959448-232416442',\n       'pf83953411-463631114', 'pf83956331-201399721',\n       'pf83970029-23-1381030', 'pf83959016-060951718',\n       'pf83974190-461251368', 'pf83950484-20-2172382',\n       'pf83962955-232836058', 'pf83980860-45-4791095'], dtype=object)"
     },
     "execution_count": 44,
     "metadata": {},
     "output_type": "execute_result"
    }
   ],
   "source": [
    "comp_df[\"companyCode\"].unique()"
   ],
   "metadata": {
    "collapsed": false,
    "ExecuteTime": {
     "end_time": "2024-11-26T12:11:09.929459Z",
     "start_time": "2024-11-26T12:11:09.925044Z"
    }
   },
   "id": "cab612687d452325",
   "execution_count": 44
  },
  {
   "cell_type": "code",
   "outputs": [],
   "source": [],
   "metadata": {
    "collapsed": false
   },
   "id": "45b4e0de2d3aa943"
  }
 ],
 "metadata": {
  "kernelspec": {
   "display_name": "Python 3",
   "language": "python",
   "name": "python3"
  },
  "language_info": {
   "codemirror_mode": {
    "name": "ipython",
    "version": 2
   },
   "file_extension": ".py",
   "mimetype": "text/x-python",
   "name": "python",
   "nbconvert_exporter": "python",
   "pygments_lexer": "ipython2",
   "version": "2.7.6"
  }
 },
 "nbformat": 4,
 "nbformat_minor": 5
}
