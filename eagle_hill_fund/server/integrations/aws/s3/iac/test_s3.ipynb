{
 "cells": [
  {
   "cell_type": "code",
   "execution_count": 2,
   "metadata": {},
   "outputs": [],
   "source": [
    "import boto3\n",
    "import yaml\n",
    "\n",
    "from payfusion.server.payfusion.apps.integrations.aws.credentials.access_keys import AWS_ACCESS_KEY_ID, AWS_SECRET_ACCESS_KEY_ID"
   ]
  },
  {
   "cell_type": "code",
   "execution_count": 3,
   "metadata": {},
   "outputs": [],
   "source": [
    "with open(\"test_s3.yaml\", \"r\") as stream:\n",
    "    try:\n",
    "        bucket_config = yaml.safe_load(stream)\n",
    "    except yaml.YAMLError as e:\n",
    "        print(e)"
   ]
  },
  {
   "cell_type": "code",
   "execution_count": 4,
   "metadata": {},
   "outputs": [],
   "source": [
    "bucket_name = bucket_config[\"Resources\"][\"S3Bucket\"][\"Properties\"][\"BucketName\"]\n",
    "region = bucket_config[\"Resources\"][\"S3Bucket\"][\"Properties\"][\"Region\"]"
   ]
  },
  {
   "cell_type": "code",
   "execution_count": 5,
   "metadata": {},
   "outputs": [
    {
     "name": "stdout",
     "output_type": "stream",
     "text": [
      "payfusion-test-s3-bucket\n"
     ]
    }
   ],
   "source": [
    "session = boto3.Session(\n",
    "    aws_access_key_id=AWS_ACCESS_KEY_ID,\n",
    "    aws_secret_access_key=AWS_SECRET_ACCESS_KEY_ID\n",
    ")\n",
    "\n",
    "s3_client = session.resource(\"s3\", region_name=region)"
   ]
  },
  {
   "cell_type": "code",
   "execution_count": 6,
   "metadata": {},
   "outputs": [
    {
     "data": {
      "text/plain": [
       "s3.Bucket(name='payfusion-test-s3-bucket')"
      ]
     },
     "execution_count": 6,
     "metadata": {},
     "output_type": "execute_result"
    }
   ],
   "source": [
    "s3_client.create_bucket(\n",
    "    Bucket=bucket_name,\n",
    "    CreateBucketConfiguration= {\"LocationConstraint\": region}\n",
    ")"
   ]
  }
 ],
 "metadata": {
  "kernelspec": {
   "display_name": "Python 3",
   "language": "python",
   "name": "python3"
  },
  "language_info": {
   "codemirror_mode": {
    "name": "ipython",
    "version": 3
   },
   "file_extension": ".py",
   "mimetype": "text/x-python",
   "name": "python",
   "nbconvert_exporter": "python",
   "pygments_lexer": "ipython3",
   "version": "3.7.9"
  },
  "orig_nbformat": 4
 },
 "nbformat": 4,
 "nbformat_minor": 2
}
