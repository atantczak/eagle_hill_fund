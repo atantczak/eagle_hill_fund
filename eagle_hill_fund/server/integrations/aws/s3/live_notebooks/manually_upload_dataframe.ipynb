{
 "cells": [
  {
   "cell_type": "code",
   "execution_count": 1,
   "metadata": {
    "collapsed": true
   },
   "outputs": [],
   "source": [
    "import pandas as pd\n",
    "from payfusion.server.payfusion.apps.integrations.aws.s3.tool import s3Instance"
   ]
  },
  {
   "cell_type": "code",
   "execution_count": 2,
   "outputs": [],
   "source": [
    "s3_obj = s3Instance()"
   ],
   "metadata": {
    "collapsed": false
   }
  },
  {
   "cell_type": "code",
   "execution_count": 3,
   "outputs": [],
   "source": [
    "df = pd.read_excel(\"trulieve_census_june_hires.xlsx\")"
   ],
   "metadata": {
    "collapsed": false
   }
  },
  {
   "cell_type": "code",
   "execution_count": 4,
   "outputs": [
    {
     "data": {
      "text/plain": "               Company Name  Company ID Employee Last Name and Suffix  \\\n0    The Healing Corner INC    18123224                         Finol   \n1    The Healing Corner INC    18123224                       Goodwin   \n2    The Healing Corner INC    18123224                     Rodriguez   \n3    The Healing Corner INC    18123224                         Ruest   \n4    The Healing Corner INC    18123224                      Skinzera   \n..                      ...         ...                           ...   \n210            Trulieve Inc    18139988                        Willis   \n211            Trulieve Inc    18139987                          Witt   \n212            Trulieve Inc    18139984                         Woods   \n213            Trulieve Inc    18139986                         Woods   \n214            Trulieve Inc    18139985                         Yoder   \n\n    Employee First Name Employee MI Employee Preferred Name  Employee ID  \\\n0                Raquel         NaN                     NaN       104470   \n1                Hannah         NaN                     NaN       104198   \n2                 Alize         NaN                     NaN       104526   \n3                 Sarah         NaN                     NaN       104043   \n4                 Amber         NaN                     NaN       104421   \n..                  ...         ...                     ...          ...   \n210           Gabrielle         NaN                     NaN       104458   \n211               Logan         NaN                     NaN       104508   \n212               Dylan         NaN                     NaN       104550   \n213               Steve         NaN                     NaN       104414   \n214              Ashley         NaN                     NaN       104451   \n\n     Employee Clock ID Tax ID Formatted     Sex  ...      Length of Service  \\\n0             104470.0      783-43-3218  Female  ...  0 year(s) 0 month(s)    \n1             104198.0      046-98-3875  Female  ...  0 year(s) 1 month(s)    \n2             104526.0      044-98-9510  Female  ...  0 year(s) 0 month(s)    \n3             104043.0      046-98-0795  Female  ...  0 year(s) 1 month(s)    \n4             104421.0      044-96-2321  Female  ...  0 year(s) 0 month(s)    \n..                 ...              ...     ...  ...                    ...   \n210           104458.0      107-88-4907  Female  ...  0 year(s) 0 month(s)    \n211           104508.0      592-97-5406  Female  ...  0 year(s) 0 month(s)    \n212           104550.0      590-37-3415    Male  ...  0 year(s) 0 month(s)    \n213           104414.0      393-72-5204    Male  ...  0 year(s) 0 month(s)    \n214           104451.0      169-76-6559  Female  ...  0 year(s) 0 month(s)    \n\n     Termination Length of Service Position           Supervisor  \\\n0                              NaN      NaN    Ouellette, Morgan   \n1                              NaN      NaN    Ouellette, Morgan   \n2                              NaN      NaN    Ouellette, Morgan   \n3                              NaN      NaN    Ouellette, Morgan   \n4                              NaN      NaN    Ouellette, Morgan   \n..                             ...      ...                  ...   \n210                            NaN      NaN     Vasquez, Julio A   \n211                            NaN      NaN  Livingston, Clifton   \n212                            NaN      NaN    Gunnels, Daniel S   \n213                            NaN      NaN  LaPierre, Kristin R   \n214                            NaN      NaN                  NaN   \n\n              Primary Org           Org Level 1           Org Level 2  \\\n0    1125 Dispensary Asso  R10100 CT-R-Bristol-       R106 Dispensary   \n1    1125 Dispensary Asso  R10100 CT-R-Bristol-       R106 Dispensary   \n2    1125 Dispensary Asso  R10100 CT-R-Bristol-       R106 Dispensary   \n3    1125 Dispensary Asso  R10100 CT-R-Bristol-       R106 Dispensary   \n4         1556 Pharmacist  R10100 CT-R-Bristol-       R106 Dispensary   \n..                    ...                   ...                   ...   \n210        400 Consultant          7300 Tamarac          7300 Tamarac   \n211        400 Consultant        7200 Lake City        7200 Lake City   \n212        026 Production       10220 Tampa Hub      10226 Production   \n213        400 Consultant           8700 Osprey           8700 Osprey   \n214      15000 Specialist         220000 Remote  220300 Human Resourc   \n\n              Org Level 3 Org Level 4 Org Level 5  \n0    1125 Dispensary Asso         NaN         NaN  \n1    1125 Dispensary Asso         NaN         NaN  \n2    1125 Dispensary Asso         NaN         NaN  \n3    1125 Dispensary Asso         NaN         NaN  \n4         1556 Pharmacist         NaN         NaN  \n..                    ...         ...         ...  \n210        400 Consultant         NaN         NaN  \n211        400 Consultant         NaN         NaN  \n212        026 Production         NaN         NaN  \n213        400 Consultant         NaN         NaN  \n214      15000 Specialist         NaN         NaN  \n\n[215 rows x 73 columns]",
      "text/html": "<div>\n<style scoped>\n    .dataframe tbody tr th:only-of-type {\n        vertical-align: middle;\n    }\n\n    .dataframe tbody tr th {\n        vertical-align: top;\n    }\n\n    .dataframe thead th {\n        text-align: right;\n    }\n</style>\n<table border=\"1\" class=\"dataframe\">\n  <thead>\n    <tr style=\"text-align: right;\">\n      <th></th>\n      <th>Company Name</th>\n      <th>Company ID</th>\n      <th>Employee Last Name and Suffix</th>\n      <th>Employee First Name</th>\n      <th>Employee MI</th>\n      <th>Employee Preferred Name</th>\n      <th>Employee ID</th>\n      <th>Employee Clock ID</th>\n      <th>Tax ID Formatted</th>\n      <th>Sex</th>\n      <th>...</th>\n      <th>Length of Service</th>\n      <th>Termination Length of Service</th>\n      <th>Position</th>\n      <th>Supervisor</th>\n      <th>Primary Org</th>\n      <th>Org Level 1</th>\n      <th>Org Level 2</th>\n      <th>Org Level 3</th>\n      <th>Org Level 4</th>\n      <th>Org Level 5</th>\n    </tr>\n  </thead>\n  <tbody>\n    <tr>\n      <th>0</th>\n      <td>The Healing Corner INC</td>\n      <td>18123224</td>\n      <td>Finol</td>\n      <td>Raquel</td>\n      <td>NaN</td>\n      <td>NaN</td>\n      <td>104470</td>\n      <td>104470.0</td>\n      <td>783-43-3218</td>\n      <td>Female</td>\n      <td>...</td>\n      <td>0 year(s) 0 month(s)</td>\n      <td>NaN</td>\n      <td>NaN</td>\n      <td>Ouellette, Morgan</td>\n      <td>1125 Dispensary Asso</td>\n      <td>R10100 CT-R-Bristol-</td>\n      <td>R106 Dispensary</td>\n      <td>1125 Dispensary Asso</td>\n      <td>NaN</td>\n      <td>NaN</td>\n    </tr>\n    <tr>\n      <th>1</th>\n      <td>The Healing Corner INC</td>\n      <td>18123224</td>\n      <td>Goodwin</td>\n      <td>Hannah</td>\n      <td>NaN</td>\n      <td>NaN</td>\n      <td>104198</td>\n      <td>104198.0</td>\n      <td>046-98-3875</td>\n      <td>Female</td>\n      <td>...</td>\n      <td>0 year(s) 1 month(s)</td>\n      <td>NaN</td>\n      <td>NaN</td>\n      <td>Ouellette, Morgan</td>\n      <td>1125 Dispensary Asso</td>\n      <td>R10100 CT-R-Bristol-</td>\n      <td>R106 Dispensary</td>\n      <td>1125 Dispensary Asso</td>\n      <td>NaN</td>\n      <td>NaN</td>\n    </tr>\n    <tr>\n      <th>2</th>\n      <td>The Healing Corner INC</td>\n      <td>18123224</td>\n      <td>Rodriguez</td>\n      <td>Alize</td>\n      <td>NaN</td>\n      <td>NaN</td>\n      <td>104526</td>\n      <td>104526.0</td>\n      <td>044-98-9510</td>\n      <td>Female</td>\n      <td>...</td>\n      <td>0 year(s) 0 month(s)</td>\n      <td>NaN</td>\n      <td>NaN</td>\n      <td>Ouellette, Morgan</td>\n      <td>1125 Dispensary Asso</td>\n      <td>R10100 CT-R-Bristol-</td>\n      <td>R106 Dispensary</td>\n      <td>1125 Dispensary Asso</td>\n      <td>NaN</td>\n      <td>NaN</td>\n    </tr>\n    <tr>\n      <th>3</th>\n      <td>The Healing Corner INC</td>\n      <td>18123224</td>\n      <td>Ruest</td>\n      <td>Sarah</td>\n      <td>NaN</td>\n      <td>NaN</td>\n      <td>104043</td>\n      <td>104043.0</td>\n      <td>046-98-0795</td>\n      <td>Female</td>\n      <td>...</td>\n      <td>0 year(s) 1 month(s)</td>\n      <td>NaN</td>\n      <td>NaN</td>\n      <td>Ouellette, Morgan</td>\n      <td>1125 Dispensary Asso</td>\n      <td>R10100 CT-R-Bristol-</td>\n      <td>R106 Dispensary</td>\n      <td>1125 Dispensary Asso</td>\n      <td>NaN</td>\n      <td>NaN</td>\n    </tr>\n    <tr>\n      <th>4</th>\n      <td>The Healing Corner INC</td>\n      <td>18123224</td>\n      <td>Skinzera</td>\n      <td>Amber</td>\n      <td>NaN</td>\n      <td>NaN</td>\n      <td>104421</td>\n      <td>104421.0</td>\n      <td>044-96-2321</td>\n      <td>Female</td>\n      <td>...</td>\n      <td>0 year(s) 0 month(s)</td>\n      <td>NaN</td>\n      <td>NaN</td>\n      <td>Ouellette, Morgan</td>\n      <td>1556 Pharmacist</td>\n      <td>R10100 CT-R-Bristol-</td>\n      <td>R106 Dispensary</td>\n      <td>1556 Pharmacist</td>\n      <td>NaN</td>\n      <td>NaN</td>\n    </tr>\n    <tr>\n      <th>...</th>\n      <td>...</td>\n      <td>...</td>\n      <td>...</td>\n      <td>...</td>\n      <td>...</td>\n      <td>...</td>\n      <td>...</td>\n      <td>...</td>\n      <td>...</td>\n      <td>...</td>\n      <td>...</td>\n      <td>...</td>\n      <td>...</td>\n      <td>...</td>\n      <td>...</td>\n      <td>...</td>\n      <td>...</td>\n      <td>...</td>\n      <td>...</td>\n      <td>...</td>\n      <td>...</td>\n    </tr>\n    <tr>\n      <th>210</th>\n      <td>Trulieve Inc</td>\n      <td>18139988</td>\n      <td>Willis</td>\n      <td>Gabrielle</td>\n      <td>NaN</td>\n      <td>NaN</td>\n      <td>104458</td>\n      <td>104458.0</td>\n      <td>107-88-4907</td>\n      <td>Female</td>\n      <td>...</td>\n      <td>0 year(s) 0 month(s)</td>\n      <td>NaN</td>\n      <td>NaN</td>\n      <td>Vasquez, Julio A</td>\n      <td>400 Consultant</td>\n      <td>7300 Tamarac</td>\n      <td>7300 Tamarac</td>\n      <td>400 Consultant</td>\n      <td>NaN</td>\n      <td>NaN</td>\n    </tr>\n    <tr>\n      <th>211</th>\n      <td>Trulieve Inc</td>\n      <td>18139987</td>\n      <td>Witt</td>\n      <td>Logan</td>\n      <td>NaN</td>\n      <td>NaN</td>\n      <td>104508</td>\n      <td>104508.0</td>\n      <td>592-97-5406</td>\n      <td>Female</td>\n      <td>...</td>\n      <td>0 year(s) 0 month(s)</td>\n      <td>NaN</td>\n      <td>NaN</td>\n      <td>Livingston, Clifton</td>\n      <td>400 Consultant</td>\n      <td>7200 Lake City</td>\n      <td>7200 Lake City</td>\n      <td>400 Consultant</td>\n      <td>NaN</td>\n      <td>NaN</td>\n    </tr>\n    <tr>\n      <th>212</th>\n      <td>Trulieve Inc</td>\n      <td>18139984</td>\n      <td>Woods</td>\n      <td>Dylan</td>\n      <td>NaN</td>\n      <td>NaN</td>\n      <td>104550</td>\n      <td>104550.0</td>\n      <td>590-37-3415</td>\n      <td>Male</td>\n      <td>...</td>\n      <td>0 year(s) 0 month(s)</td>\n      <td>NaN</td>\n      <td>NaN</td>\n      <td>Gunnels, Daniel S</td>\n      <td>026 Production</td>\n      <td>10220 Tampa Hub</td>\n      <td>10226 Production</td>\n      <td>026 Production</td>\n      <td>NaN</td>\n      <td>NaN</td>\n    </tr>\n    <tr>\n      <th>213</th>\n      <td>Trulieve Inc</td>\n      <td>18139986</td>\n      <td>Woods</td>\n      <td>Steve</td>\n      <td>NaN</td>\n      <td>NaN</td>\n      <td>104414</td>\n      <td>104414.0</td>\n      <td>393-72-5204</td>\n      <td>Male</td>\n      <td>...</td>\n      <td>0 year(s) 0 month(s)</td>\n      <td>NaN</td>\n      <td>NaN</td>\n      <td>LaPierre, Kristin R</td>\n      <td>400 Consultant</td>\n      <td>8700 Osprey</td>\n      <td>8700 Osprey</td>\n      <td>400 Consultant</td>\n      <td>NaN</td>\n      <td>NaN</td>\n    </tr>\n    <tr>\n      <th>214</th>\n      <td>Trulieve Inc</td>\n      <td>18139985</td>\n      <td>Yoder</td>\n      <td>Ashley</td>\n      <td>NaN</td>\n      <td>NaN</td>\n      <td>104451</td>\n      <td>104451.0</td>\n      <td>169-76-6559</td>\n      <td>Female</td>\n      <td>...</td>\n      <td>0 year(s) 0 month(s)</td>\n      <td>NaN</td>\n      <td>NaN</td>\n      <td>NaN</td>\n      <td>15000 Specialist</td>\n      <td>220000 Remote</td>\n      <td>220300 Human Resourc</td>\n      <td>15000 Specialist</td>\n      <td>NaN</td>\n      <td>NaN</td>\n    </tr>\n  </tbody>\n</table>\n<p>215 rows × 73 columns</p>\n</div>"
     },
     "execution_count": 4,
     "metadata": {},
     "output_type": "execute_result"
    }
   ],
   "source": [
    "df"
   ],
   "metadata": {
    "collapsed": false
   }
  },
  {
   "cell_type": "code",
   "execution_count": 5,
   "outputs": [],
   "source": [
    "s3_obj.upload_dataframe_as_csv(df, bucket=\"greenleafhead\", key=\"trulieve/incoming_census_data/manual_data_dumps/june_hire_data.csv\")"
   ],
   "metadata": {
    "collapsed": false
   }
  }
 ],
 "metadata": {
  "kernelspec": {
   "display_name": "Python 3",
   "language": "python",
   "name": "python3"
  },
  "language_info": {
   "codemirror_mode": {
    "name": "ipython",
    "version": 2
   },
   "file_extension": ".py",
   "mimetype": "text/x-python",
   "name": "python",
   "nbconvert_exporter": "python",
   "pygments_lexer": "ipython2",
   "version": "2.7.6"
  }
 },
 "nbformat": 4,
 "nbformat_minor": 0
}
