{
 "cells": [
  {
   "cell_type": "code",
   "execution_count": 10,
   "metadata": {
    "collapsed": true
   },
   "outputs": [],
   "source": [
    "# Manually Send Data to S3\n",
    "\n",
    "#### This notebook is simply a portal to manually send data to s3."
   ]
  },
  {
   "cell_type": "code",
   "execution_count": 11,
   "outputs": [],
   "source": [
    "from payfusion.server.payfusion.apps.integrations.aws.s3.tool import s3Instance\n",
    "from payfusion.server.payfusion.apps.integrations.aws.secrets_manager.tool import SMClient\n",
    "from payfusion.server.payfusion.apps.integrations.ukg.tool import UKG"
   ],
   "metadata": {
    "collapsed": false,
    "pycharm": {
     "name": "#%%\n"
    }
   }
  },
  {
   "cell_type": "code",
   "execution_count": 12,
   "outputs": [],
   "source": [
    "sm_client = SMClient()\n",
    "\n",
    "s3_obj = s3Instance()"
   ],
   "metadata": {
    "collapsed": false
   }
  },
  {
   "cell_type": "code",
   "execution_count": 13,
   "outputs": [],
   "source": [
    "### Load Data to be Uploaded"
   ],
   "metadata": {
    "collapsed": false,
    "pycharm": {
     "name": "#%%\n"
    }
   }
  },
  {
   "cell_type": "code",
   "execution_count": 15,
   "outputs": [],
   "source": [
    "plan_mappings_parallel = {\n",
    "    \"Aetna Choice EPO $4200 - Low Plan\": \"Aetna Medical EPO 4200 Low\",\n",
    "    \"Aetna Choice PPO $1000 - High Plan\": \"Aetna Medical PPO 1000 High\",\n",
    "    \"Aetna Choice PPO $2000 - Medium Plan\": \"Aetna Medical PPO 2000 Mid\",\n",
    "    \"CIGNA DPPO\": \"Cigna Dental DPPO Advantage\",\n",
    "    \"CIGNA Vision PPO\": \"Cigna Vision PPO\",\n",
    "}"
   ],
   "metadata": {
    "collapsed": false,
    "pycharm": {
     "name": "#%%\n"
    }
   }
  },
  {
   "cell_type": "code",
   "execution_count": 16,
   "outputs": [],
   "source": [
    "coverage_mappings_parallel = {\n",
    "    \"Employee Only\": \"EE\",\n",
    "    \"Employee + Spouse / Domestic Partner\": \"EE+SPOUSE\",\n",
    "    \"Employee + Child(ren)\": \"EE+CHILDREN\",\n",
    "    \"Employee + Family\": \"EE+FAMILY\"\n",
    "}"
   ],
   "metadata": {
    "collapsed": false,
    "pycharm": {
     "name": "#%%\n"
    }
   }
  },
  {
   "cell_type": "code",
   "execution_count": 17,
   "outputs": [],
   "source": [
    "s3_obj.upload_json(json_=plan_mappings_parallel, bucket=\"greenleafhead\", key=\"parallel/mappings/wex/plan_name_mappings.txt\")"
   ],
   "metadata": {
    "collapsed": false,
    "pycharm": {
     "name": "#%%\n"
    }
   }
  },
  {
   "cell_type": "code",
   "execution_count": 18,
   "outputs": [],
   "source": [
    "s3_obj.upload_json(json_=coverage_mappings_parallel, bucket=\"greenleafhead\", key=\"parallel/mappings/wex/coverage_mappings.txt\")"
   ],
   "metadata": {
    "collapsed": false,
    "pycharm": {
     "name": "#%%\n"
    }
   }
  }
 ],
 "metadata": {
  "kernelspec": {
   "name": "venv",
   "language": "python",
   "display_name": "venv"
  },
  "language_info": {
   "codemirror_mode": {
    "name": "ipython",
    "version": 2
   },
   "file_extension": ".py",
   "mimetype": "text/x-python",
   "name": "python",
   "nbconvert_exporter": "python",
   "pygments_lexer": "ipython2",
   "version": "2.7.6"
  }
 },
 "nbformat": 4,
 "nbformat_minor": 0
}
