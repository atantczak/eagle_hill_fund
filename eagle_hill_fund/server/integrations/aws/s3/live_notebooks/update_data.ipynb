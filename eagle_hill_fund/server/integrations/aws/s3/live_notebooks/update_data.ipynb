{
 "cells": [
  {
   "cell_type": "code",
   "execution_count": 19,
   "outputs": [],
   "source": [
    "from payfusion.server.payfusion.apps.integrations.aws.s3.tool import (\n",
    "    s3Instance,\n",
    ")"
   ],
   "metadata": {
    "collapsed": false
   }
  },
  {
   "cell_type": "code",
   "execution_count": 20,
   "outputs": [],
   "source": [
    "s3_obj = s3Instance()"
   ],
   "metadata": {
    "collapsed": false
   }
  },
  {
   "cell_type": "code",
   "execution_count": 26,
   "outputs": [],
   "source": [
    "plan_mappings = s3_obj.download_json(\n",
    "    \"greenleafhead\",\n",
    "    key=\"oneworld/mappings/wex/plan_mappings.txt\",\n",
    ")\n",
    "coverage_mappings = s3_obj.download_json(\n",
    "    \"greenleafhead\",\n",
    "    key=\"oneworld/mappings/wex/coverage_mappings.txt\",\n",
    ")"
   ],
   "metadata": {
    "collapsed": false
   }
  },
  {
   "cell_type": "code",
   "execution_count": 25,
   "outputs": [],
   "source": [
    "s3_obj.upload_json(json_={}, bucket=\"\", key=\"\")"
   ],
   "metadata": {
    "collapsed": false
   }
  }
 ],
 "metadata": {
  "kernelspec": {
   "display_name": "Python 3",
   "language": "python",
   "name": "python3"
  },
  "language_info": {
   "codemirror_mode": {
    "name": "ipython",
    "version": 2
   },
   "file_extension": ".py",
   "mimetype": "text/x-python",
   "name": "python",
   "nbconvert_exporter": "python",
   "pygments_lexer": "ipython2",
   "version": "2.7.6"
  }
 },
 "nbformat": 4,
 "nbformat_minor": 0
}
