{
 "cells": [
  {
   "cell_type": "code",
   "outputs": [],
   "source": [
    "from eagle_hill_fund.server.integrations.medical_research.pubmed.tool import PubMedTool"
   ],
   "metadata": {
    "collapsed": false,
    "ExecuteTime": {
     "end_time": "2025-01-11T17:31:43.252557Z",
     "start_time": "2025-01-11T17:31:43.059043Z"
    }
   },
   "id": "a889c014bbb5c06d",
   "execution_count": 1
  },
  {
   "cell_type": "code",
   "outputs": [],
   "source": [
    "pubmed_tool = PubMedTool()"
   ],
   "metadata": {
    "collapsed": true,
    "ExecuteTime": {
     "end_time": "2025-01-11T17:31:43.260683Z",
     "start_time": "2025-01-11T17:31:43.254905Z"
    }
   },
   "id": "initial_id",
   "execution_count": 2
  },
  {
   "cell_type": "code",
   "outputs": [],
   "source": [
    "article_results = pubmed_tool.fetch_top_articles_today()"
   ],
   "metadata": {
    "collapsed": false,
    "ExecuteTime": {
     "end_time": "2025-01-11T17:31:43.506598Z",
     "start_time": "2025-01-11T17:31:43.261188Z"
    }
   },
   "id": "c84f80668d374b7f",
   "execution_count": 3
  },
  {
   "cell_type": "code",
   "outputs": [
    {
     "data": {
      "text/plain": "{'header': {'type': 'esearch', 'version': '0.3'},\n 'esearchresult': {'count': '53',\n  'retmax': '10',\n  'retstart': '0',\n  'idlist': ['39743697',\n   '39743696',\n   '39743695',\n   '39743694',\n   '39743693',\n   '39743692',\n   '39743691',\n   '39743690',\n   '39743689',\n   '39743688'],\n  'translationset': [],\n  'querytranslation': '2025/01/11[Date - Publication]',\n  'warninglist': {'phrasesignored': [],\n   'quotedphrasesnotfound': [],\n   'outputmessages': [\"Unknown sort schema 'pub+date' ignored\"]}}}"
     },
     "execution_count": 4,
     "metadata": {},
     "output_type": "execute_result"
    }
   ],
   "source": [
    "article_results.json()"
   ],
   "metadata": {
    "collapsed": false,
    "ExecuteTime": {
     "end_time": "2025-01-11T17:31:43.512610Z",
     "start_time": "2025-01-11T17:31:43.506943Z"
    }
   },
   "id": "1f1b8b64d704d1a4",
   "execution_count": 4
  },
  {
   "cell_type": "code",
   "outputs": [],
   "source": [
    "article_details = pubmed_tool.fetch_article_details(ids=article_results.json()[\"esearchresult\"][\"idlist\"])"
   ],
   "metadata": {
    "collapsed": false,
    "ExecuteTime": {
     "end_time": "2025-01-11T17:31:43.735379Z",
     "start_time": "2025-01-11T17:31:43.512610Z"
    }
   },
   "id": "b9323f921e2ed7c0",
   "execution_count": 5
  },
  {
   "cell_type": "code",
   "outputs": [
    {
     "data": {
      "text/plain": "{'header': {'type': 'esummary', 'version': '0.3'},\n 'result': {'uids': ['39743697',\n   '39743696',\n   '39743695',\n   '39743694',\n   '39743693',\n   '39743692',\n   '39743691',\n   '39743690',\n   '39743689',\n   '39743688'],\n  '39743697': {'uid': '39743697',\n   'pubdate': '2025 Jan 11',\n   'epubdate': '',\n   'source': 'Zhonghua Yan Ke Za Zhi',\n   'authors': [{'name': 'Jin M', 'authtype': 'Author', 'clusterid': ''},\n    {'name': 'Jiang LB', 'authtype': 'Author', 'clusterid': ''}],\n   'lastauthor': 'Jiang LB',\n   'title': '[Research progress on the manifestations prevention and treatment of immune-related adverse events in the neuro-ophthalmic efferent system related to immune checkpoint inhibitors].',\n   'sorttitle': 'research progress on the manifestations prevention and treatment of immune related adverse events in the neuro ophthalmic efferent system related to immune checkpoint inhibitors',\n   'volume': '61',\n   'issue': '1',\n   'pages': '71-76',\n   'lang': ['chi'],\n   'nlmuniqueid': '16210540R',\n   'issn': '0412-4081',\n   'essn': '',\n   'pubtype': ['Journal Article', 'Review'],\n   'recordstatus': 'PubMed - indexed for MEDLINE',\n   'pubstatus': '4',\n   'articleids': [{'idtype': 'pubmed', 'idtypen': 1, 'value': '39743697'},\n    {'idtype': 'doi',\n     'idtypen': 3,\n     'value': '10.3760/cma.j.cn112142-20240117-00030'}],\n   'history': [{'pubstatus': 'medline', 'date': '2025/01/02 06:20'},\n    {'pubstatus': 'pubmed', 'date': '2025/01/02 06:19'},\n    {'pubstatus': 'entrez', 'date': '2025/01/02 00:56'}],\n   'references': [],\n   'attributes': ['Has Abstract'],\n   'pmcrefcount': '',\n   'fulljournalname': '[Zhonghua yan ke za zhi] Chinese journal of ophthalmology',\n   'elocationid': 'doi: 10.3760/cma.j.cn112142-20240117-00030',\n   'doctype': 'citation',\n   'srccontriblist': [],\n   'booktitle': '',\n   'medium': '',\n   'edition': '',\n   'publisherlocation': '',\n   'publishername': '',\n   'srcdate': '',\n   'reportnumber': '',\n   'availablefromurl': '',\n   'locationlabel': '',\n   'doccontriblist': [],\n   'docdate': '',\n   'bookname': '',\n   'chapter': '',\n   'sortpubdate': '2025/01/11 00:00',\n   'sortfirstauthor': 'Jin M',\n   'vernaculartitle': ''},\n  '39743696': {'uid': '39743696',\n   'pubdate': '2025 Jan 11',\n   'epubdate': '',\n   'source': 'Zhonghua Yan Ke Za Zhi',\n   'authors': [{'name': 'Liang J', 'authtype': 'Author', 'clusterid': ''},\n    {'name': 'Fang D', 'authtype': 'Author', 'clusterid': ''},\n    {'name': 'Chen L', 'authtype': 'Author', 'clusterid': ''},\n    {'name': 'Diao YY', 'authtype': 'Author', 'clusterid': ''},\n    {'name': 'Xie T', 'authtype': 'Author', 'clusterid': ''},\n    {'name': 'Zou ZH', 'authtype': 'Author', 'clusterid': ''},\n    {'name': 'Zheng HY', 'authtype': 'Author', 'clusterid': ''},\n    {'name': 'Zhang SC', 'authtype': 'Author', 'clusterid': ''}],\n   'lastauthor': 'Zhang SC',\n   'title': '[Research progress in optogenetic therapy for retinitis pigmentosa].',\n   'sorttitle': 'research progress in optogenetic therapy for retinitis pigmentosa',\n   'volume': '61',\n   'issue': '1',\n   'pages': '66-70',\n   'lang': ['chi'],\n   'nlmuniqueid': '16210540R',\n   'issn': '0412-4081',\n   'essn': '',\n   'pubtype': ['Journal Article', 'Review'],\n   'recordstatus': 'PubMed - indexed for MEDLINE',\n   'pubstatus': '4',\n   'articleids': [{'idtype': 'pubmed', 'idtypen': 1, 'value': '39743696'},\n    {'idtype': 'doi',\n     'idtypen': 3,\n     'value': '10.3760/cma.j.cn112142-20240321-00128'}],\n   'history': [{'pubstatus': 'medline', 'date': '2025/01/02 06:20'},\n    {'pubstatus': 'pubmed', 'date': '2025/01/02 06:19'},\n    {'pubstatus': 'entrez', 'date': '2025/01/02 00:56'}],\n   'references': [],\n   'attributes': ['Has Abstract'],\n   'pmcrefcount': '',\n   'fulljournalname': '[Zhonghua yan ke za zhi] Chinese journal of ophthalmology',\n   'elocationid': 'doi: 10.3760/cma.j.cn112142-20240321-00128',\n   'doctype': 'citation',\n   'srccontriblist': [],\n   'booktitle': '',\n   'medium': '',\n   'edition': '',\n   'publisherlocation': '',\n   'publishername': '',\n   'srcdate': '',\n   'reportnumber': '',\n   'availablefromurl': '',\n   'locationlabel': '',\n   'doccontriblist': [],\n   'docdate': '',\n   'bookname': '',\n   'chapter': '',\n   'sortpubdate': '2025/01/11 00:00',\n   'sortfirstauthor': 'Liang J',\n   'vernaculartitle': ''},\n  '39743695': {'uid': '39743695',\n   'pubdate': '2025 Jan 11',\n   'epubdate': '',\n   'source': 'Zhonghua Yan Ke Za Zhi',\n   'authors': [{'name': 'Wang Q', 'authtype': 'Author', 'clusterid': ''},\n    {'name': 'Zeng F', 'authtype': 'Author', 'clusterid': ''},\n    {'name': 'Wei C', 'authtype': 'Author', 'clusterid': ''}],\n   'lastauthor': 'Wei C',\n   'title': '[Methotrexate therapy for primary intraocular lymphoma: a case report].',\n   'sorttitle': 'methotrexate therapy for primary intraocular lymphoma a case report',\n   'volume': '61',\n   'issue': '1',\n   'pages': '61-64',\n   'lang': ['chi'],\n   'nlmuniqueid': '16210540R',\n   'issn': '0412-4081',\n   'essn': '',\n   'pubtype': ['Journal Article'],\n   'recordstatus': 'PubMed - indexed for MEDLINE',\n   'pubstatus': '4',\n   'articleids': [{'idtype': 'pubmed', 'idtypen': 1, 'value': '39743695'},\n    {'idtype': 'doi',\n     'idtypen': 3,\n     'value': '10.3760/cma.j.cn112142-20240308-00102'}],\n   'history': [{'pubstatus': 'medline', 'date': '2025/01/02 06:20'},\n    {'pubstatus': 'pubmed', 'date': '2025/01/02 06:19'},\n    {'pubstatus': 'entrez', 'date': '2025/01/02 00:56'}],\n   'references': [],\n   'attributes': ['Has Abstract'],\n   'pmcrefcount': '',\n   'fulljournalname': '[Zhonghua yan ke za zhi] Chinese journal of ophthalmology',\n   'elocationid': 'doi: 10.3760/cma.j.cn112142-20240308-00102',\n   'doctype': 'citation',\n   'srccontriblist': [],\n   'booktitle': '',\n   'medium': '',\n   'edition': '',\n   'publisherlocation': '',\n   'publishername': '',\n   'srcdate': '',\n   'reportnumber': '',\n   'availablefromurl': '',\n   'locationlabel': '',\n   'doccontriblist': [],\n   'docdate': '',\n   'bookname': '',\n   'chapter': '',\n   'sortpubdate': '2025/01/11 00:00',\n   'sortfirstauthor': 'Wang Q',\n   'vernaculartitle': ''},\n  '39743694': {'uid': '39743694',\n   'pubdate': '2025 Jan 11',\n   'epubdate': '',\n   'source': 'Zhonghua Yan Ke Za Zhi',\n   'authors': [{'name': 'Long Z', 'authtype': 'Author', 'clusterid': ''},\n    {'name': 'Li MS', 'authtype': 'Author', 'clusterid': ''}],\n   'lastauthor': 'Li MS',\n   'title': '[Peripheral ulcerative keratitis associated with dupilumab: a case report].',\n   'sorttitle': 'peripheral ulcerative keratitis associated with dupilumab a case report',\n   'volume': '61',\n   'issue': '1',\n   'pages': '56-60',\n   'lang': ['chi'],\n   'nlmuniqueid': '16210540R',\n   'issn': '0412-4081',\n   'essn': '',\n   'pubtype': ['Journal Article'],\n   'recordstatus': 'PubMed - indexed for MEDLINE',\n   'pubstatus': '4',\n   'articleids': [{'idtype': 'pubmed', 'idtypen': 1, 'value': '39743694'},\n    {'idtype': 'doi',\n     'idtypen': 3,\n     'value': '10.3760/cma.j.cn112142-20240403-00157'}],\n   'history': [{'pubstatus': 'medline', 'date': '2025/01/02 06:20'},\n    {'pubstatus': 'pubmed', 'date': '2025/01/02 06:19'},\n    {'pubstatus': 'entrez', 'date': '2025/01/02 00:56'}],\n   'references': [],\n   'attributes': ['Has Abstract'],\n   'pmcrefcount': '',\n   'fulljournalname': '[Zhonghua yan ke za zhi] Chinese journal of ophthalmology',\n   'elocationid': 'doi: 10.3760/cma.j.cn112142-20240403-00157',\n   'doctype': 'citation',\n   'srccontriblist': [],\n   'booktitle': '',\n   'medium': '',\n   'edition': '',\n   'publisherlocation': '',\n   'publishername': '',\n   'srcdate': '',\n   'reportnumber': '',\n   'availablefromurl': '',\n   'locationlabel': '',\n   'doccontriblist': [],\n   'docdate': '',\n   'bookname': '',\n   'chapter': '',\n   'sortpubdate': '2025/01/11 00:00',\n   'sortfirstauthor': 'Long Z',\n   'vernaculartitle': ''},\n  '39743693': {'uid': '39743693',\n   'pubdate': '2025 Jan 11',\n   'epubdate': '',\n   'source': 'Zhonghua Yan Ke Za Zhi',\n   'authors': [{'name': 'Wu X', 'authtype': 'Author', 'clusterid': ''},\n    {'name': 'Wang K', 'authtype': 'Author', 'clusterid': ''},\n    {'name': 'Han YS', 'authtype': 'Author', 'clusterid': ''},\n    {'name': 'Liu ZH', 'authtype': 'Author', 'clusterid': ''}],\n   'lastauthor': 'Liu ZH',\n   'title': '[Visual bibliometric analysis of the research status and hotspots of endophthalmitis in the past decade].',\n   'sorttitle': 'visual bibliometric analysis of the research status and hotspots of endophthalmitis in the past decade',\n   'volume': '61',\n   'issue': '1',\n   'pages': '47-55',\n   'lang': ['chi'],\n   'nlmuniqueid': '16210540R',\n   'issn': '0412-4081',\n   'essn': '',\n   'pubtype': ['Journal Article'],\n   'recordstatus': 'PubMed - indexed for MEDLINE',\n   'pubstatus': '4',\n   'articleids': [{'idtype': 'pubmed', 'idtypen': 1, 'value': '39743693'},\n    {'idtype': 'doi',\n     'idtypen': 3,\n     'value': '10.3760/cma.j.cn112142-20240701-00288'}],\n   'history': [{'pubstatus': 'medline', 'date': '2025/01/02 06:20'},\n    {'pubstatus': 'pubmed', 'date': '2025/01/02 06:19'},\n    {'pubstatus': 'entrez', 'date': '2025/01/02 00:56'}],\n   'references': [],\n   'attributes': ['Has Abstract'],\n   'pmcrefcount': '',\n   'fulljournalname': '[Zhonghua yan ke za zhi] Chinese journal of ophthalmology',\n   'elocationid': 'doi: 10.3760/cma.j.cn112142-20240701-00288',\n   'doctype': 'citation',\n   'srccontriblist': [],\n   'booktitle': '',\n   'medium': '',\n   'edition': '',\n   'publisherlocation': '',\n   'publishername': '',\n   'srcdate': '',\n   'reportnumber': '',\n   'availablefromurl': '',\n   'locationlabel': '',\n   'doccontriblist': [],\n   'docdate': '',\n   'bookname': '',\n   'chapter': '',\n   'sortpubdate': '2025/01/11 00:00',\n   'sortfirstauthor': 'Wu X',\n   'vernaculartitle': ''},\n  '39743692': {'uid': '39743692',\n   'pubdate': '2025 Jan 11',\n   'epubdate': '',\n   'source': 'Zhonghua Yan Ke Za Zhi',\n   'authors': [{'name': 'Chen XR', 'authtype': 'Author', 'clusterid': ''},\n    {'name': 'Zhao GL', 'authtype': 'Author', 'clusterid': ''},\n    {'name': 'Wei YC', 'authtype': 'Author', 'clusterid': ''}],\n   'lastauthor': 'Wei YC',\n   'title': '[Preliminary clinical observation of ocular biological parameters in transfusion-dependent β-thalassemia children].',\n   'sorttitle': 'preliminary clinical observation of ocular biological parameters in transfusion dependent thalassemia children',\n   'volume': '61',\n   'issue': '1',\n   'pages': '40-46',\n   'lang': ['chi'],\n   'nlmuniqueid': '16210540R',\n   'issn': '0412-4081',\n   'essn': '',\n   'pubtype': ['Journal Article'],\n   'recordstatus': 'PubMed - indexed for MEDLINE',\n   'pubstatus': '4',\n   'articleids': [{'idtype': 'pubmed', 'idtypen': 1, 'value': '39743692'},\n    {'idtype': 'doi',\n     'idtypen': 3,\n     'value': '10.3760/cma.j.cn112142-20240704-00292'}],\n   'history': [{'pubstatus': 'medline', 'date': '2025/01/02 06:20'},\n    {'pubstatus': 'pubmed', 'date': '2025/01/02 06:19'},\n    {'pubstatus': 'entrez', 'date': '2025/01/02 00:56'}],\n   'references': [],\n   'attributes': ['Has Abstract'],\n   'pmcrefcount': '',\n   'fulljournalname': '[Zhonghua yan ke za zhi] Chinese journal of ophthalmology',\n   'elocationid': 'doi: 10.3760/cma.j.cn112142-20240704-00292',\n   'doctype': 'citation',\n   'srccontriblist': [],\n   'booktitle': '',\n   'medium': '',\n   'edition': '',\n   'publisherlocation': '',\n   'publishername': '',\n   'srcdate': '',\n   'reportnumber': '',\n   'availablefromurl': '',\n   'locationlabel': '',\n   'doccontriblist': [],\n   'docdate': '',\n   'bookname': '',\n   'chapter': '',\n   'sortpubdate': '2025/01/11 00:00',\n   'sortfirstauthor': 'Chen XR',\n   'vernaculartitle': ''},\n  '39743691': {'uid': '39743691',\n   'pubdate': '2025 Jan 11',\n   'epubdate': '',\n   'source': 'Zhonghua Yan Ke Za Zhi',\n   'authors': [{'name': 'Zeng Z', 'authtype': 'Author', 'clusterid': ''},\n    {'name': 'Wei ZM', 'authtype': 'Author', 'clusterid': ''},\n    {'name': 'Zeng YS', 'authtype': 'Author', 'clusterid': ''},\n    {'name': 'Ding RR', 'authtype': 'Author', 'clusterid': ''},\n    {'name': 'Hu JJ', 'authtype': 'Author', 'clusterid': ''},\n    {'name': 'Jiang ZX', 'authtype': 'Author', 'clusterid': ''},\n    {'name': 'Yu JG', 'authtype': 'Author', 'clusterid': ''},\n    {'name': 'Zhang BS', 'authtype': 'Author', 'clusterid': ''},\n    {'name': 'You CY', 'authtype': 'Author', 'clusterid': ''},\n    {'name': 'Yan H', 'authtype': 'Author', 'clusterid': ''}],\n   'lastauthor': 'Yan H',\n   'title': '[Clinical analysis of Tolosa-Hunt syndrome].',\n   'sorttitle': 'clinical analysis of tolosa hunt syndrome',\n   'volume': '61',\n   'issue': '1',\n   'pages': '34-39',\n   'lang': ['chi'],\n   'nlmuniqueid': '16210540R',\n   'issn': '0412-4081',\n   'essn': '',\n   'pubtype': ['Journal Article'],\n   'recordstatus': 'PubMed - indexed for MEDLINE',\n   'pubstatus': '4',\n   'articleids': [{'idtype': 'pubmed', 'idtypen': 1, 'value': '39743691'},\n    {'idtype': 'doi',\n     'idtypen': 3,\n     'value': '10.3760/cma.j.cn112142-20240507-00210'}],\n   'history': [{'pubstatus': 'medline', 'date': '2025/01/02 06:20'},\n    {'pubstatus': 'pubmed', 'date': '2025/01/02 06:19'},\n    {'pubstatus': 'entrez', 'date': '2025/01/02 00:56'}],\n   'references': [],\n   'attributes': ['Has Abstract'],\n   'pmcrefcount': '',\n   'fulljournalname': '[Zhonghua yan ke za zhi] Chinese journal of ophthalmology',\n   'elocationid': 'doi: 10.3760/cma.j.cn112142-20240507-00210',\n   'doctype': 'citation',\n   'srccontriblist': [],\n   'booktitle': '',\n   'medium': '',\n   'edition': '',\n   'publisherlocation': '',\n   'publishername': '',\n   'srcdate': '',\n   'reportnumber': '',\n   'availablefromurl': '',\n   'locationlabel': '',\n   'doccontriblist': [],\n   'docdate': '',\n   'bookname': '',\n   'chapter': '',\n   'sortpubdate': '2025/01/11 00:00',\n   'sortfirstauthor': 'Zeng Z',\n   'vernaculartitle': ''},\n  '39743690': {'uid': '39743690',\n   'pubdate': '2025 Jan 11',\n   'epubdate': '',\n   'source': 'Zhonghua Yan Ke Za Zhi',\n   'authors': [{'name': 'Ding YC', 'authtype': 'Author', 'clusterid': ''},\n    {'name': 'Jiang MM', 'authtype': 'Author', 'clusterid': ''},\n    {'name': 'Xie FJ', 'authtype': 'Author', 'clusterid': ''},\n    {'name': 'Wan XM', 'authtype': 'Author', 'clusterid': ''},\n    {'name': 'Zhang J', 'authtype': 'Author', 'clusterid': ''},\n    {'name': 'Su WJ', 'authtype': 'Author', 'clusterid': ''},\n    {'name': 'Kong L', 'authtype': 'Author', 'clusterid': ''},\n    {'name': 'Ma WH', 'authtype': 'Author', 'clusterid': ''},\n    {'name': 'Xie LX', 'authtype': 'Author', 'clusterid': ''},\n    {'name': 'Huang YS', 'authtype': 'Author', 'clusterid': ''}],\n   'lastauthor': 'Huang YS',\n   'title': '[Cataracts extraction combined with multifocal intraocular lens optic implantation in Berger space in school-age children with cataracts].',\n   'sorttitle': 'cataracts extraction combined with multifocal intraocular lens optic implantation in berger space in school age children with cataracts',\n   'volume': '61',\n   'issue': '1',\n   'pages': '27-33',\n   'lang': ['chi'],\n   'nlmuniqueid': '16210540R',\n   'issn': '0412-4081',\n   'essn': '',\n   'pubtype': ['Journal Article'],\n   'recordstatus': 'PubMed - indexed for MEDLINE',\n   'pubstatus': '4',\n   'articleids': [{'idtype': 'pubmed', 'idtypen': 1, 'value': '39743690'},\n    {'idtype': 'doi',\n     'idtypen': 3,\n     'value': '10.3760/cma.j.cn112142-20240105-00011'}],\n   'history': [{'pubstatus': 'medline', 'date': '2025/01/02 06:20'},\n    {'pubstatus': 'pubmed', 'date': '2025/01/02 06:19'},\n    {'pubstatus': 'entrez', 'date': '2025/01/02 00:56'}],\n   'references': [],\n   'attributes': ['Has Abstract'],\n   'pmcrefcount': '',\n   'fulljournalname': '[Zhonghua yan ke za zhi] Chinese journal of ophthalmology',\n   'elocationid': 'doi: 10.3760/cma.j.cn112142-20240105-00011',\n   'doctype': 'citation',\n   'srccontriblist': [],\n   'booktitle': '',\n   'medium': '',\n   'edition': '',\n   'publisherlocation': '',\n   'publishername': '',\n   'srcdate': '',\n   'reportnumber': '',\n   'availablefromurl': '',\n   'locationlabel': '',\n   'doccontriblist': [],\n   'docdate': '',\n   'bookname': '',\n   'chapter': '',\n   'sortpubdate': '2025/01/11 00:00',\n   'sortfirstauthor': 'Ding YC',\n   'vernaculartitle': ''},\n  '39743689': {'uid': '39743689',\n   'pubdate': '2025 Jan 11',\n   'epubdate': '',\n   'source': 'Zhonghua Yan Ke Za Zhi',\n   'authors': [{'name': 'Ding J', 'authtype': 'Author', 'clusterid': ''},\n    {'name': 'Zhang TY', 'authtype': 'Author', 'clusterid': ''},\n    {'name': 'Li YP', 'authtype': 'Author', 'clusterid': ''},\n    {'name': 'Zhang W', 'authtype': 'Author', 'clusterid': ''}],\n   'lastauthor': 'Zhang W',\n   'title': '[Efficacy of modified nasal transposition of the split lateral rectus muscle for large-angle exotropia from oculomotor nerve palsy].',\n   'sorttitle': 'efficacy of modified nasal transposition of the split lateral rectus muscle for large angle exotropia from oculomotor nerve palsy',\n   'volume': '61',\n   'issue': '1',\n   'pages': '18-26',\n   'lang': ['chi'],\n   'nlmuniqueid': '16210540R',\n   'issn': '0412-4081',\n   'essn': '',\n   'pubtype': ['Journal Article'],\n   'recordstatus': 'PubMed - indexed for MEDLINE',\n   'pubstatus': '4',\n   'articleids': [{'idtype': 'pubmed', 'idtypen': 1, 'value': '39743689'},\n    {'idtype': 'doi',\n     'idtypen': 3,\n     'value': '10.3760/cma.j.cn112142-20240408-00166'}],\n   'history': [{'pubstatus': 'medline', 'date': '2025/01/02 06:20'},\n    {'pubstatus': 'pubmed', 'date': '2025/01/02 06:19'},\n    {'pubstatus': 'entrez', 'date': '2025/01/02 00:56'}],\n   'references': [],\n   'attributes': ['Has Abstract'],\n   'pmcrefcount': '',\n   'fulljournalname': '[Zhonghua yan ke za zhi] Chinese journal of ophthalmology',\n   'elocationid': 'doi: 10.3760/cma.j.cn112142-20240408-00166',\n   'doctype': 'citation',\n   'srccontriblist': [],\n   'booktitle': '',\n   'medium': '',\n   'edition': '',\n   'publisherlocation': '',\n   'publishername': '',\n   'srcdate': '',\n   'reportnumber': '',\n   'availablefromurl': '',\n   'locationlabel': '',\n   'doccontriblist': [],\n   'docdate': '',\n   'bookname': '',\n   'chapter': '',\n   'sortpubdate': '2025/01/11 00:00',\n   'sortfirstauthor': 'Ding J',\n   'vernaculartitle': ''},\n  '39743688': {'uid': '39743688',\n   'pubdate': '2025 Jan 11',\n   'epubdate': '',\n   'source': 'Zhonghua Yan Ke Za Zhi',\n   'authors': [{'name': 'Liu H', 'authtype': 'Author', 'clusterid': ''},\n    {'name': 'Li TX', 'authtype': 'Author', 'clusterid': ''}],\n   'lastauthor': 'Li TX',\n   'title': '[Paying attention to problems and countermeasures in intermittent exotropia surgery].',\n   'sorttitle': 'paying attention to problems and countermeasures in intermittent exotropia surgery',\n   'volume': '61',\n   'issue': '1',\n   'pages': '12-17',\n   'lang': ['chi'],\n   'nlmuniqueid': '16210540R',\n   'issn': '0412-4081',\n   'essn': '',\n   'pubtype': ['Journal Article'],\n   'recordstatus': 'PubMed - indexed for MEDLINE',\n   'pubstatus': '4',\n   'articleids': [{'idtype': 'pubmed', 'idtypen': 1, 'value': '39743688'},\n    {'idtype': 'doi',\n     'idtypen': 3,\n     'value': '10.3760/cma.j.cn112142-20240809-00344'}],\n   'history': [{'pubstatus': 'medline', 'date': '2025/01/02 06:20'},\n    {'pubstatus': 'pubmed', 'date': '2025/01/02 06:19'},\n    {'pubstatus': 'entrez', 'date': '2025/01/02 00:56'}],\n   'references': [],\n   'attributes': ['Has Abstract'],\n   'pmcrefcount': '',\n   'fulljournalname': '[Zhonghua yan ke za zhi] Chinese journal of ophthalmology',\n   'elocationid': 'doi: 10.3760/cma.j.cn112142-20240809-00344',\n   'doctype': 'citation',\n   'srccontriblist': [],\n   'booktitle': '',\n   'medium': '',\n   'edition': '',\n   'publisherlocation': '',\n   'publishername': '',\n   'srcdate': '',\n   'reportnumber': '',\n   'availablefromurl': '',\n   'locationlabel': '',\n   'doccontriblist': [],\n   'docdate': '',\n   'bookname': '',\n   'chapter': '',\n   'sortpubdate': '2025/01/11 00:00',\n   'sortfirstauthor': 'Liu H',\n   'vernaculartitle': ''}}}"
     },
     "execution_count": 6,
     "metadata": {},
     "output_type": "execute_result"
    }
   ],
   "source": [
    "article_details.json()"
   ],
   "metadata": {
    "collapsed": false,
    "ExecuteTime": {
     "end_time": "2025-01-11T17:31:43.745591Z",
     "start_time": "2025-01-11T17:31:43.742127Z"
    }
   },
   "id": "17b7d23ea7741e63",
   "execution_count": 6
  },
  {
   "cell_type": "code",
   "outputs": [],
   "source": [
    "article_text = pubmed_tool.fetch_article_text(article_id=\"39743688\")"
   ],
   "metadata": {
    "collapsed": false,
    "ExecuteTime": {
     "end_time": "2025-01-11T17:31:43.835686Z",
     "start_time": "2025-01-11T17:31:43.745629Z"
    }
   },
   "id": "7e7695324369fa94",
   "execution_count": 7
  },
  {
   "cell_type": "code",
   "outputs": [
    {
     "data": {
      "text/plain": "39743688"
     },
     "execution_count": 8,
     "metadata": {},
     "output_type": "execute_result"
    }
   ],
   "source": [
    "article_text.json()"
   ],
   "metadata": {
    "collapsed": false,
    "ExecuteTime": {
     "end_time": "2025-01-11T17:31:43.840001Z",
     "start_time": "2025-01-11T17:31:43.836361Z"
    }
   },
   "id": "5df111ac658892f4",
   "execution_count": 8
  },
  {
   "cell_type": "code",
   "outputs": [],
   "source": [],
   "metadata": {
    "collapsed": false,
    "ExecuteTime": {
     "end_time": "2025-01-11T17:31:43.841926Z",
     "start_time": "2025-01-11T17:31:43.838827Z"
    }
   },
   "id": "8ffc0f3b87c4ebf1",
   "execution_count": 8
  }
 ],
 "metadata": {
  "kernelspec": {
   "display_name": "Python 3",
   "language": "python",
   "name": "python3"
  },
  "language_info": {
   "codemirror_mode": {
    "name": "ipython",
    "version": 2
   },
   "file_extension": ".py",
   "mimetype": "text/x-python",
   "name": "python",
   "nbconvert_exporter": "python",
   "pygments_lexer": "ipython2",
   "version": "2.7.6"
  }
 },
 "nbformat": 4,
 "nbformat_minor": 5
}
