{
 "cells": [
  {
   "cell_type": "code",
   "execution_count": null,
   "id": "8915b565",
   "metadata": {},
   "outputs": [],
   "source": [
    "from eagle_hill_fund.server.integrations.financial.financial_modeling_prep.price_data.tool import FMPPriceDataTool\n",
    "from eagle_hill_fund.server.integrations.financial.financial_modeling_prep.tool import FinancialModelingPrepTool"
   ]
  },
  {
   "cell_type": "code",
   "execution_count": null,
   "id": "0b61bc9a",
   "metadata": {},
   "outputs": [],
   "source": [
    "fmp_tool = FMPPriceDataTool()"
   ]
  },
  {
   "cell_type": "code",
   "execution_count": null,
   "id": "0666f8b7",
   "metadata": {},
   "outputs": [],
   "source": [
    "fmp_tool.get_intraday_prices(\n",
    "    symbol=\"PLTR\"\n",
    ")"
   ]
  },
  {
   "cell_type": "code",
   "execution_count": null,
   "id": "3a647d80",
   "metadata": {},
   "outputs": [],
   "source": []
  }
 ],
 "metadata": {
  "kernelspec": {
   "display_name": ".venv",
   "language": "python",
   "name": "python3"
  },
  "language_info": {
   "codemirror_mode": {
    "name": "ipython",
    "version": 3
   },
   "file_extension": ".py",
   "mimetype": "text/x-python",
   "name": "python",
   "nbconvert_exporter": "python",
   "pygments_lexer": "ipython3",
   "version": "3.11.11"
  }
 },
 "nbformat": 4,
 "nbformat_minor": 5
}
