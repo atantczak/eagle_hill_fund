{
 "cells": [
  {
   "cell_type": "code",
   "execution_count": 1,
   "id": "8915b565",
   "metadata": {},
   "outputs": [],
   "source": [
    "from eagle_hill_fund.server.integrations.financial.financial_modeling_prep.price_data.tool import FMPPriceDataTool\n",
    "from eagle_hill_fund.server.integrations.financial.financial_modeling_prep.tool import FinancialModelingPrepTool"
   ]
  },
  {
   "cell_type": "code",
   "execution_count": 2,
   "id": "0b61bc9a",
   "metadata": {},
   "outputs": [],
   "source": [
    "fmp_tool = FMPPriceDataTool()"
   ]
  },
  {
   "cell_type": "code",
   "execution_count": 14,
   "id": "0666f8b7",
   "metadata": {},
   "outputs": [
    {
     "data": {
      "text/plain": [
       "{'symbol': 'AAPL',\n",
       " 'date': '2001-05-01',\n",
       " 'open': 0.45375,\n",
       " 'high': 0.47321,\n",
       " 'low': 0.45,\n",
       " 'close': 0.46304,\n",
       " 'volume': 427319568,\n",
       " 'change': 0.009285,\n",
       " 'changePercent': 2.05,\n",
       " 'vwap': 0.46}"
      ]
     },
     "execution_count": 14,
     "metadata": {},
     "output_type": "execute_result"
    }
   ],
   "source": [
    "fmp_tool.get_daily_prices(\n",
    "    symbol=\"AAPL\", from_date=\"2001-05-01\", to_date=\"2013-06-05\"\n",
    ")[-1]"
   ]
  },
  {
   "cell_type": "code",
   "execution_count": null,
   "id": "3a647d80",
   "metadata": {},
   "outputs": [],
   "source": []
  }
 ],
 "metadata": {
  "kernelspec": {
   "display_name": ".venv",
   "language": "python",
   "name": "python3"
  },
  "language_info": {
   "codemirror_mode": {
    "name": "ipython",
    "version": 3
   },
   "file_extension": ".py",
   "mimetype": "text/x-python",
   "name": "python",
   "nbconvert_exporter": "python",
   "pygments_lexer": "ipython3",
   "version": "3.11.11"
  }
 },
 "nbformat": 4,
 "nbformat_minor": 5
}
