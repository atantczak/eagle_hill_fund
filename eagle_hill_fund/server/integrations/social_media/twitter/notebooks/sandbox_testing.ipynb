{
 "cells": [
  {
   "cell_type": "code",
   "execution_count": 1,
   "id": "initial_id",
   "metadata": {
    "collapsed": true,
    "ExecuteTime": {
     "end_time": "2025-01-11T20:23:46.043187Z",
     "start_time": "2025-01-11T20:23:45.852353Z"
    }
   },
   "outputs": [],
   "source": [
    "from eagle_hill_fund.server.integrations.social_media.twitter.tool import TwitterClient"
   ]
  },
  {
   "cell_type": "code",
   "outputs": [
    {
     "name": "stdout",
     "output_type": "stream",
     "text": [
      "Authenticated with Twitter API v2.\n"
     ]
    }
   ],
   "source": [
    "twitter_client = TwitterClient()"
   ],
   "metadata": {
    "collapsed": false,
    "ExecuteTime": {
     "end_time": "2025-01-11T20:23:46.053527Z",
     "start_time": "2025-01-11T20:23:46.047717Z"
    }
   },
   "id": "e1ac0e967d016c81",
   "execution_count": 2
  },
  {
   "cell_type": "code",
   "outputs": [
    {
     "name": "stdout",
     "output_type": "stream",
     "text": [
      "Failed to post tweet: 401 Unauthorized\n",
      "Unauthorized\n"
     ]
    }
   ],
   "source": [
    "twitter_client.post_tweet(content=\"Hello World!\")"
   ],
   "metadata": {
    "collapsed": false,
    "ExecuteTime": {
     "end_time": "2025-01-11T20:23:46.201566Z",
     "start_time": "2025-01-11T20:23:46.054475Z"
    }
   },
   "id": "d0776cc6f636027f",
   "execution_count": 3
  },
  {
   "cell_type": "code",
   "outputs": [],
   "source": [],
   "metadata": {
    "collapsed": false,
    "ExecuteTime": {
     "end_time": "2025-01-11T20:23:46.202957Z",
     "start_time": "2025-01-11T20:23:46.201566Z"
    }
   },
   "id": "fe3cd8ae7db07f75",
   "execution_count": 3
  }
 ],
 "metadata": {
  "kernelspec": {
   "display_name": "Python 3",
   "language": "python",
   "name": "python3"
  },
  "language_info": {
   "codemirror_mode": {
    "name": "ipython",
    "version": 2
   },
   "file_extension": ".py",
   "mimetype": "text/x-python",
   "name": "python",
   "nbconvert_exporter": "python",
   "pygments_lexer": "ipython2",
   "version": "2.7.6"
  }
 },
 "nbformat": 4,
 "nbformat_minor": 5
}
